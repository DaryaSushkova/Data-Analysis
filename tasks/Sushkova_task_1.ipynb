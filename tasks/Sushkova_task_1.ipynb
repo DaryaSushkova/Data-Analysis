{
  "nbformat": 4,
  "nbformat_minor": 0,
  "metadata": {
    "colab": {
      "provenance": [],
      "collapsed_sections": []
    },
    "kernelspec": {
      "name": "python3",
      "display_name": "Python 3"
    },
    "language_info": {
      "name": "python"
    }
  },
  "cells": [
    {
      "cell_type": "markdown",
      "source": [
        "## Sushkova Darya Sergeevna, BPI204\n",
        "*All explanations and conclusions are in the output of the print() code"
      ],
      "metadata": {
        "id": "ONT7ob4aw7zI"
      }
    },
    {
      "cell_type": "code",
      "execution_count": null,
      "metadata": {
        "id": "EUgjb6Y6wzrf"
      },
      "outputs": [],
      "source": [
        "%matplotlib inline\n",
        "import numpy as np\n",
        "import pandas as pd\n",
        "import matplotlib.pyplot as plt\n",
        "import seaborn as sns"
      ]
    },
    {
      "cell_type": "markdown",
      "source": [
        "Task 1.1."
      ],
      "metadata": {
        "id": "8SxelBDoxmRP"
      }
    },
    {
      "cell_type": "code",
      "source": [
        "def find_product(a, r, N):\n",
        "    previous = a\n",
        "    arr_product = [a]\n",
        "    for i in range(1, N):\n",
        "      previous *= r\n",
        "      arr_product.append(previous)\n",
        "    return arr_product\n",
        "\n",
        "a = 2\n",
        "r = 3\n",
        "N = 3\n",
        "print(find_product(a,r,N))"
      ],
      "metadata": {
        "colab": {
          "base_uri": "https://localhost:8080/"
        },
        "id": "0RDa1BxsxyDM",
        "outputId": "0e7c9221-d8d7-48a0-d9a8-7f2cea498159"
      },
      "execution_count": 134,
      "outputs": [
        {
          "output_type": "stream",
          "name": "stdout",
          "text": [
            "[2, 6, 18]\n"
          ]
        }
      ]
    },
    {
      "cell_type": "markdown",
      "source": [
        "Task 1.2."
      ],
      "metadata": {
        "id": "xxNYEOux1usV"
      }
    },
    {
      "cell_type": "code",
      "source": [
        "def check_palindrome(N):\n",
        "    start_num = N;\n",
        "    new_num = 0;\n",
        "    while (N !=0):\n",
        "      new_num = new_num * 10 + N % 10\n",
        "      N //= 10\n",
        "    check_palindrome = (start_num == new_num)\n",
        "    return check_palindrome\n",
        "\n",
        "for N in [3, 81, 111, 113, 810, 2022, 4774, 51315, 611816]:\n",
        "    print(N, check_palindrome(N))"
      ],
      "metadata": {
        "colab": {
          "base_uri": "https://localhost:8080/"
        },
        "id": "dwuapKja1uD_",
        "outputId": "dc129e53-8c26-4d88-e40e-43f319565df1"
      },
      "execution_count": 135,
      "outputs": [
        {
          "output_type": "stream",
          "name": "stdout",
          "text": [
            "3 True\n",
            "81 False\n",
            "111 True\n",
            "113 False\n",
            "810 False\n",
            "2022 False\n",
            "4774 True\n",
            "51315 True\n",
            "611816 False\n"
          ]
        }
      ]
    },
    {
      "cell_type": "markdown",
      "source": [
        "Task 1.3."
      ],
      "metadata": {
        "id": "JTeWfLL0Grd7"
      }
    },
    {
      "cell_type": "code",
      "source": [
        "def find_palindromes(N):\n",
        "    count = 0\n",
        "    num = 1001  # We start with 1001, since 1000 is not a palindrome.\n",
        "    palindromes = []\n",
        "    while (count != N):\n",
        "      if check_palindrome(num):\n",
        "        palindromes.append(num)\n",
        "        count += 1\n",
        "      num += 1\n",
        "    return palindromes\n",
        "\n",
        "print(find_palindromes(5))\n",
        "print(find_palindromes(10))\n",
        "print(find_palindromes(20))"
      ],
      "metadata": {
        "colab": {
          "base_uri": "https://localhost:8080/"
        },
        "id": "bgCUHLA_Gto_",
        "outputId": "cfcf41a6-858f-4e7e-8e91-64716bbd7513"
      },
      "execution_count": 137,
      "outputs": [
        {
          "output_type": "stream",
          "name": "stdout",
          "text": [
            "[1001, 1111, 1221, 1331, 1441]\n",
            "[1001, 1111, 1221, 1331, 1441, 1551, 1661, 1771, 1881, 1991]\n",
            "[1001, 1111, 1221, 1331, 1441, 1551, 1661, 1771, 1881, 1991, 2002, 2112, 2222, 2332, 2442, 2552, 2662, 2772, 2882, 2992]\n"
          ]
        }
      ]
    },
    {
      "cell_type": "markdown",
      "source": [
        "Task 1.4."
      ],
      "metadata": {
        "id": "dDjk_9FeMrku"
      }
    },
    {
      "cell_type": "code",
      "source": [
        "from random import randint\n",
        "\n",
        "def find_min(a, b, c):\n",
        "    if b >= a <= c:\n",
        "      min_ = a\n",
        "    elif a >= b <= c:\n",
        "      min_ = b\n",
        "    else:\n",
        "      min_ = c\n",
        "    return min_\n",
        "\n",
        "for i in range(10):\n",
        "    \n",
        "    a = randint(-100, 100)\n",
        "    b = randint(-100, 100)\n",
        "    c = randint(-100, 100)\n",
        "    \n",
        "    print(a, b, c, '\\tMinimum:', find_min(a, b, c))"
      ],
      "metadata": {
        "colab": {
          "base_uri": "https://localhost:8080/"
        },
        "id": "vxsubj54Mtdf",
        "outputId": "1906478e-98f0-4a22-e45a-e58da925f993"
      },
      "execution_count": 138,
      "outputs": [
        {
          "output_type": "stream",
          "name": "stdout",
          "text": [
            "68 -49 60 \tMinimum: -49\n",
            "0 -87 -8 \tMinimum: -87\n",
            "56 37 88 \tMinimum: 37\n",
            "13 -50 -29 \tMinimum: -50\n",
            "28 -12 25 \tMinimum: -12\n",
            "7 -98 -8 \tMinimum: -98\n",
            "-63 28 84 \tMinimum: -63\n",
            "-84 14 67 \tMinimum: -84\n",
            "30 80 -77 \tMinimum: -77\n",
            "-39 -20 15 \tMinimum: -39\n"
          ]
        }
      ]
    },
    {
      "cell_type": "markdown",
      "source": [
        "Task 2.1."
      ],
      "metadata": {
        "id": "eNtjTuu1WySI"
      }
    },
    {
      "cell_type": "code",
      "source": [
        "my_array = np.random.rand(17)\n",
        "my_array = my_array * 6 / np.sum(my_array)\n",
        "print(f'Length: {len(my_array)}')\n",
        "print(f'Sum of elements: {np.sum(my_array)}')"
      ],
      "metadata": {
        "id": "nOIvPh8PW0w2",
        "colab": {
          "base_uri": "https://localhost:8080/"
        },
        "outputId": "c484a047-0854-4ed3-cc3f-93db05a9f1af"
      },
      "execution_count": 139,
      "outputs": [
        {
          "output_type": "stream",
          "name": "stdout",
          "text": [
            "Length: 17\n",
            "Sum of elements: 6.0\n"
          ]
        }
      ]
    },
    {
      "cell_type": "markdown",
      "source": [
        "Task 2.2."
      ],
      "metadata": {
        "id": "7W8KdGiquyeK"
      }
    },
    {
      "cell_type": "code",
      "source": [
        "def calculate_manhattan(a, b):    \n",
        "    distance = np.sum(np.abs(a - b))\n",
        "    return distance\n",
        "\n",
        "def calculate_euclidean(a, b):    \n",
        "    distance = np.sqrt(np.sum(np.square(a - b)))\n",
        "    return distance\n",
        "\n",
        "def calculate_chebyshev(a, b):    \n",
        "    distance = np.abs(a - b).max()\n",
        "    return distance\n",
        "\n",
        "def calculate_cosine(a, b):    \n",
        "    distance = 1 - a.T.dot(b) / (np.sqrt(np.sum(np.square(a))) * np.sqrt(np.sum(np.square(b))))\n",
        "    return distance\n",
        "\n",
        "a = np.random.randint(-10, 10, 3)  # Using the same a conditional range.\n",
        "b = np.random.randint(-10, 10, 3)\n",
        "print(a)\n",
        "print(b)\n",
        "print(f'Manhattan distance: {calculate_manhattan(a, b)}')\n",
        "print(f'Euclidean distance: {calculate_euclidean(a, b)}')\n",
        "print(f'Chebyshev distance: {calculate_chebyshev(a, b)}')\n",
        "print(f'Cosine distance: {calculate_cosine(a, b)}')"
      ],
      "metadata": {
        "id": "s3NNtv2Mu1dW",
        "colab": {
          "base_uri": "https://localhost:8080/"
        },
        "outputId": "71c4b131-1718-406d-a0a4-e53855903d6e"
      },
      "execution_count": 142,
      "outputs": [
        {
          "output_type": "stream",
          "name": "stdout",
          "text": [
            "[ 3  6 -8]\n",
            "[ 6 -2 -7]\n",
            "Manhattan distance: 12\n",
            "Euclidean distance: 8.602325267042627\n",
            "Chebyshev distance: 8\n",
            "Cosine distance: 0.37051782431575175\n"
          ]
        }
      ]
    },
    {
      "cell_type": "markdown",
      "source": [
        "Task 2.3."
      ],
      "metadata": {
        "id": "1J1XQdTgGq91"
      }
    },
    {
      "cell_type": "code",
      "source": [
        "def transform(array):\n",
        "    old_min = np.min(array)\n",
        "    old_interval = np.max(array) - old_min\n",
        "    new_interval = 3  # -1 - (-4) = 3\n",
        "    transformed_array = (array - old_min) * new_interval / old_interval - 4\n",
        "    return transformed_array\n",
        "\n",
        "my_array = np.random.randint(-100, 101, size = 76)  # Have chosen a conditional initial range\n",
        "print(my_array)\n",
        "my_array = transform(my_array)\n",
        "print(f'Min: {np.min(my_array)}')\n",
        "print(f'Max: {np.max(my_array)}')\n",
        "print('Array:')\n",
        "print(my_array)"
      ],
      "metadata": {
        "colab": {
          "base_uri": "https://localhost:8080/"
        },
        "id": "PRsgfbAnGtHc",
        "outputId": "0ac310fe-3ebb-4bc5-9f47-0ae09021ab3d"
      },
      "execution_count": 144,
      "outputs": [
        {
          "output_type": "stream",
          "name": "stdout",
          "text": [
            "[ 27  41 -19 -82 -87  70 -67 -72  -6  21 -47 -13 -39 -43 -27 -25  60  84\n",
            " -59  32  36  16 -46   7  70  82  78 -93  89 -40  53  10  75  -9 -13 -23\n",
            "  42  -5 -46  -5 -42 -92  24  98   6  68  94  24 -52  -8  55 -79 -60 100\n",
            "  35  64  43  80 -62 -78 -39 -33 -59  97  51 -55  30   8 -61 -73  42 -10\n",
            "  15 -82 -48 -73]\n",
            "Min: -4.0\n",
            "Max: -1.0\n",
            "Array:\n",
            "[-2.13471503 -1.91709845 -2.84974093 -3.82901554 -3.90673575 -1.46632124\n",
            " -3.59585492 -3.67357513 -2.64766839 -2.22797927 -3.28497409 -2.75647668\n",
            " -3.16062176 -3.22279793 -2.97409326 -2.94300518 -1.62176166 -1.24870466\n",
            " -3.47150259 -2.05699482 -1.99481865 -2.30569948 -3.26943005 -2.44559585\n",
            " -1.46632124 -1.27979275 -1.34196891 -4.         -1.17098446 -3.1761658\n",
            " -1.73056995 -2.39896373 -1.38860104 -2.69430052 -2.75647668 -2.9119171\n",
            " -1.9015544  -2.63212435 -3.26943005 -2.63212435 -3.20725389 -3.98445596\n",
            " -2.18134715 -1.03108808 -2.4611399  -1.49740933 -1.09326425 -2.18134715\n",
            " -3.3626943  -2.67875648 -1.69948187 -3.78238342 -3.48704663 -1.\n",
            " -2.01036269 -1.55958549 -1.88601036 -1.31088083 -3.51813472 -3.76683938\n",
            " -3.16062176 -3.06735751 -3.47150259 -1.04663212 -1.76165803 -3.40932642\n",
            " -2.0880829  -2.43005181 -3.50259067 -3.68911917 -1.9015544  -2.70984456\n",
            " -2.32124352 -3.82901554 -3.30051813 -3.68911917]\n"
          ]
        }
      ]
    },
    {
      "cell_type": "markdown",
      "source": [
        "Task 2.4."
      ],
      "metadata": {
        "id": "e-g2wutdGzTo"
      }
    },
    {
      "cell_type": "code",
      "source": [
        "my_array = np.random.randint(-7, 44, size = (8, 5))\n",
        "# If there are several such columns, the first one is printed.\n",
        "selected_column = my_array[:, np.argmax(np.max(my_array, axis = 0))]\n",
        "print('Shape: ', my_array.shape)\n",
        "print('Array:')\n",
        "print(my_array)\n",
        "print(f'Selected column: {selected_column}')"
      ],
      "metadata": {
        "colab": {
          "base_uri": "https://localhost:8080/"
        },
        "id": "MeftKwj3G1CS",
        "outputId": "b60446a0-49a8-4e45-cd69-4ac05ea7a371"
      },
      "execution_count": 145,
      "outputs": [
        {
          "output_type": "stream",
          "name": "stdout",
          "text": [
            "Shape:  (8, 5)\n",
            "Array:\n",
            "[[27  8 30 -4 29]\n",
            " [39 -2 33 37 36]\n",
            " [-4 39 26 -1  2]\n",
            " [16 38 -5 27 -3]\n",
            " [28 27 -2 25  0]\n",
            " [11 31 19 26  6]\n",
            " [23 20 -3 15  7]\n",
            " [10 19 11 -3  3]]\n",
            "Selected column: [27 39 -4 16 28 11 23 10]\n"
          ]
        }
      ]
    },
    {
      "cell_type": "markdown",
      "source": [
        "Task 2.5."
      ],
      "metadata": {
        "id": "EeAQV2rJG4wE"
      }
    },
    {
      "cell_type": "code",
      "source": [
        "arr = np.random.rand(10)\n",
        "idx = np.random.randint(0, 10, 4)\n",
        "arr[idx] = np.nan\n",
        "\n",
        "print('Array:')\n",
        "print(arr)"
      ],
      "metadata": {
        "colab": {
          "base_uri": "https://localhost:8080/"
        },
        "id": "sysdO3tRG6fq",
        "outputId": "44a86d3a-d474-41c5-d215-f93d6c639a0f"
      },
      "execution_count": 153,
      "outputs": [
        {
          "output_type": "stream",
          "name": "stdout",
          "text": [
            "Array:\n",
            "[       nan 0.62218792        nan 0.51393869 0.01335694        nan\n",
            " 0.37026414 0.51685417 0.72644691        nan]\n"
          ]
        }
      ]
    },
    {
      "cell_type": "code",
      "source": [
        "def replace_missing(arr):\n",
        "    array_without_missing = np.where(np.isnan(arr), np.nanmedian(arr), arr)\n",
        "    return array_without_missing"
      ],
      "metadata": {
        "id": "KNo8-zt0HUAQ"
      },
      "execution_count": 147,
      "outputs": []
    },
    {
      "cell_type": "code",
      "source": [
        "arr = replace_missing(arr)\n",
        "print('Array with no missing values:')\n",
        "print(arr)"
      ],
      "metadata": {
        "colab": {
          "base_uri": "https://localhost:8080/"
        },
        "id": "hrxA0_A8HWEI",
        "outputId": "6bb48b23-d209-46c5-b8b5-e770ee963b6b"
      },
      "execution_count": 154,
      "outputs": [
        {
          "output_type": "stream",
          "name": "stdout",
          "text": [
            "Array with no missing values:\n",
            "[0.51539643 0.62218792 0.51539643 0.51393869 0.01335694 0.51539643\n",
            " 0.37026414 0.51685417 0.72644691 0.51539643]\n"
          ]
        }
      ]
    },
    {
      "cell_type": "markdown",
      "source": [
        "Task 2.6."
      ],
      "metadata": {
        "id": "gSd3YPr5MfmD"
      }
    },
    {
      "cell_type": "code",
      "source": [
        "def mean_channel(X):\n",
        "    mean_vector = np.mean(X, axis = (0, 1))\n",
        "    return mean_vector\n",
        "\n",
        "n = 19\n",
        "m = 23\n",
        "X =  np.random.randint(-11, 8, size=(n, m, 3))\n",
        "print(f'Vector of means: {mean_channel(X)}')"
      ],
      "metadata": {
        "colab": {
          "base_uri": "https://localhost:8080/"
        },
        "id": "XvJSrNhSMhw-",
        "outputId": "7fcbb39c-9c4d-4b4b-e067-8e0dc46342b9"
      },
      "execution_count": 157,
      "outputs": [
        {
          "output_type": "stream",
          "name": "stdout",
          "text": [
            "Vector of means: [-2.08009153 -2.04805492 -1.76201373]\n"
          ]
        }
      ]
    },
    {
      "cell_type": "markdown",
      "source": [
        "Task 2.7."
      ],
      "metadata": {
        "id": "H0nEv21I5wEH"
      }
    },
    {
      "cell_type": "code",
      "source": [
        "def get_unique_rows(X):\n",
        "    X_unique = np.unique(X, axis = 1)\n",
        "    return X_unique\n",
        "\n",
        "X =  np.random.randint(4, 6, size=(4, 3, 3))\n",
        "print('Matrix:')\n",
        "print(X)\n",
        "print('Unique rows:')\n",
        "get_unique_rows(X)"
      ],
      "metadata": {
        "id": "-TcHNIUO5yJO",
        "colab": {
          "base_uri": "https://localhost:8080/"
        },
        "outputId": "c6dcd1a5-7cf5-4f10-9072-e84ca49dc1fa"
      },
      "execution_count": 158,
      "outputs": [
        {
          "output_type": "stream",
          "name": "stdout",
          "text": [
            "Matrix:\n",
            "[[[4 4 5]\n",
            "  [5 4 5]\n",
            "  [4 4 5]]\n",
            "\n",
            " [[4 4 4]\n",
            "  [4 5 5]\n",
            "  [5 4 5]]\n",
            "\n",
            " [[4 4 4]\n",
            "  [4 4 5]\n",
            "  [4 5 5]]\n",
            "\n",
            " [[4 5 5]\n",
            "  [4 5 4]\n",
            "  [4 4 4]]]\n",
            "Unique rows:\n"
          ]
        },
        {
          "output_type": "execute_result",
          "data": {
            "text/plain": [
              "array([[[4, 4, 5],\n",
              "        [4, 4, 5],\n",
              "        [5, 4, 5]],\n",
              "\n",
              "       [[4, 4, 4],\n",
              "        [5, 4, 5],\n",
              "        [4, 5, 5]],\n",
              "\n",
              "       [[4, 4, 4],\n",
              "        [4, 5, 5],\n",
              "        [4, 4, 5]],\n",
              "\n",
              "       [[4, 5, 5],\n",
              "        [4, 4, 4],\n",
              "        [4, 5, 4]]])"
            ]
          },
          "metadata": {},
          "execution_count": 158
        }
      ]
    },
    {
      "cell_type": "markdown",
      "source": [
        "Task 3.0."
      ],
      "metadata": {
        "id": "KiEU2KoNAmNO"
      }
    },
    {
      "cell_type": "code",
      "source": [
        "dataset = pd.read_csv(\"titanic.csv\")\n",
        "dataset.head(5)"
      ],
      "metadata": {
        "colab": {
          "base_uri": "https://localhost:8080/",
          "height": 302
        },
        "id": "EkBT4G8XAomB",
        "outputId": "74a87c83-0c25-4d85-f40e-6aec50c506f0"
      },
      "execution_count": 159,
      "outputs": [
        {
          "output_type": "execute_result",
          "data": {
            "text/plain": [
              "   PassengerId  Survived  Pclass  \\\n",
              "0            1         0       3   \n",
              "1            2         1       1   \n",
              "2            3         1       3   \n",
              "3            4         1       1   \n",
              "4            5         0       3   \n",
              "\n",
              "                                                Name     Sex   Age  SibSp  \\\n",
              "0                            Braund, Mr. Owen Harris    male  22.0      1   \n",
              "1  Cumings, Mrs. John Bradley (Florence Briggs Th...  female  38.0      1   \n",
              "2                             Heikkinen, Miss. Laina  female  26.0      0   \n",
              "3       Futrelle, Mrs. Jacques Heath (Lily May Peel)  female  35.0      1   \n",
              "4                           Allen, Mr. William Henry    male  35.0      0   \n",
              "\n",
              "   Parch            Ticket     Fare Cabin Embarked  \n",
              "0      0         A/5 21171   7.2500   NaN        S  \n",
              "1      0          PC 17599  71.2833   C85        C  \n",
              "2      0  STON/O2. 3101282   7.9250   NaN        S  \n",
              "3      0            113803  53.1000  C123        S  \n",
              "4      0            373450   8.0500   NaN        S  "
            ],
            "text/html": [
              "\n",
              "  <div id=\"df-dab71219-b43c-42c2-be53-ee0efd5ac280\">\n",
              "    <div class=\"colab-df-container\">\n",
              "      <div>\n",
              "<style scoped>\n",
              "    .dataframe tbody tr th:only-of-type {\n",
              "        vertical-align: middle;\n",
              "    }\n",
              "\n",
              "    .dataframe tbody tr th {\n",
              "        vertical-align: top;\n",
              "    }\n",
              "\n",
              "    .dataframe thead th {\n",
              "        text-align: right;\n",
              "    }\n",
              "</style>\n",
              "<table border=\"1\" class=\"dataframe\">\n",
              "  <thead>\n",
              "    <tr style=\"text-align: right;\">\n",
              "      <th></th>\n",
              "      <th>PassengerId</th>\n",
              "      <th>Survived</th>\n",
              "      <th>Pclass</th>\n",
              "      <th>Name</th>\n",
              "      <th>Sex</th>\n",
              "      <th>Age</th>\n",
              "      <th>SibSp</th>\n",
              "      <th>Parch</th>\n",
              "      <th>Ticket</th>\n",
              "      <th>Fare</th>\n",
              "      <th>Cabin</th>\n",
              "      <th>Embarked</th>\n",
              "    </tr>\n",
              "  </thead>\n",
              "  <tbody>\n",
              "    <tr>\n",
              "      <th>0</th>\n",
              "      <td>1</td>\n",
              "      <td>0</td>\n",
              "      <td>3</td>\n",
              "      <td>Braund, Mr. Owen Harris</td>\n",
              "      <td>male</td>\n",
              "      <td>22.0</td>\n",
              "      <td>1</td>\n",
              "      <td>0</td>\n",
              "      <td>A/5 21171</td>\n",
              "      <td>7.2500</td>\n",
              "      <td>NaN</td>\n",
              "      <td>S</td>\n",
              "    </tr>\n",
              "    <tr>\n",
              "      <th>1</th>\n",
              "      <td>2</td>\n",
              "      <td>1</td>\n",
              "      <td>1</td>\n",
              "      <td>Cumings, Mrs. John Bradley (Florence Briggs Th...</td>\n",
              "      <td>female</td>\n",
              "      <td>38.0</td>\n",
              "      <td>1</td>\n",
              "      <td>0</td>\n",
              "      <td>PC 17599</td>\n",
              "      <td>71.2833</td>\n",
              "      <td>C85</td>\n",
              "      <td>C</td>\n",
              "    </tr>\n",
              "    <tr>\n",
              "      <th>2</th>\n",
              "      <td>3</td>\n",
              "      <td>1</td>\n",
              "      <td>3</td>\n",
              "      <td>Heikkinen, Miss. Laina</td>\n",
              "      <td>female</td>\n",
              "      <td>26.0</td>\n",
              "      <td>0</td>\n",
              "      <td>0</td>\n",
              "      <td>STON/O2. 3101282</td>\n",
              "      <td>7.9250</td>\n",
              "      <td>NaN</td>\n",
              "      <td>S</td>\n",
              "    </tr>\n",
              "    <tr>\n",
              "      <th>3</th>\n",
              "      <td>4</td>\n",
              "      <td>1</td>\n",
              "      <td>1</td>\n",
              "      <td>Futrelle, Mrs. Jacques Heath (Lily May Peel)</td>\n",
              "      <td>female</td>\n",
              "      <td>35.0</td>\n",
              "      <td>1</td>\n",
              "      <td>0</td>\n",
              "      <td>113803</td>\n",
              "      <td>53.1000</td>\n",
              "      <td>C123</td>\n",
              "      <td>S</td>\n",
              "    </tr>\n",
              "    <tr>\n",
              "      <th>4</th>\n",
              "      <td>5</td>\n",
              "      <td>0</td>\n",
              "      <td>3</td>\n",
              "      <td>Allen, Mr. William Henry</td>\n",
              "      <td>male</td>\n",
              "      <td>35.0</td>\n",
              "      <td>0</td>\n",
              "      <td>0</td>\n",
              "      <td>373450</td>\n",
              "      <td>8.0500</td>\n",
              "      <td>NaN</td>\n",
              "      <td>S</td>\n",
              "    </tr>\n",
              "  </tbody>\n",
              "</table>\n",
              "</div>\n",
              "      <button class=\"colab-df-convert\" onclick=\"convertToInteractive('df-dab71219-b43c-42c2-be53-ee0efd5ac280')\"\n",
              "              title=\"Convert this dataframe to an interactive table.\"\n",
              "              style=\"display:none;\">\n",
              "        \n",
              "  <svg xmlns=\"http://www.w3.org/2000/svg\" height=\"24px\"viewBox=\"0 0 24 24\"\n",
              "       width=\"24px\">\n",
              "    <path d=\"M0 0h24v24H0V0z\" fill=\"none\"/>\n",
              "    <path d=\"M18.56 5.44l.94 2.06.94-2.06 2.06-.94-2.06-.94-.94-2.06-.94 2.06-2.06.94zm-11 1L8.5 8.5l.94-2.06 2.06-.94-2.06-.94L8.5 2.5l-.94 2.06-2.06.94zm10 10l.94 2.06.94-2.06 2.06-.94-2.06-.94-.94-2.06-.94 2.06-2.06.94z\"/><path d=\"M17.41 7.96l-1.37-1.37c-.4-.4-.92-.59-1.43-.59-.52 0-1.04.2-1.43.59L10.3 9.45l-7.72 7.72c-.78.78-.78 2.05 0 2.83L4 21.41c.39.39.9.59 1.41.59.51 0 1.02-.2 1.41-.59l7.78-7.78 2.81-2.81c.8-.78.8-2.07 0-2.86zM5.41 20L4 18.59l7.72-7.72 1.47 1.35L5.41 20z\"/>\n",
              "  </svg>\n",
              "      </button>\n",
              "      \n",
              "  <style>\n",
              "    .colab-df-container {\n",
              "      display:flex;\n",
              "      flex-wrap:wrap;\n",
              "      gap: 12px;\n",
              "    }\n",
              "\n",
              "    .colab-df-convert {\n",
              "      background-color: #E8F0FE;\n",
              "      border: none;\n",
              "      border-radius: 50%;\n",
              "      cursor: pointer;\n",
              "      display: none;\n",
              "      fill: #1967D2;\n",
              "      height: 32px;\n",
              "      padding: 0 0 0 0;\n",
              "      width: 32px;\n",
              "    }\n",
              "\n",
              "    .colab-df-convert:hover {\n",
              "      background-color: #E2EBFA;\n",
              "      box-shadow: 0px 1px 2px rgba(60, 64, 67, 0.3), 0px 1px 3px 1px rgba(60, 64, 67, 0.15);\n",
              "      fill: #174EA6;\n",
              "    }\n",
              "\n",
              "    [theme=dark] .colab-df-convert {\n",
              "      background-color: #3B4455;\n",
              "      fill: #D2E3FC;\n",
              "    }\n",
              "\n",
              "    [theme=dark] .colab-df-convert:hover {\n",
              "      background-color: #434B5C;\n",
              "      box-shadow: 0px 1px 3px 1px rgba(0, 0, 0, 0.15);\n",
              "      filter: drop-shadow(0px 1px 2px rgba(0, 0, 0, 0.3));\n",
              "      fill: #FFFFFF;\n",
              "    }\n",
              "  </style>\n",
              "\n",
              "      <script>\n",
              "        const buttonEl =\n",
              "          document.querySelector('#df-dab71219-b43c-42c2-be53-ee0efd5ac280 button.colab-df-convert');\n",
              "        buttonEl.style.display =\n",
              "          google.colab.kernel.accessAllowed ? 'block' : 'none';\n",
              "\n",
              "        async function convertToInteractive(key) {\n",
              "          const element = document.querySelector('#df-dab71219-b43c-42c2-be53-ee0efd5ac280');\n",
              "          const dataTable =\n",
              "            await google.colab.kernel.invokeFunction('convertToInteractive',\n",
              "                                                     [key], {});\n",
              "          if (!dataTable) return;\n",
              "\n",
              "          const docLinkHtml = 'Like what you see? Visit the ' +\n",
              "            '<a target=\"_blank\" href=https://colab.research.google.com/notebooks/data_table.ipynb>data table notebook</a>'\n",
              "            + ' to learn more about interactive tables.';\n",
              "          element.innerHTML = '';\n",
              "          dataTable['output_type'] = 'display_data';\n",
              "          await google.colab.output.renderOutput(dataTable, element);\n",
              "          const docLink = document.createElement('div');\n",
              "          docLink.innerHTML = docLinkHtml;\n",
              "          element.appendChild(docLink);\n",
              "        }\n",
              "      </script>\n",
              "    </div>\n",
              "  </div>\n",
              "  "
            ]
          },
          "metadata": {},
          "execution_count": 159
        }
      ]
    },
    {
      "cell_type": "markdown",
      "source": [
        "Task 3.1."
      ],
      "metadata": {
        "id": "vsrfUSbLCFKd"
      }
    },
    {
      "cell_type": "code",
      "source": [
        "# Answer number 1\n",
        "print('Answer number 1:')\n",
        "print(dataset.columns[dataset.isnull().any()].tolist())\n",
        "print('There are missing values in the three columns listed above.\\n')\n",
        "\n",
        "# Answer number 2\n",
        "print('Answer number 2:')\n",
        "print(dataset.groupby('Survived').size() / len(dataset) * 100)\n",
        "print('The percentage of survivors is 38.4 percent, thus 61.6 percent of passengers died.')\n",
        "print('The classes are not very balanced, the percentage of deceased passengers is noticeably higher.\\n')\n",
        "\n",
        "# Answer number 3\n",
        "print('Answer number 3:')\n",
        "print(dataset['Sex'].value_counts())\n",
        "print('There were more men = 577.\\n')\n",
        "\n",
        "# Answer number 4\n",
        "print('Answer number 4:')\n",
        "print(dataset['Embarked'].value_counts())\n",
        "print('As you can see, the least popular port is Queenstown (Q), 77 passengers.\\n')\n",
        "\n",
        "# Answer number 5\n",
        "print('Answer number 5:')\n",
        "# Search for unique values.\n",
        "print(f'There were {dataset[\"Pclass\"].nunique()} classes on Titanic.\\n')\n",
        "\n",
        "# Answer number 6\n",
        "print('Answer number 6:')\n",
        "print(f\"The overall average ticket fare = {dataset['Fare'].mean()};\")\n",
        "print(\"The average ticket fare for each class:\")\n",
        "print(dataset.groupby('Pclass')['Fare'].mean())"
      ],
      "metadata": {
        "colab": {
          "base_uri": "https://localhost:8080/"
        },
        "id": "zmn5c5qRCHoZ",
        "outputId": "fe3ec23c-5db2-4a82-a05e-0d434402ae02"
      },
      "execution_count": 161,
      "outputs": [
        {
          "output_type": "stream",
          "name": "stdout",
          "text": [
            "Answer number 1:\n",
            "['Age', 'Cabin', 'Embarked']\n",
            "There are missing values in the three columns listed above.\n",
            "\n",
            "Answer number 2:\n",
            "Survived\n",
            "0    61.616162\n",
            "1    38.383838\n",
            "dtype: float64\n",
            "The percentage of survivors is 38.4 percent, thus 61.6 percent of passengers died.\n",
            "The classes are not very balanced, the percentage of deceased passengers is noticeably higher.\n",
            "\n",
            "Answer number 3:\n",
            "male      577\n",
            "female    314\n",
            "Name: Sex, dtype: int64\n",
            "There were more men = 577.\n",
            "\n",
            "Answer number 4:\n",
            "S    644\n",
            "C    168\n",
            "Q     77\n",
            "Name: Embarked, dtype: int64\n",
            "As you can see, the least popular port is Queenstown (Q), 77 passengers.\n",
            "\n",
            "Answer number 5:\n",
            "There were 3 classes on Titanic.\n",
            "\n",
            "Answer number 6:\n",
            "The overall average ticket fare = 32.204207968574636;\n",
            "The average ticket fare for each class:\n",
            "Pclass\n",
            "1    84.154687\n",
            "2    20.662183\n",
            "3    13.675550\n",
            "Name: Fare, dtype: float64\n"
          ]
        }
      ]
    },
    {
      "cell_type": "markdown",
      "source": [
        "Task 3.2."
      ],
      "metadata": {
        "id": "ZkYtfEgRSF_-"
      }
    },
    {
      "cell_type": "code",
      "source": [
        "# I used a boxplot because it allows me to display the minimum and maximum values,\n",
        "# as well as the average value that is asked to be done in the task.\n",
        "# I think the histogram is not so well suited for these purposes.\n",
        "\n",
        "sns.set_style('whitegrid')\n",
        "print('The age distribution histogram:')\n",
        "dataset['Age'].hist(color = 'k')\n",
        "plt.show()\n",
        "print('The densest distribution is observed in the range from 15 to 40 years.')\n",
        "print('There were significantly more children than old people.\\n')\n",
        "\n",
        "print('Answer number 1:')\n",
        "plt.figure(figsize=(30, 8))\n",
        "plt.xticks(np.arange(0, 90, 1.0))\n",
        "sns.boxplot(data = dataset, x = 'Age', color = 'g')\n",
        "plt.show()\n",
        "print(f\"Minimum age = {dataset['Age'].min()}, maximum age = {dataset['Age'].max()};\")\n",
        "print('This information is well displayed on the histogram and the boxplot (the maximum value is represented as an outlier).\\n')\n",
        "\n",
        "print('Answer number 2:')\n",
        "print('All average values are reflected on the boxplots as medians.')\n",
        "print(f\"The overall average age = {dataset['Age'].mean()};\")\n",
        "print('The value is slightly different from the one shown on the boxplot due to the outlier analysis, but not critical.')\n",
        "print('The average age for each sex:')\n",
        "print(dataset.groupby('Sex')['Age'].mean())\n",
        "plt.figure(figsize=(12, 8))\n",
        "sns.boxplot(data = dataset, x = 'Age', y = 'Sex')\n",
        "plt.show()\n",
        "\n",
        "print('Answer number 3:')\n",
        "print('The boxplots show outliers from the male side;')\n",
        "print('This is due to the fact that there were passengers of an unusually mature age (the older man is 80 years old);')\n",
        "print('This is the reason why the median may be slightly different;')\n",
        "print('There are no outliers for women, their age is more balanced.')\n",
        "print('In general, the age range of women is smaller than for men, as is the average.')\n",
        "print('The density for women is higher in the younger range than for men.')\n",
        "print('it is important that there are very few people over 70 years old, and only among the male sex.')"
      ],
      "metadata": {
        "colab": {
          "base_uri": "https://localhost:8080/",
          "height": 1000
        },
        "id": "QycbJlE9SHkO",
        "outputId": "c1b115ec-b9ca-4e77-cf5e-cfb5a0e3660e"
      },
      "execution_count": 163,
      "outputs": [
        {
          "output_type": "stream",
          "name": "stdout",
          "text": [
            "The age distribution histogram:\n"
          ]
        },
        {
          "output_type": "display_data",
          "data": {
            "text/plain": [
              "<Figure size 432x288 with 1 Axes>"
            ],
            "image/png": "[encoded data removed]"
          },
          "metadata": {}
        },
        {
          "output_type": "stream",
          "name": "stdout",
          "text": [
            "The densest distribution is observed in the range from 15 to 40 years.\n",
            "There were significantly more children than old people.\n",
            "\n",
            "Answer number 1:\n"
          ]
        },
        {
          "output_type": "display_data",
          "data": {
            "text/plain": [
              "<Figure size 2160x576 with 1 Axes>"
            ],
            "image/png": "[encoded data removed]"
          },
          "metadata": {}
        },
        {
          "output_type": "stream",
          "name": "stdout",
          "text": [
            "Minimum age = 0.42, maximum age = 80.0;\n",
            "This information is well displayed on the histogram and the boxplot (the maximum value is represented as an outlier).\n",
            "\n",
            "Answer number 2:\n",
            "All average values are reflected on the boxplots as medians.\n",
            "The overall average age = 29.69911764705882;\n",
            "The value is slightly different from the one shown on the boxplot due to the outlier analysis, but not critical.\n",
            "The average age for each sex:\n",
            "Sex\n",
            "female    27.915709\n",
            "male      30.726645\n",
            "Name: Age, dtype: float64\n"
          ]
        },
        {
          "output_type": "display_data",
          "data": {
            "text/plain": [
              "<Figure size 864x576 with 1 Axes>"
            ],
            "image/png": "[encoded data removed]"
          },
          "metadata": {}
        },
        {
          "output_type": "stream",
          "name": "stdout",
          "text": [
            "Answer number 3:\n",
            "The boxplots show outliers from the male side;\n",
            "This is due to the fact that there were passengers of an unusually mature age (the older man is 80 years old);\n",
            "This is the reason why the median may be slightly different;\n",
            "There are no outliers for women, their age is more balanced.\n",
            "In general, the age range of women is smaller than for men, as is the average.\n",
            "The density for women is higher in the younger range than for men.\n",
            "it is important that there are very few people over 70 years old, and only among the male sex.\n"
          ]
        }
      ]
    },
    {
      "cell_type": "markdown",
      "source": [
        "Task 3.3."
      ],
      "metadata": {
        "id": "tjvQSzjQMtAm"
      }
    },
    {
      "cell_type": "code",
      "source": [
        "import re\n",
        "\n",
        "# Search using regular expressions.\n",
        "column = dataset['Name'].apply(lambda x : re.findall('\\w+\\.', x)[0])\n",
        "# Let's add a separate column with the title for convenient analysis.\n",
        "dataset.insert(4, 'Title', column)\n",
        "\n",
        "print('Answer number 1:')\n",
        "print(f\"Number of unique titles = {dataset['Title'].nunique()}, they are below:\")\n",
        "print(f\"{dataset['Title'].unique()}\\n\")\n",
        "\n",
        "print('Answer number 2:')\n",
        "print('Count of passengers for each title:')\n",
        "print(f\"{dataset['Title'].value_counts()}\\n\")\n",
        "\n",
        "print('Answer number 3:')\n",
        "print('The most popular title for each sex:')\n",
        "print(dataset.groupby('Sex')['Title'].agg(pd.Series.mode))\n",
        "# We delete the column, it is no longer needed.\n",
        "dataset = dataset.drop('Title', axis = 1)"
      ],
      "metadata": {
        "colab": {
          "base_uri": "https://localhost:8080/"
        },
        "id": "d0PFpqHQMvzK",
        "outputId": "818dcd4e-00a1-47c9-8ee9-2e311bc36c57"
      },
      "execution_count": 165,
      "outputs": [
        {
          "output_type": "stream",
          "name": "stdout",
          "text": [
            "Answer number 1:\n",
            "Number of unique titles = 17, they are below:\n",
            "['Mr.' 'Mrs.' 'Miss.' 'Master.' 'Don.' 'Rev.' 'Dr.' 'Mme.' 'Ms.' 'Major.'\n",
            " 'Lady.' 'Sir.' 'Mlle.' 'Col.' 'Capt.' 'Countess.' 'Jonkheer.']\n",
            "\n",
            "Answer number 2:\n",
            "Count of passengers for each title:\n",
            "Mr.          517\n",
            "Miss.        182\n",
            "Mrs.         125\n",
            "Master.       40\n",
            "Dr.            7\n",
            "Rev.           6\n",
            "Mlle.          2\n",
            "Major.         2\n",
            "Col.           2\n",
            "Countess.      1\n",
            "Capt.          1\n",
            "Ms.            1\n",
            "Sir.           1\n",
            "Lady.          1\n",
            "Mme.           1\n",
            "Don.           1\n",
            "Jonkheer.      1\n",
            "Name: Title, dtype: int64\n",
            "\n",
            "Answer number 3:\n",
            "The most popular title for each sex:\n",
            "Sex\n",
            "female    Miss.\n",
            "male        Mr.\n",
            "Name: Title, dtype: object\n"
          ]
        }
      ]
    },
    {
      "cell_type": "markdown",
      "source": [
        "Task 3.4."
      ],
      "metadata": {
        "id": "OJntMUZiacnu"
      }
    },
    {
      "cell_type": "code",
      "source": [
        "print('Answer number 1:')\n",
        "print(f\"Correlation coefficient between class and ticket price = {dataset['Pclass'].corr(dataset['Fare'])};\")\n",
        "print('There is a moderate inverse correlation.')\n",
        "print('This means that the higher the class (highest - 1, lowest - 3), the more likely the ticket price is.\\n')\n",
        "\n",
        "print('Answer number 2:')\n",
        "print('Mean price for each class:')\n",
        "print(dataset.groupby('Pclass')['Fare'].mean())\n",
        "print('The correlation conclusions were confirmed:')\n",
        "print('The highest average value for the class 1.\\n')\n",
        "\n",
        "# I use boxplot to compare the mean, boundary values and outliers.\n",
        "# In this case, due to the presence of strong outliers, it is inconvenient to use, for example, violinplot.\n",
        "plt.figure(figsize=(20, 8))\n",
        "plt.xticks(np.arange(0, 600, 10.0))\n",
        "sns.boxplot(data = dataset, x='Fare', y='Pclass', orient='h')\n",
        "# I also used a general histogram to compare the distribution.\n",
        "# I didn't use sns.histogram because the visualization is not so clear.\n",
        "dataset.pivot(columns = 'Pclass').Fare.plot(kind = 'hist', stacked = True)\n",
        "plt.show()\n",
        "print('The boxplots showed that as the class decreases, the range of ticket prices decreases and, accordingly, the average value.')\n",
        "print('The width of the range and the average values also directly depend on the height of the class.')\n",
        "print('For class 1, there are a lot of outliers in the form of unusually expensive tickets (210$ - 515$).')\n",
        "print('According to the histogram, the largest number of tickets sold for the lowest class 3.')\n",
        "print('According to the histogram, passengers of all classes were more likely to buy cheaper tickets.')"
      ],
      "metadata": {
        "colab": {
          "base_uri": "https://localhost:8080/",
          "height": 1000
        },
        "id": "2ujd8zSaajzP",
        "outputId": "4d126ffc-8423-4c67-85e8-7b34b882ea92"
      },
      "execution_count": 167,
      "outputs": [
        {
          "output_type": "stream",
          "name": "stdout",
          "text": [
            "Answer number 1:\n",
            "Correlation coefficient between class and ticket price = -0.5494996199439074;\n",
            "There is a moderate inverse correlation.\n",
            "This means that the higher the class (highest - 1, lowest - 3), the more likely the ticket price is.\n",
            "\n",
            "Answer number 2:\n",
            "Mean price for each class:\n",
            "Pclass\n",
            "1    84.154687\n",
            "2    20.662183\n",
            "3    13.675550\n",
            "Name: Fare, dtype: float64\n",
            "The correlation conclusions were confirmed:\n",
            "The highest average value for the class 1.\n",
            "\n"
          ]
        },
        {
          "output_type": "display_data",
          "data": {
            "text/plain": [
              "<Figure size 1440x576 with 1 Axes>"
            ],
            "image/png": "[encoded data removed]"
          },
          "metadata": {}
        },
        {
          "output_type": "display_data",
          "data": {
            "text/plain": [
              "<Figure size 432x288 with 1 Axes>"
            ],
            "image/png": "[encoded data removed]"
          },
          "metadata": {}
        },
        {
          "output_type": "stream",
          "name": "stdout",
          "text": [
            "The boxplots showed that as the class decreases, the range of ticket prices decreases and, accordingly, the average value.\n",
            "The width of the range and the average values also directly depend on the height of the class.\n",
            "For class 1, there are a lot of outliers in the form of unusually expensive tickets (210$ - 515$).\n",
            "According to the histogram, the largest number of tickets sold for the lowest class 3.\n",
            "According to the histogram, passengers of all classes were more likely to buy cheaper tickets.\n"
          ]
        }
      ]
    },
    {
      "cell_type": "markdown",
      "source": [
        "Task 3.5."
      ],
      "metadata": {
        "id": "a75BoN_Adt8P"
      }
    },
    {
      "cell_type": "code",
      "source": [
        "# We use dummy variables, since 'Embarked' is a categorical variable.\n",
        "optional = dataset[['Embarked', 'Fare']]  # Create an optional dataframe for dummies.\n",
        "dummies = pd.get_dummies(optional)\n",
        "print(f\"Since we are working with dummy variables, we need to compile a correlation table:\\n\")\n",
        "print(dummies.corr())\n",
        "print('\\nThere are low correlation coefficients between dummy variables and price.')\n",
        "print('A positive value is observed for port C, which indicates a higher price compared to others.')\n",
        "print('However, high values are observed between the dummy variables themselves, for example, between ports C and S is equal to -0.78')\n",
        "print('This suggests that the correlation is still present regarding port selection.\\n')\n",
        "\n",
        "print('Average ticket price for each port:')\n",
        "print(dataset.groupby('Embarked')['Fare'].mean())\n",
        "print('As the correlation coefficient showed, port C has the highest prices in comparison with others.\\n')\n",
        "\n",
        "plt.figure(figsize=(20, 8))\n",
        "plt.xticks(np.arange(0, 600, 10.0))\n",
        "sns.boxplot(data = dataset, x = 'Fare', y = 'Embarked')\n",
        "plt.show()\n",
        "# I also used a general histogram to compare the distribution.\n",
        "# I didn't use sns.histogram because the visualization is not so clear.\n",
        "dataset.pivot(columns = 'Embarked').Fare.plot(kind = 'hist', stacked = True)\n",
        "plt.show()\n",
        "\n",
        "print('The boxplots also showed a noticeable increase in ticket prices for port C.')\n",
        "print('The largest price range is for the port of Cherbourg (C), the smallest price range is for the port of Queenstown (Q).')\n",
        "print('There are price outliers for each port - unusually high prices for the route.')\n",
        "print('The average prices for ports directly depend on the price range, so the lowest average price for port Q, the highest for port C.')\n",
        "print('The minimum price is 0 (for port S), the maximum price is greater than 510 (outlier for port C).')\n",
        "print('According to the histograms, cheaper tickets are in the greatest demand for each port.')\n",
        "print('According to the histogram, they most often bought tickets to port S.')\n",
        "print('Port Q, despite the cheapest tickets, is not as popular as port S.')"
      ],
      "metadata": {
        "colab": {
          "base_uri": "https://localhost:8080/",
          "height": 1000
        },
        "id": "H92l4cjrdwee",
        "outputId": "2730e8fd-e379-419e-9f26-1cc521ce606c"
      },
      "execution_count": 168,
      "outputs": [
        {
          "output_type": "stream",
          "name": "stdout",
          "text": [
            "Since we are working with dummy variables, we need to compile a correlation table:\n",
            "\n",
            "                Fare  Embarked_C  Embarked_Q  Embarked_S\n",
            "Fare        1.000000    0.269335   -0.117216   -0.166603\n",
            "Embarked_C  0.269335    1.000000   -0.148258   -0.778359\n",
            "Embarked_Q -0.117216   -0.148258    1.000000   -0.496624\n",
            "Embarked_S -0.166603   -0.778359   -0.496624    1.000000\n",
            "\n",
            "There are low correlation coefficients between dummy variables and price.\n",
            "A positive value is observed for port C, which indicates a higher price compared to others.\n",
            "However, high values are observed between the dummy variables themselves, for example, between ports C and S is equal to -0.78\n",
            "This suggests that the correlation is still present regarding port selection.\n",
            "\n",
            "Average ticket price for each port:\n",
            "Embarked\n",
            "C    59.954144\n",
            "Q    13.276030\n",
            "S    27.079812\n",
            "Name: Fare, dtype: float64\n",
            "As the correlation coefficient showed, port C has the highest prices in comparison with others.\n",
            "\n"
          ]
        },
        {
          "output_type": "display_data",
          "data": {
            "text/plain": [
              "<Figure size 1440x576 with 1 Axes>"
            ],
            "image/png": "[encoded data removed]"
          },
          "metadata": {}
        },
        {
          "output_type": "display_data",
          "data": {
            "text/plain": [
              "<Figure size 432x288 with 1 Axes>"
            ],
            "image/png": "[encoded data removed]"
          },
          "metadata": {}
        },
        {
          "output_type": "stream",
          "name": "stdout",
          "text": [
            "The boxplots also showed a noticeable increase in ticket prices for port C.\n",
            "The largest price range is for the port of Cherbourg (C), the smallest price range is for the port of Queenstown (Q).\n",
            "There are price outliers for each port - unusually high prices for the route.\n",
            "The average prices for ports directly depend on the price range, so the lowest average price for port Q, the highest for port C.\n",
            "The minimum price is 0 (for port S), the maximum price is greater than 510 (outlier for port C).\n",
            "According to the histograms, cheaper tickets are in the greatest demand for each port.\n",
            "According to the histogram, they most often bought tickets to port S.\n",
            "Port Q, despite the cheapest tickets, is not as popular as port S.\n"
          ]
        }
      ]
    },
    {
      "cell_type": "markdown",
      "source": [
        "Task 3.6."
      ],
      "metadata": {
        "id": "eRLmSSvMKOrS"
      }
    },
    {
      "cell_type": "code",
      "source": [
        "print('Answer number 1:')\n",
        "# I used both boxplot and histogram to estimate the distribution, boundary values and medians.\n",
        "plt.figure(figsize=(12, 8))\n",
        "sns.boxplot(data = dataset, x = 'Age', y = 'Survived', orient='h')\n",
        "plt.show()\n",
        "plt.figure(figsize=(12, 8))\n",
        "sns.histplot(data = dataset, x = 'Age', hue = 'Survived')\n",
        "plt.show()\n",
        "\n",
        "print('The mean age for each survived-class:')\n",
        "print(f\"{dataset.groupby('Survived')['Age'].mean()}\\n\")\n",
        "print('The average age is almost the same for survivors and deceased (it is also visible on the boxplot);')\n",
        "print('The plots show that for almost all age groups, the number of dead passengers is greater than the number of survivors.')\n",
        "print('Most deaths occur at the age of approximately 15-30 years due to the general distribution of age.')\n",
        "print('The exception is children (0 - 9 years old), among whom there are more survivors than dead.')\n",
        "print('The density of surviving passengers is higher in the younger range than the dead.')\n",
        "print('Among the old people (65-75 years old) all died, the oldest passenger (80 years) survived.\\n')\n",
        "\n",
        "print('Answer number 2:')\n",
        "opt_male = dataset[dataset['Sex'] == 'male']\n",
        "opt_female = dataset[dataset['Sex'] == 'female']\n",
        "print('\\nHistogram for male:')\n",
        "plt.figure(figsize=(12, 8))\n",
        "sns.histplot(data = opt_male, x = 'Age', hue = 'Survived')\n",
        "plt.show()\n",
        "print('Histogram for female:')\n",
        "plt.figure(figsize=(12, 8))\n",
        "sns.histplot(data = opt_female, x = 'Age', hue = 'Survived')\n",
        "plt.show()\n",
        "print('Histograms have significant differences:')\n",
        "print('For most age categories, women survive more often (except for about 7-11 years);')\n",
        "print('For men, on the contrary, in most age categories there are more dead than survivors.')\n",
        "print('Thus, men died more often than women.')"
      ],
      "metadata": {
        "colab": {
          "base_uri": "https://localhost:8080/",
          "height": 1000
        },
        "id": "xgmRMo8EKQjP",
        "outputId": "3660381e-acd1-4bc2-f69d-bf2185c700e3"
      },
      "execution_count": 171,
      "outputs": [
        {
          "output_type": "stream",
          "name": "stdout",
          "text": [
            "Answer number 1:\n"
          ]
        },
        {
          "output_type": "display_data",
          "data": {
            "text/plain": [
              "<Figure size 864x576 with 1 Axes>"
            ],
            "image/png": "[encoded data removed]"
          },
          "metadata": {}
        },
        {
          "output_type": "display_data",
          "data": {
            "text/plain": [
              "<Figure size 864x576 with 1 Axes>"
            ],
            "image/png": "[encoded data removed]"
          },
          "metadata": {}
        },
        {
          "output_type": "stream",
          "name": "stdout",
          "text": [
            "The mean age for each survived-class:\n",
            "Survived\n",
            "0    30.626179\n",
            "1    28.343690\n",
            "Name: Age, dtype: float64\n",
            "\n",
            "The average age is almost the same for survivors and deceased (it is also visible on the boxplot);\n",
            "The plots show that for almost all age groups, the number of dead passengers is greater than the number of survivors.\n",
            "Most deaths occur at the age of approximately 15-30 years due to the general distribution of age.\n",
            "The exception is children (0 - 9 years old), among whom there are more survivors than dead.\n",
            "The density of surviving passengers is higher in the younger range than the dead.\n",
            "Among the old people (65-75 years old) all died, the oldest passenger (80 years) survived.\n",
            "\n",
            "Answer number 2:\n",
            "\n",
            "Histogram for male:\n"
          ]
        },
        {
          "output_type": "display_data",
          "data": {
            "text/plain": [
              "<Figure size 864x576 with 1 Axes>"
            ],
            "image/png": "[encoded data removed]"
          },
          "metadata": {}
        },
        {
          "output_type": "stream",
          "name": "stdout",
          "text": [
            "Histogram for female:\n"
          ]
        },
        {
          "output_type": "display_data",
          "data": {
            "text/plain": [
              "<Figure size 864x576 with 1 Axes>"
            ],
            "image/png": "[encoded data removed]"
          },
          "metadata": {}
        },
        {
          "output_type": "stream",
          "name": "stdout",
          "text": [
            "Histograms have significant differences:\n",
            "For most age categories, women survive more often (except for about 7-11 years);\n",
            "For men, on the contrary, in most age categories there are more dead than survivors.\n",
            "Thus, men died more often than women.\n"
          ]
        }
      ]
    }
  ]
}