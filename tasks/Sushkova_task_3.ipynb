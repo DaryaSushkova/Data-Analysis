{
  "cells": [
    {
      "cell_type": "markdown",
      "metadata": {
        "id": "s3v5HIUdDvY5"
      },
      "source": [
        "# HSE 2021: Mathematical Methods for Data Analysis\n",
        "\n",
        "## Homework 3\n",
        "\n",
        "**Warning 1**: some problems require (especially the lemmatization part) significant amount of time, so **it is better to start early (!)**\n",
        "\n",
        "**Warning 2**: it is critical to describe and explain what you are doing and why, use markdown cells"
      ]
    },
    {
      "cell_type": "code",
      "execution_count": 1,
      "metadata": {
        "id": "F7t9dYtdDvZC"
      },
      "outputs": [],
      "source": [
        "from typing import Tuple, List\n",
        "\n",
        "import matplotlib.pyplot as plt\n",
        "import numpy as np\n",
        "import pandas as pd\n",
        "import seaborn as sns\n",
        "%matplotlib inline\n",
        "\n",
        "sns.set(style=\"darkgrid\")"
      ]
    },
    {
      "cell_type": "markdown",
      "metadata": {
        "id": "fIHtwV6vDvZD"
      },
      "source": [
        "## PART 1: Logit model"
      ]
    },
    {
      "cell_type": "markdown",
      "metadata": {
        "id": "Q7XKEWcVDvZD"
      },
      "source": [
        "We consider a binary classification problem. For prediction, we would like to use a logistic regression model. For regularization we add a combination of the $l_2$ and $l_1$ penalties (Elastic Net). \n",
        "\n",
        "Each object in the training dataset is indexed with $i$ and described by pair: features $x_i\\in\\mathbb{R}^{K}$ and binary labels $y_i$. The model parametrized with bias $w_0\\in\\mathbb{R}$ and weights $w\\in\\mathbb{R}^K$.\n",
        "\n",
        "The optimization problem with respect to the $w_0, w$ is the following (Elastic Net Loss):\n",
        "\n",
        "$$L(w, w_0) = \\frac{1}{N} \\sum_{i=1}^N \\ln(1+\\exp(-y_i(w^\\top x_i+w_0))) + \\gamma \\|w\\|_1 + \\beta \\|w\\|_2^2$$."
      ]
    },
    {
      "cell_type": "markdown",
      "metadata": {
        "id": "j1eSuDKXFVZu"
      },
      "source": [
        "#### 1. [0.5 points]  Find the gradient of the Elastic Net loss and write its formulas (better in latex format) "
      ]
    },
    {
      "cell_type": "markdown",
      "metadata": {
        "id": "1zjH-YnPDvZD"
      },
      "source": [
        "Градиент представляет собой частные производные по каждому из параметров $w_0$ и $w$, найдем их:   \n",
        "$$\\nabla_w L(w, w_0)=\\frac{1}{N} \\sum_{i=1}^N \\ln'(1+\\exp(-y_i(w^\\top x_i+w_0))) + \\gamma (\\|w\\|_1)' + \\beta (\\|w\\|_2^2)';$$\n",
        "Примечание для производных норм разного порядка (по вектору $w$, по вектору $w_0$ они будут равны $0$):   \n",
        "$$(\\|w\\|_1)'=\\frac{\\partial \\|w\\|_1}{\\partial w}=\\frac{\\partial w ⋅sign(w)}{\\partial w}=sign(w);$$   \n",
        "$$\\|w\\|_2^2=\\sum_{i=1} |w_i|^2=\\sum_{i=1} w_i^2 ⇒(\\|w\\|_2^2)'=\\frac{\\partial \\|w\\|_2^2}{\\partial w}=\\frac{\\partial w ⋅2w}{\\partial w}=2w;$$  \n",
        "Тогда получаем следующий результат:    \n",
        "$$\\nabla_w L(w, w_0)=\\frac{1}{N} \\sum_{i=1}^N \\frac{(-y_i(w^\\top x_i+w_0))' \\cdot \\exp(-y_i(w^\\top x_i+w_0))}{1+\\exp(-y_i(w^\\top x_i+w_0))} + \\gamma \\operatorname{sign}(w) + 2\\beta w;$$   \n",
        "$$\\nabla_w L(w, w_0)=\\frac{1}{N} \\sum_{i=1}^N \\frac{-y_i x_i \\cdot \\exp(-y_i(w^\\top x_i+w_0))}{1+\\exp(-y_i(w^\\top x_i+w_0))} + \\gamma \\operatorname{sign}(w) + 2\\beta w.$$   \n",
        "Теперь для $w_0$:\n",
        "$$\\nabla_{w_0} L(w, w_0)=\\frac{1}{N} \\sum_{i=1}^N \\ln'(1+\\exp(-y_i(w^\\top x_i+w_0))) + \\gamma (\\|w\\|_1)' + \\beta (\\|w\\|_2^2)';$$\n",
        "$$\\nabla_{w_0} L(w, w_0)=\\frac{1}{N} \\sum_{i=1}^N \\frac{(-y_i(w^\\top x_i+w_0))' \\cdot \\exp(-y_i(w^\\top x_i+w_0))}{1+\\exp(-y_i(w^\\top x_i+w_0))};$$\n",
        "$$\\nabla_{w_0} L(w, w_0)=\\frac{1}{N} \\sum_{i=1}^N \\frac{-y_i \\cdot \\exp(-y_i(w^\\top x_i+w_0))}{1+\\exp(-y_i(w^\\top x_i+w_0))}.$$"
      ]
    },
    {
      "cell_type": "markdown",
      "metadata": {
        "id": "Q_lIccN_DvZE"
      },
      "source": [
        "#### 2. [0.25 points] Implement the Elastic Net loss (as a function)"
      ]
    },
    {
      "cell_type": "code",
      "execution_count": 2,
      "metadata": {
        "id": "9QNfCtV5DvZE"
      },
      "outputs": [],
      "source": [
        "# Для нахождения нормы вектора.\n",
        "from numpy.linalg import norm\n",
        "\n",
        "def loss(X, y, w: List[float], w0: float, gamma=1., beta=1.) -> float:\n",
        "    return np.sum(np.log(1 + np.exp(-y * (X @ w.T + w0)))) / len(X) + gamma * norm(w, ord = 1) + beta * np.square(norm(w))"
      ]
    },
    {
      "cell_type": "markdown",
      "metadata": {
        "id": "fIVoC6UmDvZE"
      },
      "source": [
        "#### 3. [0.25 points] Implement the gradient (as a function)"
      ]
    },
    {
      "cell_type": "code",
      "execution_count": 3,
      "metadata": {
        "id": "HWqBLGRADvZE"
      },
      "outputs": [],
      "source": [
        "def get_grad(X, y, w: List[float], w0: float, gamma=1., beta=1.) -> Tuple[List[float], float]:\n",
        "    # Посчитаем отдельно для упрощения формул.\n",
        "    optional = np.exp(-y * (X @ w.T + w0))\n",
        "    grad_w0 = np.sum(-y * optional / (1 + optional)) / len(X)\n",
        "    # Сделаем ход конем и избавимся от суммирования посредством матричного умножения (Господи, я мегамозг)\n",
        "    grad_w = (-y * optional / (1 + optional)) / len(X) @ X + gamma * np.sign(w) + 2 * beta * w\n",
        "    \n",
        "    return grad_w, grad_w0"
      ]
    },
    {
      "cell_type": "markdown",
      "metadata": {
        "id": "BhOb8HrtDvZF"
      },
      "source": [
        "#### Check yourself"
      ]
    },
    {
      "cell_type": "code",
      "execution_count": 4,
      "metadata": {
        "id": "3FxXTocHDvZF",
        "colab": {
          "base_uri": "https://localhost:8080/"
        },
        "outputId": "1f969502-e50f-4656-f1f6-76f5956e1109"
      },
      "outputs": [
        {
          "output_type": "stream",
          "name": "stdout",
          "text": [
            "[-2.73262181 -1.87176392  1.30051023  2.53598816 -2.71198278]\n"
          ]
        }
      ],
      "source": [
        "np.random.seed(42)\n",
        "X = np.random.multivariate_normal(np.arange(5), np.eye(5), size=10)\n",
        "y = np.random.binomial(1, 0.42, size=10)\n",
        "w, w0 = np.random.normal(size=5), np.random.normal()\n",
        "\n",
        "grad_w, grad_w0 = get_grad(X, y, w, w0)\n",
        "print(grad_w)\n",
        "assert(np.allclose(grad_w,\n",
        "                   [-2.73262076, -1.87176281, 1.30051144, 2.53598941, -2.71198109],\n",
        "                   rtol=1e-2) & \\\n",
        "       np.allclose(grad_w0,\n",
        "                   -0.2078231418067844, \n",
        "                   rtol=1e-2)\n",
        ")"
      ]
    },
    {
      "cell_type": "markdown",
      "metadata": {
        "id": "LbqLfcrRDvZF"
      },
      "source": [
        "####  4. [1 point]  Implement gradient descent which works for both tol level and max_iter stop criteria and plot the decision boundary of the result"
      ]
    },
    {
      "cell_type": "markdown",
      "metadata": {
        "id": "iIgiwQkjDvZF"
      },
      "source": [
        "The template provides basic sklearn API class. You are free to modify it in any convenient way."
      ]
    },
    {
      "cell_type": "code",
      "execution_count": 5,
      "metadata": {
        "id": "Thyeux0KDvZG"
      },
      "outputs": [],
      "source": [
        "from sklearn.base import BaseEstimator, ClassifierMixin"
      ]
    },
    {
      "cell_type": "code",
      "execution_count": 53,
      "metadata": {
        "id": "erVmNR0PDvZG"
      },
      "outputs": [],
      "source": [
        "class Logit(BaseEstimator, ClassifierMixin):\n",
        "    def __init__(self, beta=1.0, gamma=1.0, learning_rate=1e-3, tolerance=0.01, max_iter=1000, random_state=42):  \n",
        "        self.beta = beta        \n",
        "        self.gamma = gamma\n",
        "        self.tolerance= tolerance \n",
        "        self.max_iter= max_iter\n",
        "        self.learning_rate = learning_rate\n",
        "        self.random_state = random_state\n",
        "        self.classes = np.array([-1, 1])  # Возможные классы, ВАЖНО, что negative класс имеет значение -1.\n",
        "        # you may additional properties if you wish\n",
        "        \n",
        "    def fit(self, X, y):\n",
        "        # add weights and bias and optimize Elastic Net loss over (X,y) dataset\n",
        "        # save history of optimization steps\n",
        "        self.loss_history = []\n",
        "        X = np.array(X)\n",
        "        y = np.array(y)\n",
        "        \n",
        "        # Начальная инициализация весов.\n",
        "        np.random.seed(self.random_state)\n",
        "        self.w = np.random.normal(size=X.shape[1])\n",
        "        self.w0 = np.random.normal(size=1)\n",
        "\n",
        "        # Критерий остановки максимальной итерации.\n",
        "        for i in range(self.max_iter):\n",
        "          # Использование функции, реализованной в номере 3.\n",
        "          grad_w, grad_w0 = get_grad(X, y, self.w, self.w0, self.gamma, self.beta)\n",
        "          # Критерий остановки по параметру tolerance.\n",
        "          if norm(grad_w) < self.tolerance:\n",
        "            break\n",
        "          self.w -= grad_w * self.learning_rate\n",
        "          self.w0 -= grad_w0 * self.learning_rate\n",
        "          # Использование функции, реализованной в номере 2.\n",
        "          loss_value = loss(X, y, self.w, self.w0, self.gamma, self.beta)\n",
        "          self.loss_history.append(loss_value)\n",
        "\n",
        "        return self\n",
        "      \n",
        "    def predict(self, X):\n",
        "        # return vector of predicted labels for each object from X\n",
        "        max_index = np.argmax(self.predict_proba(X), axis = 1)\n",
        "        predict = self.classes[max_index]\n",
        "        return predict\n",
        "        \n",
        "    # Я видоизменила реализацию данной функции, так как мне\n",
        "    # нужен единый двумерный массив в качестве возвратного значения.\n",
        "    def predict_proba(self, X):\n",
        "        negative = 1 / (1 + np.exp(X @ self.w + self.w0))\n",
        "        positive = 1 / (1 + np.exp(- X @ self.w - self.w0))\n",
        "        return np.column_stack((negative, positive))"
      ]
    },
    {
      "cell_type": "code",
      "execution_count": 54,
      "metadata": {
        "id": "7SJX8Y6EDvZG"
      },
      "outputs": [],
      "source": [
        "# sample data to test your model\n",
        "from sklearn.datasets import make_classification\n",
        "X, y = make_classification(n_samples=180, n_features=2, n_redundant=0, n_informative=2,\n",
        "                               random_state=42, n_clusters_per_class=1)"
      ]
    },
    {
      "cell_type": "code",
      "execution_count": 8,
      "metadata": {
        "id": "u41kzwGTDvZH"
      },
      "outputs": [],
      "source": [
        "# a function to plot the decision boundary\n",
        "def plot_decision_boundary(model, X, y):\n",
        "    fig = plt.figure()\n",
        "    X1min, X2min = X.min(axis=0)\n",
        "    X1max, X2max = X.max(axis=0)\n",
        "    x1, x2 = np.meshgrid(np.linspace(X1min, X1max, 200),\n",
        "                         np.linspace(X2min, X2max, 200))\n",
        "    ypred = model.predict(np.c_[x1.ravel(), x2.ravel()])\n",
        "    ypred = ypred.reshape(x1.shape)\n",
        "    \n",
        "    plt.contourf(x1, x2, ypred, alpha=.4, colors = ['white', 'black'])\n",
        "    plt.scatter(X[:,0], X[:,1], c=y)"
      ]
    },
    {
      "cell_type": "code",
      "execution_count": 9,
      "metadata": {
        "id": "mNuYbsAoDvZI",
        "colab": {
          "base_uri": "https://localhost:8080/",
          "height": 268
        },
        "outputId": "417aea58-0c54-482b-aa7e-386cbfb9352c"
      },
      "outputs": [
        {
          "output_type": "display_data",
          "data": {
            "text/plain": [
              "<Figure size 432x288 with 1 Axes>"
            ],
            "image/png": "[encoded data removed]"
          },
          "metadata": {}
        }
      ],
      "source": [
        "model = Logit(0, 0, learning_rate = 0.7)\n",
        "y[y == 0] = -1\n",
        "model.fit(X, y)\n",
        "plot_decision_boundary(model, X, y)"
      ]
    },
    {
      "cell_type": "markdown",
      "metadata": {
        "id": "Qi4WRhcADvZI"
      },
      "source": [
        "#### 5. [0.25 points] Plot loss diagram for the model, i.e. show the dependence of the loss function from the gradient descent steps"
      ]
    },
    {
      "cell_type": "code",
      "execution_count": 10,
      "metadata": {
        "id": "VyjMDAKuDvZI",
        "colab": {
          "base_uri": "https://localhost:8080/",
          "height": 285
        },
        "outputId": "f869b68e-5a8d-42d0-f34a-3b0d3bba5d7d"
      },
      "outputs": [
        {
          "output_type": "display_data",
          "data": {
            "text/plain": [
              "<Figure size 432x288 with 1 Axes>"
            ],
            "image/png": "[encoded data removed]"
          },
          "metadata": {}
        }
      ],
      "source": [
        "plt.plot(model.loss_history)\n",
        "plt.xlabel('GD steps')\n",
        "plt.ylabel('loss function')\n",
        "plt.show()"
      ]
    },
    {
      "cell_type": "markdown",
      "source": [
        "Как и ожидалось, с ростом шагов градиентного спуска значение функции потери достаточно резко падает."
      ],
      "metadata": {
        "id": "_d2uXTJ-6Fwz"
      }
    },
    {
      "cell_type": "markdown",
      "metadata": {
        "id": "0FhSCAv_DvZJ"
      },
      "source": [
        "## PART 2: Support Vector Machines"
      ]
    },
    {
      "cell_type": "markdown",
      "metadata": {
        "id": "lYyGsSxEDvZJ"
      },
      "source": [
        "#### 6. [2 point] Using the same dataset, train SVM Classifier from Sklearn.\n",
        "Investigate how different parameters influence the quality of the solution:\n",
        "+ Try several kernels: Linear, Polynomial, RBF (and others if you wish). Some Kernels have hypermeters: don't forget to try different.\n",
        "+ Regularization coefficient \n",
        "\n",
        "Show how these parameters affect accuracy, roc_auc and f1 score. \n",
        "Make plots for the dependencies between metrics and parameters. \n",
        "Try to formulate conclusions from the observations. How sensitive are kernels to hyperparameters? How sensitive is a solution to the regularization? Which kernel is prone to overfitting?"
      ]
    },
    {
      "cell_type": "code",
      "execution_count": 11,
      "metadata": {
        "id": "Nicu_O3IDvZK"
      },
      "outputs": [],
      "source": [
        "from sklearn.svm import SVC\n",
        "from sklearn.model_selection import train_test_split\n",
        "from sklearn.metrics import accuracy_score, roc_auc_score, f1_score\n",
        "import matplotlib.colors as colors"
      ]
    },
    {
      "cell_type": "code",
      "source": [
        "logs = np.logspace(-2, 2, num = 20)\n",
        "\n",
        "X_train, X_test, y_train, y_test = train_test_split(X, y, test_size = 0.2, random_state = 88)\n",
        "colors_list = list(colors._colors_full_map.values())\n",
        "\n",
        "# Рассматриваем разные ядра с учетом разных гиперпараметров.\n",
        "parameters = {\"linear\" : {\"args\" : {\"kernel\":'linear'}, \"color\" : colors_list[5]},\n",
        "              \"polynomial 3\" : {\"args\" : {\"kernel\":'poly', \"degree\":3}, \"color\" : colors_list[15]},\n",
        "              \"polynomial 4\" : {\"args\" : {\"kernel\":'poly', \"degree\":4}, \"color\" : colors_list[20]},\n",
        "              \"RBF 0.1\" : {\"args\" : {\"kernel\":'rbf', \"gamma\":0.1}, \"color\" : colors_list[30]},\n",
        "              \"RBF 0.5\" : {\"args\" : {\"kernel\":'rbf', \"gamma\":0.5}, \"color\" : colors_list[50]}}\n",
        "\n",
        "for kernel in parameters.values():\n",
        "  kernel[\"test\"] = {\"accuracy\": list(), \"roc_auc\": list(), \"f1_score\": list()}\n",
        "  kernel[\"train\"] = {\"accuracy\": list(), \"roc_auc\": list(), \"f1_score\": list()}\n",
        "  \n",
        "  for reg_c in logs:\n",
        "    clf = SVC(**kernel[\"args\"], C = reg_c)\n",
        "    clf.fit(X_train, y_train)\n",
        "\n",
        "    # Для тестового набора.\n",
        "    ypred = clf.predict(X_test)\n",
        "    kernel[\"test\"][\"accuracy\"].append(accuracy_score(y_test, ypred))\n",
        "    kernel[\"test\"][\"roc_auc\"].append(roc_auc_score(y_test, ypred))\n",
        "    kernel[\"test\"][\"f1_score\"].append(f1_score(y_test, ypred))\n",
        "\n",
        "    # Для тренировочного набора (используем для оценки overfitting).\n",
        "    ypred = clf.predict(X_train)\n",
        "    kernel[\"train\"][\"accuracy\"].append(accuracy_score(y_train, ypred))\n",
        "    kernel[\"train\"][\"roc_auc\"].append(roc_auc_score(y_train, ypred))\n",
        "    kernel[\"train\"][\"f1_score\"].append(f1_score(y_train, ypred))\n",
        "\n",
        "  print(kernel)\n"
      ],
      "metadata": {
        "colab": {
          "base_uri": "https://localhost:8080/"
        },
        "id": "P-WCYdjZJXqY",
        "outputId": "05da7bae-0f48-4fc7-c621-a8e195c3c067"
      },
      "execution_count": 58,
      "outputs": [
        {
          "output_type": "stream",
          "name": "stdout",
          "text": [
            "{'args': {'kernel': 'linear'}, 'color': '#894585', 'test': {'accuracy': [0.9444444444444444, 0.9444444444444444, 0.9444444444444444, 0.9444444444444444, 0.9444444444444444, 0.9444444444444444, 0.9444444444444444, 0.9444444444444444, 0.9444444444444444, 0.9444444444444444, 0.9166666666666666, 0.9166666666666666, 0.9166666666666666, 0.9166666666666666, 0.9166666666666666, 0.9166666666666666, 0.9166666666666666, 0.9166666666666666, 0.9444444444444444, 0.9444444444444444], 'roc_auc': [0.9565217391304348, 0.9565217391304348, 0.9565217391304348, 0.9565217391304348, 0.9565217391304348, 0.9565217391304348, 0.9565217391304348, 0.9565217391304348, 0.9565217391304348, 0.9565217391304348, 0.9180602006688964, 0.9180602006688964, 0.9180602006688964, 0.9180602006688964, 0.9180602006688964, 0.9180602006688964, 0.9180602006688964, 0.9013377926421405, 0.9230769230769231, 0.9230769230769231], 'f1_score': [0.9285714285714286, 0.9285714285714286, 0.9285714285714286, 0.9285714285714286, 0.9285714285714286, 0.9285714285714286, 0.9285714285714286, 0.9285714285714286, 0.9285714285714286, 0.9285714285714286, 0.888888888888889, 0.888888888888889, 0.888888888888889, 0.888888888888889, 0.888888888888889, 0.888888888888889, 0.888888888888889, 0.8799999999999999, 0.9166666666666666, 0.9166666666666666]}, 'train': {'accuracy': [0.9444444444444444, 0.9583333333333334, 0.9791666666666666, 0.9791666666666666, 0.9861111111111112, 0.9930555555555556, 0.9930555555555556, 0.9930555555555556, 0.9930555555555556, 1.0, 1.0, 1.0, 1.0, 1.0, 1.0, 1.0, 1.0, 1.0, 1.0, 1.0], 'roc_auc': [0.9412676875363443, 0.9552238805970149, 0.9776119402985074, 0.9776119402985074, 0.9850746268656717, 0.9925373134328358, 0.9925373134328358, 0.9925373134328358, 0.9925373134328358, 1.0, 1.0, 1.0, 1.0, 1.0, 1.0, 1.0, 1.0, 1.0, 1.0, 1.0], 'f1_score': [0.95, 0.9625, 0.980891719745223, 0.980891719745223, 0.9871794871794872, 0.9935483870967742, 0.9935483870967742, 0.9935483870967742, 0.9935483870967742, 1.0, 1.0, 1.0, 1.0, 1.0, 1.0, 1.0, 1.0, 1.0, 1.0, 1.0]}}\n",
            "{'args': {'kernel': 'poly', 'degree': 3}, 'color': '#efb435', 'test': {'accuracy': [0.6388888888888888, 0.6666666666666666, 0.8611111111111112, 0.9722222222222222, 0.9722222222222222, 0.9722222222222222, 0.9444444444444444, 0.9444444444444444, 0.9722222222222222, 0.9722222222222222, 0.9722222222222222, 1.0, 0.9722222222222222, 0.9722222222222222, 1.0, 1.0, 1.0, 1.0, 1.0, 1.0], 'roc_auc': [0.7173913043478262, 0.7391304347826086, 0.891304347826087, 0.9615384615384616, 0.9615384615384616, 0.9615384615384616, 0.9230769230769231, 0.9230769230769231, 0.9615384615384616, 0.9615384615384616, 0.9615384615384616, 1.0, 0.9615384615384616, 0.9615384615384616, 1.0, 1.0, 1.0, 1.0, 1.0, 1.0], 'f1_score': [0.6666666666666666, 0.6842105263157895, 0.8387096774193548, 0.9600000000000001, 0.9600000000000001, 0.9600000000000001, 0.9166666666666666, 0.9166666666666666, 0.9600000000000001, 0.9600000000000001, 0.9600000000000001, 1.0, 0.9600000000000001, 0.9600000000000001, 1.0, 1.0, 1.0, 1.0, 1.0, 1.0]}, 'train': {'accuracy': [0.6527777777777778, 0.7222222222222222, 0.8263888888888888, 0.9791666666666666, 0.9722222222222222, 0.9791666666666666, 0.9791666666666666, 0.9791666666666666, 0.9791666666666666, 1.0, 1.0, 1.0, 1.0, 1.0, 1.0, 1.0, 1.0, 1.0, 1.0, 1.0], 'roc_auc': [0.6278348517154487, 0.7024617173870904, 0.8134328358208955, 0.9776119402985074, 0.9730567939523164, 0.9805194805194806, 0.9805194805194806, 0.9805194805194806, 0.9805194805194806, 1.0, 1.0, 1.0, 1.0, 1.0, 1.0, 1.0, 1.0, 1.0, 1.0, 1.0], 'f1_score': [0.7524752475247525, 0.7916666666666666, 0.8603351955307262, 0.980891719745223, 0.9736842105263157, 0.9801324503311257, 0.9801324503311257, 0.9801324503311257, 0.9801324503311257, 1.0, 1.0, 1.0, 1.0, 1.0, 1.0, 1.0, 1.0, 1.0, 1.0, 1.0]}}\n",
            "{'args': {'kernel': 'poly', 'degree': 4}, 'color': '#3778bf', 'test': {'accuracy': [0.5, 0.5555555555555556, 0.9166666666666666, 0.7222222222222222, 0.7222222222222222, 0.7222222222222222, 0.7222222222222222, 0.75, 0.8055555555555556, 0.8055555555555556, 0.8888888888888888, 0.8888888888888888, 0.9166666666666666, 0.9166666666666666, 0.9166666666666666, 0.9166666666666666, 0.9166666666666666, 0.9166666666666666, 0.8888888888888888, 0.9166666666666666], 'roc_auc': [0.5919732441471572, 0.6354515050167224, 0.8846153846153846, 0.6153846153846154, 0.6153846153846154, 0.6153846153846154, 0.6153846153846154, 0.6538461538461539, 0.7307692307692308, 0.7307692307692308, 0.8461538461538461, 0.8461538461538461, 0.8846153846153846, 0.8846153846153846, 0.8846153846153846, 0.8846153846153846, 0.8846153846153846, 0.8846153846153846, 0.862876254180602, 0.8846153846153846], 'f1_score': [0.5714285714285715, 0.6, 0.8695652173913044, 0.375, 0.375, 0.375, 0.375, 0.47058823529411764, 0.631578947368421, 0.631578947368421, 0.8181818181818181, 0.8181818181818181, 0.8695652173913044, 0.8695652173913044, 0.8695652173913044, 0.8695652173913044, 0.8695652173913044, 0.8695652173913044, 0.8333333333333333, 0.8695652173913044]}, 'train': {'accuracy': [0.5763888888888888, 0.6111111111111112, 0.9375, 0.8611111111111112, 0.8194444444444444, 0.8611111111111112, 0.8958333333333334, 0.9375, 0.9444444444444444, 0.9583333333333334, 0.9583333333333334, 0.9652777777777778, 0.9930555555555556, 0.9861111111111112, 0.9930555555555556, 0.9930555555555556, 0.9930555555555556, 0.9930555555555556, 1.0, 1.0], 'roc_auc': [0.5486528396976158, 0.584997092459779, 0.9367125411901531, 0.8701298701298701, 0.8311688311688312, 0.8701298701298701, 0.901628222523745, 0.9405892614847837, 0.9470827679782904, 0.9600697809653033, 0.958131420817988, 0.9655941073851523, 0.9925373134328358, 0.9850746268656717, 0.9925373134328358, 0.9925373134328358, 0.9925373134328358, 0.9925373134328358, 1.0, 1.0], 'f1_score': [0.7053140096618358, 0.7254901960784313, 0.9419354838709677, 0.8507462686567165, 0.796875, 0.8507462686567165, 0.8936170212765957, 0.9387755102040817, 0.9459459459459459, 0.9600000000000001, 0.961038961038961, 0.9673202614379085, 0.9935483870967742, 0.9871794871794872, 0.9935483870967742, 0.9935483870967742, 0.9935483870967742, 0.9935483870967742, 1.0, 1.0]}}\n",
            "{'args': {'kernel': 'rbf', 'gamma': 0.1}, 'color': '#08787f', 'test': {'accuracy': [0.3611111111111111, 0.3611111111111111, 0.75, 0.9444444444444444, 0.9444444444444444, 0.9444444444444444, 0.9444444444444444, 0.9444444444444444, 0.9444444444444444, 0.9444444444444444, 0.9444444444444444, 0.9444444444444444, 0.9444444444444444, 0.9444444444444444, 0.9444444444444444, 0.9444444444444444, 0.9444444444444444, 0.9444444444444444, 1.0, 1.0], 'roc_auc': [0.5, 0.5, 0.8043478260869565, 0.9565217391304348, 0.9565217391304348, 0.9565217391304348, 0.9565217391304348, 0.9565217391304348, 0.9565217391304348, 0.9565217391304348, 0.9565217391304348, 0.9565217391304348, 0.9565217391304348, 0.9565217391304348, 0.9565217391304348, 0.9565217391304348, 0.9565217391304348, 0.9565217391304348, 1.0, 1.0], 'f1_score': [0.5306122448979591, 0.5306122448979591, 0.7428571428571429, 0.9285714285714286, 0.9285714285714286, 0.9285714285714286, 0.9285714285714286, 0.9285714285714286, 0.9285714285714286, 0.9285714285714286, 0.9285714285714286, 0.9285714285714286, 0.9285714285714286, 0.9285714285714286, 0.9285714285714286, 0.9285714285714286, 0.9285714285714286, 0.9285714285714286, 1.0, 1.0]}, 'train': {'accuracy': [0.5347222222222222, 0.5347222222222222, 0.7430555555555556, 0.9375, 0.9513888888888888, 0.9722222222222222, 0.9722222222222222, 0.9722222222222222, 0.9791666666666666, 0.9930555555555556, 0.9930555555555556, 1.0, 1.0, 1.0, 1.0, 1.0, 1.0, 1.0, 1.0, 1.0], 'roc_auc': [0.5, 0.5, 0.7238805970149254, 0.9338050009691801, 0.9477611940298508, 0.9701492537313433, 0.9701492537313433, 0.9701492537313433, 0.9776119402985074, 0.9925373134328358, 0.9925373134328358, 1.0, 1.0, 1.0, 1.0, 1.0, 1.0, 1.0, 1.0, 1.0], 'f1_score': [0.6968325791855203, 0.6968325791855203, 0.806282722513089, 0.9440993788819876, 0.9565217391304348, 0.9746835443037974, 0.9746835443037974, 0.9746835443037974, 0.980891719745223, 0.9935483870967742, 0.9935483870967742, 1.0, 1.0, 1.0, 1.0, 1.0, 1.0, 1.0, 1.0, 1.0]}}\n",
            "{'args': {'kernel': 'rbf', 'gamma': 0.5}, 'color': '#430541', 'test': {'accuracy': [0.3611111111111111, 0.3611111111111111, 0.8333333333333334, 0.9166666666666666, 0.9444444444444444, 0.9444444444444444, 0.9444444444444444, 0.9444444444444444, 0.9444444444444444, 0.9444444444444444, 0.9444444444444444, 0.9444444444444444, 0.9444444444444444, 0.9444444444444444, 0.9444444444444444, 0.9722222222222222, 0.9722222222222222, 0.9722222222222222, 0.9722222222222222, 0.9722222222222222], 'roc_auc': [0.5, 0.5, 0.8695652173913043, 0.9347826086956521, 0.9565217391304348, 0.9565217391304348, 0.9565217391304348, 0.9565217391304348, 0.9565217391304348, 0.9565217391304348, 0.9565217391304348, 0.9565217391304348, 0.9565217391304348, 0.9565217391304348, 0.9565217391304348, 0.9782608695652174, 0.9782608695652174, 0.9782608695652174, 0.9782608695652174, 0.9782608695652174], 'f1_score': [0.5306122448979591, 0.5306122448979591, 0.8125000000000001, 0.896551724137931, 0.9285714285714286, 0.9285714285714286, 0.9285714285714286, 0.9285714285714286, 0.9285714285714286, 0.9285714285714286, 0.9285714285714286, 0.9285714285714286, 0.9285714285714286, 0.9285714285714286, 0.9285714285714286, 0.962962962962963, 0.962962962962963, 0.962962962962963, 0.962962962962963, 0.962962962962963]}, 'train': {'accuracy': [0.5347222222222222, 0.5347222222222222, 0.8541666666666666, 0.9652777777777778, 0.9722222222222222, 0.9791666666666666, 0.9930555555555556, 0.9930555555555556, 0.9930555555555556, 1.0, 1.0, 1.0, 1.0, 1.0, 1.0, 1.0, 1.0, 1.0, 1.0, 1.0], 'roc_auc': [0.5, 0.5, 0.8432835820895522, 0.9626865671641791, 0.9701492537313433, 0.9776119402985074, 0.9925373134328358, 0.9925373134328358, 0.9925373134328358, 1.0, 1.0, 1.0, 1.0, 1.0, 1.0, 1.0, 1.0, 1.0, 1.0, 1.0], 'f1_score': [0.6968325791855203, 0.6968325791855203, 0.88, 0.9685534591194969, 0.9746835443037974, 0.980891719745223, 0.9935483870967742, 0.9935483870967742, 0.9935483870967742, 1.0, 1.0, 1.0, 1.0, 1.0, 1.0, 1.0, 1.0, 1.0, 1.0, 1.0]}}\n"
          ]
        }
      ]
    },
    {
      "cell_type": "markdown",
      "source": [
        "Посмотрим, как параметры влияют на метрики и построим графики зависимости для каждой из них. Сначала рассмотрим $accuracy$:"
      ],
      "metadata": {
        "id": "fFNzfaRVZ5OY"
      }
    },
    {
      "cell_type": "code",
      "source": [
        "def plot_svm(val, metric, train = False):\n",
        "    plt.xscale(\"log\")\n",
        "    plt.xlabel(\"reg_coeff\")\n",
        "    plt.ylabel(metric)\n",
        "    plt.ylim(0.3, 1.1)\n",
        "    y_val = parameters[val][\"test\"][metric]\n",
        "    color_val = parameters[val][\"color\"]\n",
        "    plt.plot(logs, y_val, label = val, c = color_val)\n",
        "    if train:\n",
        "      y_val = parameters[val][\"train\"][metric]\n",
        "      plt.plot(logs, y_val, linestyle = \"--\", label = val, c = color_val)"
      ],
      "metadata": {
        "id": "YMdm5d2LRMSU"
      },
      "execution_count": 64,
      "outputs": []
    },
    {
      "cell_type": "code",
      "source": [
        "for val in parameters:\n",
        "  plot_svm(val, \"accuracy\")\n",
        "plt.legend()\n",
        "plt.show()"
      ],
      "metadata": {
        "colab": {
          "base_uri": "https://localhost:8080/",
          "height": 295
        },
        "id": "ZT6DCrjDaqFA",
        "outputId": "df203f14-d22a-4999-89b5-355ecf240eb1"
      },
      "execution_count": 65,
      "outputs": [
        {
          "output_type": "display_data",
          "data": {
            "text/plain": [
              "<Figure size 432x288 with 1 Axes>"
            ],
            "image/png": "[encoded data removed]"
          },
          "metadata": {}
        }
      ]
    },
    {
      "cell_type": "markdown",
      "source": [
        "Теперь построим график зависимости для метрики $roc\\_auc$:"
      ],
      "metadata": {
        "id": "BKb-abDuCkLn"
      }
    },
    {
      "cell_type": "code",
      "source": [
        "for val in parameters:\n",
        "  plot_svm(val, \"roc_auc\")\n",
        "plt.legend()\n",
        "plt.show()"
      ],
      "metadata": {
        "colab": {
          "base_uri": "https://localhost:8080/",
          "height": 295
        },
        "id": "DbyvBMKlCxOZ",
        "outputId": "d3e256ca-602c-4b56-d299-ba61fa9611fd"
      },
      "execution_count": 66,
      "outputs": [
        {
          "output_type": "display_data",
          "data": {
            "text/plain": [
              "<Figure size 432x288 with 1 Axes>"
            ],
            "image/png": "[encoded data removed]"
          },
          "metadata": {}
        }
      ]
    },
    {
      "cell_type": "markdown",
      "source": [
        "Наконец, построим график зависимости метрики $F1-score$ от параметров:"
      ],
      "metadata": {
        "id": "GzvhBNGCDAsU"
      }
    },
    {
      "cell_type": "code",
      "source": [
        "for val in parameters:\n",
        "  plot_svm(val, \"f1_score\")\n",
        "plt.legend()\n",
        "plt.show()"
      ],
      "metadata": {
        "colab": {
          "base_uri": "https://localhost:8080/",
          "height": 295
        },
        "id": "1DjEJQ9jDWDv",
        "outputId": "8c2cadf0-faaf-453f-c12f-07d16498af25"
      },
      "execution_count": 67,
      "outputs": [
        {
          "output_type": "display_data",
          "data": {
            "text/plain": [
              "<Figure size 432x288 with 1 Axes>"
            ],
            "image/png": "[encoded data removed]"
          },
          "metadata": {}
        }
      ]
    },
    {
      "cell_type": "markdown",
      "source": [
        "_Вывод_: в общем и целом, характер влияния параметров на все рассматриваемые метрики идентичен:   \n",
        "1) С ростом коэффициента регуляризации метрики разных ядер сходятся к приблизительно единому значению, при этом для большинства (за исключением $linear$) ядер значение метрики выросло;   \n",
        "2) Характер изменения графиков для разных ядер схож, только полином 4-ой степени показывает значительные колебания, резко падая при коэффициенте регуляризации, близком к $0.1$;   \n",
        "3) Касаемо гиперпараметров: для $RBF$ значение $gamma$ не сильно повлияло на результат, а для $polynomial$, как было отмечено выше, показатель степени $degree=4$ повышает восприимчивость к регуляризации."
      ],
      "metadata": {
        "id": "qJ-4RhvzLvQW"
      }
    },
    {
      "cell_type": "markdown",
      "source": [
        "Чтобы оценить $overfitting$, построим графики для ядер, отражающие $accuracy$ для тренировочных и тестовых наборов данных соответственно:"
      ],
      "metadata": {
        "id": "4LLxGZxmO1b1"
      }
    },
    {
      "cell_type": "code",
      "source": [
        "for val in parameters:\n",
        "  plot_svm(val, \"accuracy\", train = True)\n",
        "  plt.legend()\n",
        "  plt.show()"
      ],
      "metadata": {
        "colab": {
          "base_uri": "https://localhost:8080/",
          "height": 1000
        },
        "id": "xZHKrF-E0IXa",
        "outputId": "3c1a451d-4184-46b4-9f75-560c8ff7fb55"
      },
      "execution_count": 68,
      "outputs": [
        {
          "output_type": "display_data",
          "data": {
            "text/plain": [
              "<Figure size 432x288 with 1 Axes>"
            ],
            "image/png": "[encoded data removed]"
          },
          "metadata": {}
        },
        {
          "output_type": "display_data",
          "data": {
            "text/plain": [
              "<Figure size 432x288 with 1 Axes>"
            ],
            "image/png": "[encoded data removed]"
          },
          "metadata": {}
        },
        {
          "output_type": "display_data",
          "data": {
            "text/plain": [
              "<Figure size 432x288 with 1 Axes>"
            ],
            "image/png": "[encoded data removed]"
          },
          "metadata": {}
        },
        {
          "output_type": "display_data",
          "data": {
            "text/plain": [
              "<Figure size 432x288 with 1 Axes>"
            ],
            "image/png": "[encoded data removed]"
          },
          "metadata": {}
        },
        {
          "output_type": "display_data",
          "data": {
            "text/plain": [
              "<Figure size 432x288 with 1 Axes>"
            ],
            "image/png": "[encoded data removed]"
          },
          "metadata": {}
        }
      ]
    },
    {
      "cell_type": "markdown",
      "source": [
        "Если присутствует $overfitting$, то линия тренировочных данных на графике лежит выше, а также линия тестовых данных идет на спад ближе к правой границе.   \n",
        "Таким образом, $overfitting$ однозначно присутствует у $linear$ и $polynomial$ 4 степени, $RBF$ с $\\gamma=0.5$ на грани (разрыв линий не такой большой и линия тестовых данных все-таки растет)."
      ],
      "metadata": {
        "id": "i8R25NEx1J4H"
      }
    },
    {
      "cell_type": "markdown",
      "metadata": {
        "id": "sY8q6JdCDvZK"
      },
      "source": [
        "## PART 3: Natural Language Processing"
      ]
    },
    {
      "cell_type": "markdown",
      "metadata": {
        "id": "eD4xKhYfDvZK"
      },
      "source": [
        "#### 7. [1.75 point] Form the dataset\n",
        "\n",
        "We are going to form a dataset that we will use in the following tasks for binary and multiclass classification\n",
        "\n",
        "0. Choose **six** authors that you like (specify who you've chosen) and download the <a href=\"https://www.kaggle.com/d0rj3228/russian-literature?select=prose\">relevant data</a> from **prose** section\n",
        "1. Build your own dataset for these authors: \n",
        "    * divide each text into sentences such that we will have two columns: *sentence* and *target author*, each row will contain one sentence and one target\n",
        "    * drop sentences where N symbols in a sentence < 15\n",
        "    * fix random state and randomly choose sentences in the folowing proportion \"5k : 15k : 8k : 11k : 20k : 3k\" for the authors respectively\n",
        "    \n",
        "    sample data may look like:\n",
        "    \n",
        "    <center> \n",
        "    <table>\n",
        "        <tr>\n",
        "            <th> sentence </th>\n",
        "            <th> author </th>\n",
        "        </tr> \n",
        "        <tr><td> Несколько лет тому назад в одном из своих поместий жил старинный русской барин, Кирила Петрович Троекуров. </td><td> Пушкин </td><td> \n",
        "        <tr><td> Уже более недели приезжий господин жил в городе, разъезжая по вечеринкам и обедам и таким образом проводя, как говорится, очень приятно время. </td><td> Гоголь </td><td> \n",
        "        <tr><td> ... </td><td> ... </td><td> \n",
        "        <tr><td> Я жил недорослем, гоняя голубей и играя в чехарду с дворовыми мальчишками. </td><td> Пушкин </td><td>         \n",
        "    </table>\n",
        "</center>\n",
        "     \n",
        "2. Preprocess (tokenize and clean) the dataset \n",
        "    * tokenize, remove all stop words (nltk.corpus.stopwords), punctuation (string.punctuation) and numbers\n",
        "    * convert to lower case and apply either stemming or lemmatization of the words (on your choice)\n",
        "    * vectorize words using both **bag of words** and **tf-idf** (use sklearn)\n",
        "    * observe and describe the difference between vectorized output (what do numbers look like after transformations and what do they represent?)"
      ]
    },
    {
      "cell_type": "code",
      "source": [
        "!git clone https://github.com/DaryaSushkova/ml_data.git"
      ],
      "metadata": {
        "id": "qr6eRYfsD_N9",
        "colab": {
          "base_uri": "https://localhost:8080/"
        },
        "outputId": "489f8cbd-d53b-4259-e7df-7225db54678d"
      },
      "execution_count": 18,
      "outputs": [
        {
          "output_type": "stream",
          "name": "stdout",
          "text": [
            "Cloning into 'ml_data'...\n",
            "remote: Enumerating objects: 3, done.\u001b[K\n",
            "remote: Counting objects: 100% (3/3), done.\u001b[K\n",
            "remote: Compressing objects: 100% (2/2), done.\u001b[K\n",
            "remote: Total 3 (delta 0), reused 3 (delta 0), pack-reused 0\u001b[K\n",
            "Unpacking objects: 100% (3/3), done.\n"
          ]
        }
      ]
    },
    {
      "cell_type": "code",
      "source": [
        "!unzip 'ml_data/prose.zip'"
      ],
      "metadata": {
        "id": "JhGrsr4NFIF1",
        "colab": {
          "base_uri": "https://localhost:8080/"
        },
        "outputId": "da9f3a93-4f27-4070-a0ff-c855b7c9f111"
      },
      "execution_count": 19,
      "outputs": [
        {
          "output_type": "stream",
          "name": "stdout",
          "text": [
            "Archive:  ml_data/prose.zip\n",
            "   creating: prose/\n",
            "   creating: prose/Blok/\n",
            "  inflating: prose/Blok/info.csv     \n",
            "  inflating: prose/Blok/╨б╨║╨░╨╖╨║╨░ ╨╛ ╤В╨╛╨╣, ╨║╨╛╤В╨╛╤А╨░╤П ╨╜╨╡ ╨┐╨╛╨╣╨╝╨╡╤В ╨╡╤С.txt  \n",
            "  inflating: prose/Blok/╨б╨╛╨│╤А╨░╨╢╨┤╨░╨╜╨╡.txt  \n",
            "  inflating: prose/Blok/╨Ф╨╡╨▓╤Г╤И╨║╨░ ╤А╨╛╨╖╨╛╨▓╨╛╨╣ ╨║╨░╨╗╨╕╤В╨║╨╕ ╨╕ ╨╝╤Г╤А╨░╨▓╤М╨╕╨╜╤Л╨╣ ╤Ж╨░╤А╤М.txt  \n",
            "  inflating: prose/Blok/╨Э╨╕ ╤Б╨╜╤Л, ╨╜╨╕ ╤П╨▓╤М.txt  \n",
            "   creating: prose/Bryusov/\n",
            "  inflating: prose/Bryusov/info.csv  \n",
            "  inflating: prose/Bryusov/╨а╨╡╤Б╨┐╤Г╨▒╨╗╨╕╨║╨░ ╨о╨╢╨╜╨╛╨│╨╛ ╨Ъ╤А╨╡╤Б╤В╨░.txt  \n",
            "  inflating: prose/Bryusov/╨а╨╡╤П ╨б╨╕╨╗╤М╨▓╨╕╤П.txt  \n",
            "  inflating: prose/Bryusov/╨а╨░╤Б╤Б╨║╨░╨╖╤Л ╨Ь╨░╤И╨╕, ╤Б ╤А╨╡╨║╨╕ ╨Ь╨╛╨╗╨╛╨│╨╕, ╨┐╨╛╨┤ ╨│╨╛╤А╨╛╨┤╨╛╨╝ ╨г╤Б╤В╤О╨╢╨╜╨░.txt  \n",
            "  inflating: prose/Bryusov/╨б╨╡╤Б╤В╤А╤Л.txt  \n",
            "  inflating: prose/Bryusov/╨б╨╡╨╝╤М ╨╖╨╡╨╝╨╜╤Л╤Е ╤Б╨╛╨▒╨╗╨░╨╖╨╜╨╛╨▓.txt  \n",
            "  inflating: prose/Bryusov/╨в╨╡╨┐╨╡╤А╤М, - ╨║╨╛╨│╨┤╨░ ╤П ╨┐╤А╨╛╤Б╨╜╤Г╨╗╤Б╤П....txt  \n",
            "  inflating: prose/Bryusov/╨з╨╡╤А╨╡╨╖ ╨┐╤П╤В╨╜╨░╨┤╤Ж╨░╤В╤М ╨╗╨╡╤В.txt  \n",
            "  inflating: prose/Bryusov/╨н╨╗╤Г╨╗╨╕, ╤Б╤Л╨╜ ╨н╨╗╤Г╨╗╨╕.txt  \n",
            "  inflating: prose/Bryusov/╨о╨┐╨╕╤В╨╡╤А ╨┐╨╛╨▓╨╡╤А╨╢╨╡╨╜╨╜╤Л╨╣.txt  \n",
            "  inflating: prose/Bryusov/╨Р╨╗╤В╨░╤А╤М ╨┐╨╛╨▒╨╡╨┤╤Л.txt  \n",
            "  inflating: prose/Bryusov/╨С╨╡╨╝╨╛╨╗╤М.txt  \n",
            "  inflating: prose/Bryusov/╨Т ╨┐╨╛╨┤╨╖╨╡╨╝╨╜╨╛╨╣ ╤В╤О╤А╤М╨╝╨╡.txt  \n",
            "  inflating: prose/Bryusov/╨Т ╨╖╨╡╤А╨║╨░╨╗╨╡.txt  \n",
            "  inflating: prose/Bryusov/╨Т ╨▒╨░╤И╨╜╨╡.txt  \n",
            "  inflating: prose/Bryusov/╨Т╨╛╤Б╤Б╤В╨░╨╜╨╕╨╡ ╨╝╨░╤И╨╕╨╜.txt  \n",
            "  inflating: prose/Bryusov/╨У╨╛╤А╨░ ╨Ч╨▓╨╡╨╖╨┤╤Л.txt  \n",
            "  inflating: prose/Bryusov/╨Ф╨╕╤В╤П ╨╕ ╨▒╨╡╨╖╤Г╨╝╨╡╤Ж.txt  \n",
            "  inflating: prose/Bryusov/╨Ф╨╡╨║╨░╨┤╨╡╨╜╤В.txt  \n",
            "  inflating: prose/Bryusov/╨Ч╨░ ╤Б╨╡╨▒╤П ╨╕╨╗╨╕ ╨╖╨░ ╨┤╤А╤Г╨│╤Г╤О.txt  \n",
            "  inflating: prose/Bryusov/╨Ч╨░╤Й╨╕╤В╨░.txt  \n",
            "  inflating: prose/Bryusov/╨Ь╤А╨░╨╝╨╛╤А╨╜╨░╤П ╨│╨╛╨╗╨╛╨▓╨║╨░.txt  \n",
            "  inflating: prose/Bryusov/╨Ь╨╛╤Ж╨░╤А╤В.txt  \n",
            "  inflating: prose/Bryusov/╨Э╨╛╤З╨╜╨╛╨╡ ╨┐╤Г╤В╨╡╤И╨╡╤Б╤В╨▓╨╕╨╡.txt  \n",
            "  inflating: prose/Bryusov/╨Ю╨│╨╜╨╡╨╜╨╜╤Л╨╣ ╨░╨╜╨│╨╡╨╗.txt  \n",
            "  inflating: prose/Bryusov/╨Ю╨▒╤А╤Г╤З╨╡╨╜╨╕╨╡ ╨Ф╨░╤И╨╕.txt  \n",
            "  inflating: prose/Bryusov/╨Я╤А╨╡╨┤╤Б╨╝╨╡╤А╤В╨╜╤Л╨╣ ╨▒╤А╨╡╨┤ ╨Т╨╡╤А╨│╨╕╨╗╨╕╤П.txt  \n",
            "  inflating: prose/Bryusov/╨Я╨╛╤Б╨╗╨╡╨┤╨╜╨╕╨╡ ╤Б╤В╤А╨░╨╜╨╕╤Ж╤Л ╨╕╨╖ ╨┤╨╜╨╡╨▓╨╜╨╕╨║╨░ ╨╢╨╡╨╜╤Й╨╕╨╜╤Л.txt  \n",
            "  inflating: prose/Bryusov/╨Я╨╛╤Б╨╗╨╡╨┤╨╜╨╕╨╡ ╨╝╤Г╤З╨╡╨╜╨╕╨║╨╕.txt  \n",
            "  inflating: prose/Bryusov/╨Я╨╛╨┤ ╨б╤В╨░╤А╤Л╨╝ ╨╝╨╛╤Б╤В╨╛╨╝.txt  \n",
            "  inflating: prose/Bryusov/╨Я╨╡╤А╨▓╨░╤П ╨╗╤О╨▒╨╛╨▓╤М.txt  \n",
            "   creating: prose/Chekhov/\n",
            "  inflating: prose/Chekhov/info.csv  \n",
            "  inflating: prose/Chekhov/╨б╨╝╨╡╤А╤В╤М ╤З╨╕╨╜╨╛╨▓╨╜╨╕╨║╨░.txt  \n",
            "  inflating: prose/Chekhov/╨в╤А╨╕ ╤Б╨╡╤Б╤В╤А╤Л.txt  \n",
            "  inflating: prose/Chekhov/╨в╨╛╤Б╨║╨░.txt  \n",
            "  inflating: prose/Chekhov/╨в╨╛╨╗╤Б╤В╤Л╨╣ ╨╕ ╤В╨╛╨╜╨║╨╕╨╣.txt  \n",
            "  inflating: prose/Chekhov/╨е╨╕╤А╤Г╤А╨│╨╕╤П.txt  \n",
            "  inflating: prose/Chekhov/╨е╨░╨╝╨╡╨╗╨╡╨╛╨╜.txt  \n",
            "  inflating: prose/Chekhov/╨з╨╡╨╗╨╛╨▓╨╡╨║ ╨▓ ╤Д╤Г╤В╨╗╤П╤А╨╡.txt  \n",
            "  inflating: prose/Chekhov/╨Р╤А╤Е╨╕╨╡╤А╨╡╨╣.txt  \n",
            "  inflating: prose/Chekhov/╨Р╤А╨╕╨░╨┤╨╜╨░.txt  \n",
            "  inflating: prose/Chekhov/╨Р╤Е, ╨╖╤Г╨▒╤Л.txt  \n",
            "  inflating: prose/Chekhov/╨Р╨│╨░╤Д╤М╤П.txt  \n",
            "  inflating: prose/Chekhov/╨Р╨┐╤В╨╡╨║╨░╤А╤И╨░.txt  \n",
            "  inflating: prose/Chekhov/╨Р╨╗╤М╨▒╨╛╨╝.txt  \n",
            "  inflating: prose/Chekhov/╨Р╨╜╤О╤В╨░.txt  \n",
            "  inflating: prose/Chekhov/╨Р╨╜╨╜╨░ ╨╜╨░ ╤И╨╡╨╡.txt  \n",
            "  inflating: prose/Chekhov/╨С╤А╨╛╨╢╨╡╨╜╨╕╨╡ ╤Г╨╝╨╛╨▓.txt  \n",
            "  inflating: prose/Chekhov/╨С╤А╨░╨║ ╨┐╨╛ ╤А╨░╤Б╤З╤С╤В╤Г.txt  \n",
            "  inflating: prose/Chekhov/╨С╤Г╨╝╨░╨╢╨╜╨╕╨║.txt  \n",
            "  inflating: prose/Chekhov/╨С╨╡╤Б╨╡╨┤╨░ ╨┐╤М╤П╨╜╨╛╨│╨╛ ╤Б ╤В╤А╨╡╨╖╨▓╤Л╨╝ ╤З╤С╤А╤В╨╛╨╝.txt  \n",
            "  inflating: prose/Chekhov/╨С╨╡╨│╨╗╨╡╤Ж.txt  \n",
            "  inflating: prose/Chekhov/╨С╨╡╨┤╨░ 1886.txt  \n",
            "  inflating: prose/Chekhov/╨С╨╡╨┤╨░ 1887.txt  \n",
            "  inflating: prose/Chekhov/╨С╨╡╨╖╨╖╨░╤Й╨╕╤В╨╜╨╛╨╡ ╤Б╤Г╤Й╨╡╤Б╤В╨▓╨╛.txt  \n",
            "  inflating: prose/Chekhov/╨С╨╡╨╗╨╛╨╗╨╛╨▒╤Л╨╣.txt  \n",
            "  inflating: prose/Chekhov/╨С╨░╤А╤Л╨╜╤П.txt  \n",
            "  inflating: prose/Chekhov/╨С╨░╤А╨░╨╜ ╨╕ ╨▒╨░╤А╤Л╤И╨╜╤П.txt  \n",
            "  inflating: prose/Chekhov/╨С╨░╨▒╤Л.txt  \n",
            "  inflating: prose/Chekhov/╨Т ╤Б╤Б╤Л╨╗╨║╨╡.txt  \n",
            "  inflating: prose/Chekhov/╨Т ╤Б╤Г╨┤╨╡.txt  \n",
            "  inflating: prose/Chekhov/╨Т ╨┐╨╛╤В╤С╨╝╨║╨░╤Е.txt  \n",
            "  inflating: prose/Chekhov/╨Т ╨╛╨▓╤А╨░╨│╨╡.txt  \n",
            "  inflating: prose/Chekhov/╨Т ╨░╨┐╤В╨╡╨║╨╡.txt  \n",
            "  inflating: prose/Chekhov/╨Т ╨▓╨░╨│╨╛╨╜╨╡.txt  \n",
            "  inflating: prose/Chekhov/╨Т╤А╨░╨│╨╕.txt  \n",
            "  inflating: prose/Chekhov/╨Т╤Б╤В╤А╨╡╤З╨░ ╨▓╨╡╤Б╨╜╤Л.txt  \n",
            "  inflating: prose/Chekhov/╨Т╤Л╨╕╨│╤А╤Л╤И╨╜╤Л╨╣ ╨▒╨╕╨╗╨╡╤В.txt  \n",
            "  inflating: prose/Chekhov/╨Т╨╕╤И╨╜╤С╨▓╤Л╨╣ ╤Б╨░╨┤.txt  \n",
            "  inflating: prose/Chekhov/╨Т╨╕╨╜╤В.txt  \n",
            "  inflating: prose/Chekhov/╨Т╨╛╤Б╨║╨╗╨╕╤Ж╨░╤В╨╡╨╗╤М╨╜╤Л╨╣ ╨╖╨╜╨░╨║.txt  \n",
            "  inflating: prose/Chekhov/╨Т╨╛╨┤╨╡╨▓╨╕╨╗╤М.txt  \n",
            "  inflating: prose/Chekhov/╨Т╨╛╨╗╨╛╨┤╤П.txt  \n",
            "  inflating: prose/Chekhov/╨Т╨╡╤А╨╛╤З╨║╨░.txt  \n",
            "  inflating: prose/Chekhov/╨Т╨╡╨┤╤М╨╝╨░.txt  \n",
            "  inflating: prose/Chekhov/╨Т╨░╨╜╤М╨║╨░.txt  \n",
            "  inflating: prose/Chekhov/╨У╤А╨╕╤И╨░.txt  \n",
            "  inflating: prose/Chekhov/╨У╤А╨╡╤И╨╜╨╕╨║ ╨╕╨╖ ╨в╨╛╨╗╨╡╨┤╨╛.txt  \n",
            "  inflating: prose/Chekhov/╨У╤Г╤Б╨╡╨▓.txt  \n",
            "  inflating: prose/Chekhov/╨У╨╗╤Г╨┐╤Л╨╣ ╤Д╤А╨░╨╜╤Ж╤Г╨╖.txt  \n",
            "  inflating: prose/Chekhov/╨У╨╛╤А╨╡.txt  \n",
            "  inflating: prose/Chekhov/╨У╨╛╤Б╤В╤М.txt  \n",
            "  inflating: prose/Chekhov/╨Ф╤А╨░╨╝╨░ ╨╜╨░ ╨╛╤Е╨╛╤В╨╡.txt  \n",
            "  inflating: prose/Chekhov/╨Ф╤Г╤И╨╡╤З╨║╨░.txt  \n",
            "  inflating: prose/Chekhov/╨Ф╤Г╤Н╨╗╤М.txt  \n",
            "  inflating: prose/Chekhov/╨Ф╨╕╨┐╨╗╨╛╨╝╨░╤В.txt  \n",
            "  inflating: prose/Chekhov/╨Ф╨╛╤А╨╛╨│╨╕╨╡ ╤Г╤А╨╛╨║╨╕.txt  \n",
            "  inflating: prose/Chekhov/╨Ф╨╛╤А╨╛╨│╨░╤П ╤Б╨╛╨▒╨░╨║╨░.txt  \n",
            "  inflating: prose/Chekhov/╨Ф╨╛╤З╤М ╨Р╨╗╤М╨▒╨╕╨╛╨╜╨░.txt  \n",
            "  inflating: prose/Chekhov/╨Ф╨╛╨┐╨╛╨╗╨╜╨╕╤В╨╡╨╗╤М╨╜╤Л╨╡ ╨▓╨╛╨┐╤А╨╛╤Б╤Л.txt  \n",
            "  inflating: prose/Chekhov/╨Ф╨╛╨╝ ╤Б ╨╝╨╡╨╖╨╛╨╜╨╕╨╜╨╛╨╝.txt  \n",
            "  inflating: prose/Chekhov/╨Ф╨╛╨╝╨░.txt  \n",
            "  inflating: prose/Chekhov/╨Ф╨╛╨▒╤А╤Л╨╣ ╨╖╨╜╨░╨║╨╛╨╝╤Л╨╣.txt  \n",
            "  inflating: prose/Chekhov/╨Ф╨╡╤В╨▓╨╛╤А╨░.txt  \n",
            "  inflating: prose/Chekhov/╨Ф╨╡╨╜╤М ╨╖╨░ ╨│╨╛╤А╨╛╨┤╨╛╨╝.txt  \n",
            "  inflating: prose/Chekhov/╨Ф╨░╤З╨╜╨╕╤Ж╨░.txt  \n",
            "  inflating: prose/Chekhov/╨Ф╨░╤З╨╜╨╕╨║╨╕.txt  \n",
            "  inflating: prose/Chekhov/╨Ф╨░╨╝╨░ ╤Б ╤Б╨╛╨▒╨░╤З╨║╨╛╨╣.txt  \n",
            "  inflating: prose/Chekhov/╨Ф╨▓╨░ ╤Б╨║╨░╨╜╨┤╨░╨╗╨░.txt  \n",
            "  inflating: prose/Chekhov/╨Ф╨▓╨░╨┤╤Ж╨░╤В╤М ╨┤╨╡╨▓╤П╤В╨╛╨╡ ╨╕╤О╨╜╤П.txt  \n",
            "  inflating: prose/Chekhov/╨Ч╨╗╨╛╤Г╨╝╤Л╤И╨╗╨╡╨╜╨╜╨╕╨║.txt  \n",
            "  inflating: prose/Chekhov/╨Ш╨╛╨╜╤Л╤З.txt  \n",
            "  inflating: prose/Chekhov/╨Ъ╤А╤Л╨╢╨╛╨▓╨╜╨╕╨║.txt  \n",
            "  inflating: prose/Chekhov/╨Ъ╨░╤И╤В╨░╨╜╨║╨░.txt  \n",
            "  inflating: prose/Chekhov/╨Ы╨╛╤И╨░╨┤╨╕╨╜╨░╤П ╤Д╨░╨╝╨╕╨╗╨╕╤П.txt  \n",
            "  inflating: prose/Chekhov/╨Э╨░╨╗╨╕╨╝.txt  \n",
            "  inflating: prose/Chekhov/╨Ю ╨╗╤О╨▒╨▓╨╕.txt  \n",
            "  inflating: prose/Chekhov/╨Я╨╡╤А╨╡╤Б╨╛╨╗╨╕╨╗.txt  \n",
            "  inflating: prose/Chekhov/╨Я╨░╨╗╨░╤В╨░ тДЦ6.txt  \n",
            "   creating: prose/Dostoevsky/\n",
            "  inflating: prose/Dostoevsky/info.csv  \n",
            "  inflating: prose/Dostoevsky/╨а╨╛╨╝╨░╨╜ ╨▓ ╨┤╨╡╨▓╤П╤В╨╕ ╨┐╨╕╤Б╤М╨╝╨░╤Е.txt  \n",
            "  inflating: prose/Dostoevsky/╨б╨║╨▓╨╡╤А╨╜╤Л╨╣ ╨░╨╜╨╡╨║╨┤╨╛╤В.txt  \n",
            "  inflating: prose/Dostoevsky/╨Б╨╗╨║╨░ ╨╕ ╤Б╨▓╨░╨┤╤М╨▒╨░.txt  \n",
            "  inflating: prose/Dostoevsky/╨б╨╗╨░╨▒╨╛╨╡ ╤Б╨╡╤А╨┤╤Ж╨╡.txt  \n",
            "  inflating: prose/Dostoevsky/╨б╨╛╨╜ ╤Б╨╝╨╡╤И╨╜╨╛╨│╨╛ ╤З╨╡╨╗╨╛╨▓╨╡╨║╨░.txt  \n",
            "  inflating: prose/Dostoevsky/╨б╨╡╨╗╨╛ ╨б╤В╨╡╨┐╨░╨╜╤З╨╕╨║╨╛╨▓╨╛ ╨╕ ╨╡╨│╨╛ ╨╛╨▒╨╕╤В╨░╤В╨╡╨╗╨╕.txt  \n",
            "  inflating: prose/Dostoevsky/╨г╨╜╨╕╨╢╨╡╨╜╨╜╤Л╨╡ ╨╕ ╨╛╤Б╨║╨╛╤А╨▒╨╗╤С╨╜╨╜╤Л╨╡.txt  \n",
            "  inflating: prose/Dostoevsky/╨е╨╛╨╖╤П╨╣╨║╨░.txt  \n",
            "  inflating: prose/Dostoevsky/╨з╤Г╨╢╨░╤П ╨╢╨╡╨╜╨░ ╨╕ ╨╝╤Г╨╢ ╨┐╨╛╨┤ ╨║╤А╨╛╨▓╨░╤В╤М╤О.txt  \n",
            "  inflating: prose/Dostoevsky/╨з╨╡╤Б╤В╨╜╤Л╨╣ ╨▓╨╛╤А.txt  \n",
            "  inflating: prose/Dostoevsky/╨С╤А╨░╤В╤М╤П ╨Ъ╨░╤А╨░╨╝╨░╨╖╨╛╨▓╤Л.txt  \n",
            "  inflating: prose/Dostoevsky/╨С╨╛╨▒╨╛╨║.txt  \n",
            "  inflating: prose/Dostoevsky/╨С╨╡╤Б╤Л.txt  \n",
            "  inflating: prose/Dostoevsky/╨С╨╡╨┤╨╜╤Л╨╡ ╨╗╤О╨┤╨╕.txt  \n",
            "  inflating: prose/Dostoevsky/╨С╨╡╨╗╤Л╨╡ ╨╜╨╛╤З╨╕.txt  \n",
            "  inflating: prose/Dostoevsky/╨Т╨╡╤З╨╜╤Л╨╣ ╨╝╤Г╨╢.txt  \n",
            "  inflating: prose/Dostoevsky/╨У╨╛╤Б╨┐╨╛╨┤╨╕╨╜ ╨Я╤А╨╛╤Е╨░╤А╤З╨╕╨╜.txt  \n",
            "  inflating: prose/Dostoevsky/╨Ф╤П╨┤╤О╤И╨║╨╕╨╜ ╤Б╨╛╨╜.txt  \n",
            "  inflating: prose/Dostoevsky/╨Ф╨╛╨╝╨╛╨▓╨╛╨╣.txt  \n",
            "  inflating: prose/Dostoevsky/╨Ф╨╜╨╡╨▓╨╜╨╕╨║ ╨┐╨╕╤Б╨░╤В╨╡╨╗╤П.txt  \n",
            "  inflating: prose/Dostoevsky/╨Ф╨▓╨╛╨╣╨╜╨╕╨║.txt  \n",
            "  inflating: prose/Dostoevsky/╨Ф╨▓╨░ ╤Б╨░╨╝╨╛╤Г╨▒╨╕╨╣╤Б╤В╨▓╨░.txt  \n",
            "  inflating: prose/Dostoevsky/╨Ч╨░╨┐╨╕╤Б╨║╨╕ ╨╕╨╖ ╨┐╨╛╨┤╨┐╨╛╨╗╤М╤П.txt  \n",
            "  inflating: prose/Dostoevsky/╨Ш╨│╤А╨╛╨║.txt  \n",
            "  inflating: prose/Dostoevsky/╨Ш╨┤╨╕╨╛╤В.txt  \n",
            "  inflating: prose/Dostoevsky/╨Ъ╤А╨╛╨║╨╛╨┤╨╕╨╗.txt  \n",
            "  inflating: prose/Dostoevsky/╨Ъ╨╛╤А╨╛╤В╨║╨░╤П.txt  \n",
            "  inflating: prose/Dostoevsky/╨Ь╨░╨╗╤М╤З╨╕╨║ ╤Г ╨е╤А╨╕╤Б╤В╨░ ╨╜╨░ ╤С╨╗╨║╨╡.txt  \n",
            "  inflating: prose/Dostoevsky/╨Ь╨░╨╗╨╡╨╜╤М╨║╨╕╨╣ ╨│╨╡╤А╨╛╨╣.txt  \n",
            "  inflating: prose/Dostoevsky/╨Э╨╡╤В╨╛╤З╨║╨░ ╨Э╨╡╨╖╨▓╨░╨╜╨╛╨▓╨░.txt  \n",
            "  inflating: prose/Dostoevsky/╨Я╨╛╨┤╤А╨╛╤Б╤В╨╛╨║.txt  \n",
            "  inflating: prose/Dostoevsky/╨Я╨╛╨╗╨╖╤Г╨╜╨║╨╛╨▓.txt  \n",
            "  inflating: prose/Dostoevsky/╨Я╨╡╤В╨╡╤А╨▒╤Г╤А╨│╤Б╨║╨╕╨╡ ╤Б╨╜╨╛╨▓╨╕╨┤╨╡╨╜╨╕╤П ╨▓ ╤Б╤В╨╕╤Е╨░╤Е ╨╕ ╨▓ ╨┐╤А╨╛╨╖╨╡.txt  \n",
            "   creating: prose/Gogol/\n",
            "  inflating: prose/Gogol/info.csv    \n",
            "  inflating: prose/Gogol/╨а╨╕╨╝.txt  \n",
            "  inflating: prose/Gogol/╨а╨╡╨▓╨╕╨╖╨╛╤А.txt  \n",
            "  inflating: prose/Gogol/╨б╤В╨░╤А╨╛╤Б╨▓╨╡╤В╤Б╨║╨╕╨╡ ╨┐╨╛╨╝╨╡╤Й╨╕╨║╨╕.txt  \n",
            "  inflating: prose/Gogol/╨в╨░╤А╨░╤Б ╨С╤Г╨╗╤М╨▒╨░.txt  \n",
            "  inflating: prose/Gogol/╨и╨╕╨╜╨╡╨╗╤М.txt  \n",
            "  inflating: prose/Gogol/╨Т╨╕╨╣.txt  \n",
            "  inflating: prose/Gogol/╨Т╨╡╤З╨╡╤А╨░ ╨╜╨░ ╤Е╤Г╤В╨╛╤А╨╡ ╨▒╨╗╨╕╨╖ ╨Ф╨╕╨║╨░╨╜╤М╨║╨╕.txt  \n",
            "  inflating: prose/Gogol/╨Ч╨░╨┐╨╕╤Б╨║╨╕ ╤Б╤Г╨╝╨░╤Б╤И╨╡╨┤╤И╨╡╨│╨╛.txt  \n",
            "  inflating: prose/Gogol/╨Ъ╨╛╨╗╤П╤Б╨║╨░.txt  \n",
            "  inflating: prose/Gogol/╨Ь╤С╤А╤В╨▓╤Л╨╡ ╨┤╤Г╤И╨╕.txt  \n",
            "  inflating: prose/Gogol/╨Э╨╛╤Б.txt  \n",
            "  inflating: prose/Gogol/╨Э╨╛╤З╤М ╨┐╨╡╤А╨╡╨┤ ╨а╨╛╨╢╨┤╨╡╤Б╤В╨▓╨╛╨╝.txt  \n",
            "  inflating: prose/Gogol/╨Э╨╛╤З╨╕ ╨╜╨░ ╨▓╨╕╨╗╨╗╨╡.txt  \n",
            "  inflating: prose/Gogol/╨Э╨╡╨▓╤Б╨║╨╕╨╣ ╨┐╤А╨╛╤Б╨┐╨╡╨║╤В.txt  \n",
            "  inflating: prose/Gogol/╨Я╨╛╤А╤В╤А╨╡╤В.txt  \n",
            "error:  cannot create prose/Gogol/╨Я╨╛╨▓╨╡╤Б╤В╤М ╨╛ ╤В╨╛╨╝, ╨║╨░╨║ ╨┐╨╛╤Б╤Б╨╛╤А╨╕╨╗╤Б╤П ╨Ш╨▓╨░╨╜ ╨Ш╨▓╨░╨╜╨╛╨▓╨╕╤З ╤Б ╨Ш╨▓╨░╨╜╨╛╨╝ ╨Э╨╕╨║╨╕╤Д╨╛╤А╨╛╨▓╨╕╤З╨╡╨╝.txt\n",
            "        File name too long\n",
            "   creating: prose/Gorky/\n",
            "  inflating: prose/Gorky/info.csv    \n",
            "  inflating: prose/Gorky/╨а╨╛╨╢╨┤╨╡╨╜╨╕╨╡ ╤З╨╡╨╗╨╛╨▓╨╡╨║╨░.txt  \n",
            "  inflating: prose/Gorky/╨б╤В╤А╨░╤Б╤В╨╕-╨╝╨╛╤А╨┤╨░╤Б╤В╨╕.txt  \n",
            "  inflating: prose/Gorky/╨б╤В╨░╤А╤Г╤Е╨░ ╨Ш╨╖╨╡╤А╨│╨╕╨╗╤М.txt  \n",
            "  inflating: prose/Gorky/╨б╨║╤Г╨║╨╕ ╤А╨░╨┤╨╕.txt  \n",
            "  inflating: prose/Gorky/╨б╨║╨░╨╖╨║╨╕ ╨╛╨▒ ╨Ш╤В╨░╨╗╨╕╨╕.txt  \n",
            "  inflating: prose/Gorky/╨д╨╛╨╝╨░ ╨У╨╛╤А╨┤╨╡╨╡╨▓.txt  \n",
            "  inflating: prose/Gorky/╨з╨╡╨╗╨║╨░╤И.txt  \n",
            "  inflating: prose/Gorky/╨з╨╡╨╗╨╛╨▓╨╡╨║.txt  \n",
            "  inflating: prose/Gorky/╨п╤А╨╝╨░╤А╨║╨░ ╨▓ ╨У╨╛╨╗╤В╨▓╨╡.txt  \n",
            "  inflating: prose/Gorky/╨С╤Л╨▓╤И╨╕╨╡ ╨╗╤О╨┤╨╕.txt  \n",
            "  inflating: prose/Gorky/╨Т ╤Б╤В╨╡╨┐╨╕.txt  \n",
            "  inflating: prose/Gorky/╨Т ╨╗╤О╨┤╤П╤Е.txt  \n",
            "  inflating: prose/Gorky/╨Т╤Л╨▓╨╛╨┤.txt  \n",
            "  inflating: prose/Gorky/╨У╨╛╤А╨╛╨┤ ╨╢╤С╨╗╤В╨╛╨│╨╛ ╨┤╤М╤П╨▓╨╛╨╗╨░.txt  \n",
            "  inflating: prose/Gorky/╨Ф╨╡╤В╤Б╤В╨▓╨╛.txt  \n",
            "  inflating: prose/Gorky/╨Ф╨╡╨╗╨╛ ╤Б ╨╖╨░╤Б╤В╤С╨╢╨║╨░╨╝╨╕.txt  \n",
            "  inflating: prose/Gorky/╨Ф╨▓╨░╨┤╤Ж╨░╤В╤М ╤И╨╡╤Б╤В╤М ╨╕ ╨╛╨┤╨╜╨░.txt  \n",
            "  inflating: prose/Gorky/╨Х╨╝╨╡╨╗╤М╤П╨╜ ╨Я╨╕╨╗╤П╨╣.txt  \n",
            "  inflating: prose/Gorky/╨Ч╨╜╨░╤Е╨░╤А╨║╨░.txt  \n",
            "  inflating: prose/Gorky/╨Ъ╨╛╨╜╨╛╨▓╨░╨╗╨╛╨▓.txt  \n",
            "  inflating: prose/Gorky/╨Ы╨╡╨┤╨╛╤Е╨╛╨┤.txt  \n",
            "  inflating: prose/Gorky/╨Ь╨╛╨╕ ╤Г╨╜╨╕╨▓╨╡╤А╤Б╨╕╤В╨╡╤В╤Л.txt  \n",
            "  inflating: prose/Gorky/╨Ь╨╡╤Й╨░╨╜╨╡.txt  \n",
            "  inflating: prose/Gorky/╨Ь╨░-╨░╨╗╨╡╨╜╤М╨║╨░╤П!....txt  \n",
            "  inflating: prose/Gorky/╨Ь╨░╤В╤М.txt  \n",
            "  inflating: prose/Gorky/╨Ь╨░╨║╨░╤А ╨з╤Г╨┤╤А╨░.txt  \n",
            "  inflating: prose/Gorky/╨Э╨╡╤Б╨▓╨╛╨╡╨▓╤А╨╡╨╝╨╡╨╜╨╜╤Л╨╡ ╨╝╤Л╤Б╨╗╨╕.txt  \n",
            "  inflating: prose/Gorky/╨Э╨░ ╨┐╨╗╨╛╤В╨░╤Е.txt  \n",
            "  inflating: prose/Gorky/╨Э╨░ ╨┤╨╜╨╡.txt  \n",
            "  inflating: prose/Gorky/╨Ю╨╖╨╛╤А╨╜╨╕╨║.txt  \n",
            "  inflating: prose/Gorky/╨Я╤А╨╛╤Е╨╛╨┤╨╕╨╝╨╡╤Ж.txt  \n",
            "  inflating: prose/Gorky/╨Я╨╡╤Б╨╜╤П ╨╛ ╤Б╨╛╨║╨╛╨╗╨╡.txt  \n",
            "  inflating: prose/Gorky/╨Я╨╡╤Б╨╜╤П ╨╛ ╨С╤Г╤А╨╡╨▓╨╡╤Б╤В╨╜╨╕╨║╨╡.txt  \n",
            "   creating: prose/Herzen/\n",
            "  inflating: prose/Herzen/info.csv   \n",
            "  inflating: prose/Herzen/╨б ╤В╨╛╨│╨╛ ╨▒╨╡╤А╨╡╨│╨░.txt  \n",
            "  inflating: prose/Herzen/╨б╨║╤Г╨║╨╕ ╤А╨░╨┤╨╕.txt  \n",
            "  inflating: prose/Herzen/╨б╨╛╤А╨╛╨║╨░-╨▓╨╛╤А╨╛╨▓╨║╨░.txt  \n",
            "  inflating: prose/Herzen/╨в╤А╨░╨│╨╡╨┤╨╕╤П ╨╖╨░ ╤Б╤В╨░╨║╨░╨╜╨╛╨╝ ╨│╤А╨╛╨│╨░.txt  \n",
            "  inflating: prose/Herzen/╨Ф╨╛╨║╤В╨╛╤А ╨Ъ╤А╤Г╨┐╨╛╨▓.txt  \n",
            "  inflating: prose/Herzen/╨Ф╨╛╨╗╨│ ╨┐╤А╨╡╨╢╨┤╨╡ ╨▓╤Б╨╡╨│╨╛.txt  \n",
            "  inflating: prose/Herzen/╨Х╨╗╨╡╨╜╨░.txt  \n",
            "  inflating: prose/Herzen/╨Ъ╤В╨╛ ╨▓╨╕╨╜╨╛╨▓╨░╤В.txt  \n",
            "  inflating: prose/Herzen/╨Ы╨╡╨│╨╡╨╜╨┤╨░.txt  \n",
            "  inflating: prose/Herzen/╨Ь╨╕╨╝╨╛╨╡╨╖╨┤╨╛╨╝.txt  \n",
            "  inflating: prose/Herzen/╨Я╨╛╨▓╤А╨╡╨╢╨┤╤С╨╜╨╜╤Л╨╣.txt  \n",
            "   creating: prose/Lermontov/\n",
            " extracting: prose/Lermontov/info.csv  \n",
            "  inflating: prose/Lermontov/╨и╤В╨╛╤Б╤Б.txt  \n",
            "  inflating: prose/Lermontov/╨Р╤И╨╕╨║-╨Ъ╨╡╤А╨╕╨▒.txt  \n",
            "  inflating: prose/Lermontov/╨У╨╡╤А╨╛╨╣ ╨╜╨░╤И╨╡╨│╨╛ ╨▓╤А╨╡╨╝╨╡╨╜╨╕.txt  \n",
            "   creating: prose/Pushkin/\n",
            "  inflating: prose/Pushkin/info.csv  \n",
            "  inflating: prose/Pushkin/╨а╨╛╤Б╨╗╨░╨▓╨╗╨╡╨▓.txt  \n",
            "  inflating: prose/Pushkin/╨Р╤А╨░╨┐ ╨Я╨╡╤В╤А╨░ ╨Т╨╡╨╗╨╕╨║╨╛╨│╨╛.txt  \n",
            "  inflating: prose/Pushkin/╨Ф╤Г╨▒╤А╨╛╨▓╤Б╨║╨╕╨╣.txt  \n",
            "  inflating: prose/Pushkin/╨Х╨│╨╕╨┐╨╡╤В╤Б╨║╨╕╨╡ ╨╜╨╛╤З╨╕.txt  \n",
            "  inflating: prose/Pushkin/╨Ш╤Б╤В╨╛╤А╨╕╤П ╤Б╨╡╨╗╨░ ╨У╨╛╤А╤О╤Е╨╕╨╜╨░.txt  \n",
            "  inflating: prose/Pushkin/╨Ш╤Б╤В╨╛╤А╨╕╤П ╨Я╤Г╨│╨░╤З╤С╨▓╨░.txt  \n",
            "  inflating: prose/Pushkin/╨Ъ╨╕╤А╨┤╨╢╨░╨╗╨╕.txt  \n",
            "  inflating: prose/Pushkin/╨Ъ╨░╨┐╨╕╤В╨░╨╜╤Б╨║╨░╤П ╨┤╨╛╤З╨║╨░.txt  \n",
            "  inflating: prose/Pushkin/╨Я╨╕╨║╨╛╨▓╨░╤П ╨┤╨░╨╝╨░.txt  \n",
            "  inflating: prose/Pushkin/╨Я╨╛╨▓╨╡╤Б╤В╨╕ ╨С╨╡╨╗╨║╨╕╨╜╨░.txt  \n",
            "   creating: prose/Tolstoy/\n",
            "  inflating: prose/Tolstoy/info.csv  \n",
            "  inflating: prose/Tolstoy/╨а╤Г╨▒╨║╨░ ╨╗╨╡╤Б╨░.txt  \n",
            "  inflating: prose/Tolstoy/╨а╨░╨╖╨╢╨░╨╗╨╛╨▓╨░╨╜╨╜╤Л╨╣.txt  \n",
            "  inflating: prose/Tolstoy/╨а╨░╨▒╨╛╤В╨╜╨╕╨║ ╨Х╨╝╨╡╨╗╤М╤П╨╜ ╨╕ ╨┐╤Г╤Б╤В╨╛╨╣ ╨▒╨░╤А╨░╨▒╨░╨╜.txt  \n",
            "  inflating: prose/Tolstoy/╨б╨╝╨╡╤А╤В╤М ╨Ш╨▓╨░╨╜╨░ ╨Ш╨╗╤М╨╕╤З╨░.txt  \n",
            "  inflating: prose/Tolstoy/╨б╨╡╨╝╨╡╨╣╨╜╨╛╨╡ ╤Б╤З╨░╤Б╤В╤М╨╡.txt  \n",
            "  inflating: prose/Tolstoy/╨б╨╡╨▓╨░╤Б╤В╨╛╨┐╨╛╨╗╤М ╨▓ ╨┤╨╡╨║╨░╨▒╤А╨╡ ╨╝╨╡╤Б╤П╤Ж╨╡.txt  \n",
            "  inflating: prose/Tolstoy/╨б╨╡╨▓╨░╤Б╤В╨╛╨┐╨╛╨╗╤М ╨▓ ╨╝╨░╨╡.txt  \n",
            "  inflating: prose/Tolstoy/╨б╨╡╨▓╨░╤Б╤В╨╛╨┐╨╛╨╗╤М ╨▓ ╨░╨▓╨│╤Г╤Б╤В╨╡ 1855 ╨│╨╛╨┤╨░.txt  \n",
            "  inflating: prose/Tolstoy/╨в╤А╨╕ ╤Б╨╝╨╡╤А╤В╨╕.txt  \n",
            "  inflating: prose/Tolstoy/╨г╤В╤А╨╛ ╨┐╨╡╨╝╨╡╤Й╨╕╨║╨░.txt  \n",
            "  inflating: prose/Tolstoy/╨е╨╛╨╖╤П╨╕╨╜ ╨╕ ╤А╨░╨▒╨╛╤В╨╜╨╕╨║.txt  \n",
            "  inflating: prose/Tolstoy/╨е╨╛╨╗╤Б╤В╨╛╨╝╨╡╤А.txt  \n",
            "  inflating: prose/Tolstoy/╨е╨░╨┤╨╢╨╕-╨Ь╤Г╤А╨░╤В.txt  \n",
            "  inflating: prose/Tolstoy/╨о╨╜╨╛╤Б╤В╤М.txt  \n",
            "  inflating: prose/Tolstoy/╨п╨│╨╛╨┤╤Л.txt  \n",
            "  inflating: prose/Tolstoy/╨Р╨╗╤М╨▒╨╡╤А╤В.txt  \n",
            "  inflating: prose/Tolstoy/╨Р╨╗╤С╤И╨░ ╨│╨╛╤А╤И╨╛╨║.txt  \n",
            "  inflating: prose/Tolstoy/╨Р╨╜╨╜╨░ ╨Ъ╨░╤А╨╡╨╜╨╕╨╜╨░.txt  \n",
            "  inflating: prose/Tolstoy/╨С╨╛╨╢╨╡╤Б╨║╨╛╨╡ ╨╕ ╤З╨╡╨╗╨╛╨▓╨╡╤З╨╡╤Б╨║╨╛╨╡.txt  \n",
            "  inflating: prose/Tolstoy/╨Т╨╛╤Б╨║╤А╨╡╤Б╨╡╨╜╨╕╨╡.txt  \n",
            "  inflating: prose/Tolstoy/╨Т╨╛╨╣╨╜╨░ ╨╕ ╨╝╨╕╤А. ╨в╨╛╨╝ 1.txt  \n",
            "  inflating: prose/Tolstoy/╨Т╨╛╨╣╨╜╨░ ╨╕ ╨╝╨╕╤А. ╨в╨╛╨╝ 2.txt  \n",
            "  inflating: prose/Tolstoy/╨Т╨╛╨╣╨╜╨░ ╨╕ ╨╝╨╕╤А. ╨в╨╛╨╝ 3.txt  \n",
            "  inflating: prose/Tolstoy/╨Т╨╛╨╣╨╜╨░ ╨╕ ╨╝╨╕╤А. ╨в╨╛╨╝ 4.txt  \n",
            "  inflating: prose/Tolstoy/╨Ф╤М╤П╨▓╨╛╨╗.txt  \n",
            "  inflating: prose/Tolstoy/╨Ф╨╡╤В╤Б╤В╨▓╨╛.txt  \n",
            "  inflating: prose/Tolstoy/╨Ф╨╡╨║╨░╨▒╤А╨╕╤Б╤В╤Л.txt  \n",
            "  inflating: prose/Tolstoy/╨Ф╨▓╨░ ╨│╤Г╤Б╨░╤А╨░.txt  \n",
            "  inflating: prose/Tolstoy/╨Ч╨░╨┐╨╕╤Б╨║╨╕ ╤Б╤Г╨╝╨░╤Б╤И╨╡╨┤╤И╨╡╨│╨╛.txt  \n",
            "  inflating: prose/Tolstoy/╨Ч╨░╨┐╨╕╤Б╨║╨╕ ╨╝╨░╤А╨║╨╡╤А╨░.txt  \n",
            "  inflating: prose/Tolstoy/╨Ш╨╖ ╨╖╨░╨┐╨╕╤Б╨╛╨║ ╨║╨╜╤П╨╖╤П ╨Ф. ╨Э╨╡╤Е╨╗╤О╨┤╨╛╨▓╨░ (╨Ы╤О╤Ж╨╡╤А╨╜).txt  \n",
            "  inflating: prose/Tolstoy/╨Ъ╤А╨╡╨╣╤Ж╨╡╤А╨╛╨▓╨░ ╤Б╨╛╨╜╨░╤В╨░.txt  \n",
            "  inflating: prose/Tolstoy/╨Ъ╨╛╤А╨╜╨╡╨╣ ╨Т╨░╤Б╨╕╨╗╤М╨╡╨▓.txt  \n",
            "  inflating: prose/Tolstoy/╨Ъ╨░╨╖╨░╨║╨╕.txt  \n",
            "  inflating: prose/Tolstoy/╨Ъ╨░╨▓╨║╨░╨╖╤Б╨║╨╕╨╣ ╨┐╨╗╨╡╨╜╨╜╨╕╨║.txt  \n",
            "  inflating: prose/Tolstoy/╨Ь╨╡╤В╨╡╨╗╤М.txt  \n",
            "  inflating: prose/Tolstoy/╨Э╨░╨▒╨╡╨│.txt  \n",
            "  inflating: prose/Tolstoy/╨Ю╤В╤А╨╛╤З╨╡╤Б╤В╨▓╨╛.txt  \n",
            "  inflating: prose/Tolstoy/╨Ю╤В╨╡╤Ж ╨б╨╡╤А╨│╨╕╨╣.txt  \n",
            "  inflating: prose/Tolstoy/╨Я╤А╨░╨▓╨╡╨┤╨╜╤Л╨╣ ╤Б╤Г╨┤╤М╤П.txt  \n",
            "  inflating: prose/Tolstoy/╨Я╨╛╤Б╨╗╨╡ ╨▒╨░╨╗╨░.txt  \n",
            "  inflating: prose/Tolstoy/╨Я╨╛╨╗╨╕╨║╤Г╤И╨░.txt  \n",
            "   creating: prose/Turgenev/\n",
            "  inflating: prose/Turgenev/info.csv  \n",
            "  inflating: prose/Turgenev/╨б╤В╨╕╤Е╨╛╤В╨▓╨╛╤А╨╡╨╜╨╕╤П ╨▓ ╨┐╤А╨╛╨╖╨╡.txt  \n",
            "  inflating: prose/Turgenev/╨п╨║╨╛╨▓ ╨Я╨░╤Б╤Л╨╜╨║╨╛╨▓.txt  \n",
            "  inflating: prose/Turgenev/╨Р╤Б╤П.txt  \n",
            "  inflating: prose/Turgenev/╨Т╨╡╤И╨╜╨╕╨╡ ╨▓╨╛╨┤╤Л.txt  \n",
            "  inflating: prose/Turgenev/╨Ф╤Л╨╝.txt  \n",
            "  inflating: prose/Turgenev/╨Ф╨▓╨╛╤А╤П╨╜╤Б╨║╨╛╨╡ ╨│╨╜╨╡╨╖╨┤╨╛.txt  \n",
            "  inflating: prose/Turgenev/╨Ч╨░╨┐╨╕╤Б╨║╨╕ ╨╛╤Е╨╛╤В╨╜╨╕╨║╨░.txt  \n",
            "  inflating: prose/Turgenev/╨Ь╤Г╨╝╤Г.txt  \n",
            "  inflating: prose/Turgenev/╨Ю╤В╤Ж╤Л ╨╕ ╨┤╨╡╤В╨╕.txt  \n",
            "  inflating: prose/Turgenev/╨Я╨╡╤А╨▓╨░╤П ╨╗╤О╨▒╨╛╨▓╤М.txt  \n"
          ]
        }
      ]
    },
    {
      "cell_type": "code",
      "source": [
        "import re\n",
        "from glob import glob\n",
        "import nltk\n",
        "from nltk.tokenize import sent_tokenize\n",
        "\n",
        "nltk.download('punkt')\n",
        "\n",
        "# Определяем функцию для чтения текста для заданного автора.\n",
        "def get_sents(author):\n",
        "    lines = []\n",
        "    # Проход по текстам заданного автора.\n",
        "    for texts in glob(f\"prose/{author}/*.txt\"):\n",
        "        for line in open(texts):\n",
        "            lines.append(line.strip())\n",
        "    # Дополнительные манипуляции на всякий случай.\n",
        "    text = ' '.join(lines)\n",
        "    sent_text = nltk.tokenize.sent_tokenize(text, language = 'russian')\n",
        "    return [sent for sent in sent_text if len(sent) >= 15]"
      ],
      "metadata": {
        "id": "3zgo2cGDLz3u",
        "colab": {
          "base_uri": "https://localhost:8080/"
        },
        "outputId": "5e6f6dd5-30e3-4511-dced-2e017a03aaca"
      },
      "execution_count": 20,
      "outputs": [
        {
          "output_type": "stream",
          "name": "stderr",
          "text": [
            "[nltk_data] Downloading package punkt to /root/nltk_data...\n",
            "[nltk_data]   Unzipping tokenizers/punkt.zip.\n"
          ]
        }
      ]
    },
    {
      "cell_type": "markdown",
      "source": [
        "Авторы, которых я выбрала: Пушкин, Гоголь, Герцен, Чехов, Тургенев, Лермонтов. Я очень-очень люблю Достоевского и Толстого, но у них слишком тяжелые произведения для этого мира...   \n",
        "Стоит отметить, что данные пропорции высчитываются с единичным коэффициентом, то есть берется количество предложений, численно равных пропорции.   \n",
        "Для обеспечения максимальной случайности я буду использовать метод $np.random.choice()$. "
      ],
      "metadata": {
        "id": "K2VfTKs737q-"
      }
    },
    {
      "cell_type": "code",
      "execution_count": 21,
      "metadata": {
        "id": "NVStbeQ8DvZL"
      },
      "outputs": [],
      "source": [
        "# Задаем списки выбранных авторов и соответствующих пропорций.\n",
        "authors = [\"Pushkin\", \"Gogol\", \"Herzen\", \"Chekhov\", \"Turgenev\", \"Lermontov\"]\n",
        "proportions = [5000, 15000, 8000, 11000, 20000, 3000]\n",
        "# Дополнительно создаем русский аналог для датасета.\n",
        "optional = [\"Пушкин\", \"Гоголь\", \"Герцен\", \"Чехов\", \"Тургенев\", \"Лермонтов\"]\n",
        "# Группируем в кортеж.\n",
        "map = zip(authors, optional, proportions)\n",
        "\n",
        "# Списки для формирования столбцов.\n",
        "sentences = list()\n",
        "ru_authors = list()\n",
        "\n",
        "np.random.seed(8)\n",
        "for au, opt, prop in map:\n",
        "    # Получаем список из prop текущей русской фамилии автора.\n",
        "    list_au = [opt] * prop\n",
        "    list_sent = list(np.random.choice(get_sents(au), prop, replace = False))\n",
        "    # Объединяем со списками соответствующих столбцов.\n",
        "    ru_authors += list_au\n",
        "    sentences += list_sent"
      ]
    },
    {
      "cell_type": "code",
      "source": [
        "# Формируем датасет, юху!\n",
        "dataset = pd.DataFrame(data = {\"sentence\": sentences, \"author\": ru_authors})\n",
        "dataset"
      ],
      "metadata": {
        "id": "-Wz9zfE9yzqc",
        "colab": {
          "base_uri": "https://localhost:8080/",
          "height": 424
        },
        "outputId": "1252ac98-2963-4d0b-86ba-be6e61ae5101"
      },
      "execution_count": 22,
      "outputs": [
        {
          "output_type": "execute_result",
          "data": {
            "text/plain": [
              "                                                sentence     author\n",
              "0      Долго смотрел я издали на сельский дом, опять ...     Пушкин\n",
              "1      Пятнадцать возов были подвезены на лошадях в б...     Пушкин\n",
              "2      Я последовал его совету и, поужинав с большим ...     Пушкин\n",
              "3      Господские крестьяне взбунтовались; иноверцы и...     Пушкин\n",
              "4      Губернатор, измученный болезнию, от которой он...     Пушкин\n",
              "...                                                  ...        ...\n",
              "61995  - Держу пятьдесят рублей  против  пяти,  что  ...  Лермонтов\n",
              "61996  - продолжал он, - даю вам честное,  благородно...  Лермонтов\n",
              "61997  в воскресенье ты пойдешь в церковь без новой л...  Лермонтов\n",
              "61998  Когда он опустился на скамью, то прямой стан е...  Лермонтов\n",
              "61999  Штабс-капитан вошел в комнату в то время, когд...  Лермонтов\n",
              "\n",
              "[62000 rows x 2 columns]"
            ],
            "text/html": [
              "\n",
              "  <div id=\"df-cfb738dc-8375-4388-aa4b-df1801c4b6d1\">\n",
              "    <div class=\"colab-df-container\">\n",
              "      <div>\n",
              "<style scoped>\n",
              "    .dataframe tbody tr th:only-of-type {\n",
              "        vertical-align: middle;\n",
              "    }\n",
              "\n",
              "    .dataframe tbody tr th {\n",
              "        vertical-align: top;\n",
              "    }\n",
              "\n",
              "    .dataframe thead th {\n",
              "        text-align: right;\n",
              "    }\n",
              "</style>\n",
              "<table border=\"1\" class=\"dataframe\">\n",
              "  <thead>\n",
              "    <tr style=\"text-align: right;\">\n",
              "      <th></th>\n",
              "      <th>sentence</th>\n",
              "      <th>author</th>\n",
              "    </tr>\n",
              "  </thead>\n",
              "  <tbody>\n",
              "    <tr>\n",
              "      <th>0</th>\n",
              "      <td>Долго смотрел я издали на сельский дом, опять ...</td>\n",
              "      <td>Пушкин</td>\n",
              "    </tr>\n",
              "    <tr>\n",
              "      <th>1</th>\n",
              "      <td>Пятнадцать возов были подвезены на лошадях в б...</td>\n",
              "      <td>Пушкин</td>\n",
              "    </tr>\n",
              "    <tr>\n",
              "      <th>2</th>\n",
              "      <td>Я последовал его совету и, поужинав с большим ...</td>\n",
              "      <td>Пушкин</td>\n",
              "    </tr>\n",
              "    <tr>\n",
              "      <th>3</th>\n",
              "      <td>Господские крестьяне взбунтовались; иноверцы и...</td>\n",
              "      <td>Пушкин</td>\n",
              "    </tr>\n",
              "    <tr>\n",
              "      <th>4</th>\n",
              "      <td>Губернатор, измученный болезнию, от которой он...</td>\n",
              "      <td>Пушкин</td>\n",
              "    </tr>\n",
              "    <tr>\n",
              "      <th>...</th>\n",
              "      <td>...</td>\n",
              "      <td>...</td>\n",
              "    </tr>\n",
              "    <tr>\n",
              "      <th>61995</th>\n",
              "      <td>- Держу пятьдесят рублей  против  пяти,  что  ...</td>\n",
              "      <td>Лермонтов</td>\n",
              "    </tr>\n",
              "    <tr>\n",
              "      <th>61996</th>\n",
              "      <td>- продолжал он, - даю вам честное,  благородно...</td>\n",
              "      <td>Лермонтов</td>\n",
              "    </tr>\n",
              "    <tr>\n",
              "      <th>61997</th>\n",
              "      <td>в воскресенье ты пойдешь в церковь без новой л...</td>\n",
              "      <td>Лермонтов</td>\n",
              "    </tr>\n",
              "    <tr>\n",
              "      <th>61998</th>\n",
              "      <td>Когда он опустился на скамью, то прямой стан е...</td>\n",
              "      <td>Лермонтов</td>\n",
              "    </tr>\n",
              "    <tr>\n",
              "      <th>61999</th>\n",
              "      <td>Штабс-капитан вошел в комнату в то время, когд...</td>\n",
              "      <td>Лермонтов</td>\n",
              "    </tr>\n",
              "  </tbody>\n",
              "</table>\n",
              "<p>62000 rows × 2 columns</p>\n",
              "</div>\n",
              "      <button class=\"colab-df-convert\" onclick=\"convertToInteractive('df-cfb738dc-8375-4388-aa4b-df1801c4b6d1')\"\n",
              "              title=\"Convert this dataframe to an interactive table.\"\n",
              "              style=\"display:none;\">\n",
              "        \n",
              "  <svg xmlns=\"http://www.w3.org/2000/svg\" height=\"24px\"viewBox=\"0 0 24 24\"\n",
              "       width=\"24px\">\n",
              "    <path d=\"M0 0h24v24H0V0z\" fill=\"none\"/>\n",
              "    <path d=\"M18.56 5.44l.94 2.06.94-2.06 2.06-.94-2.06-.94-.94-2.06-.94 2.06-2.06.94zm-11 1L8.5 8.5l.94-2.06 2.06-.94-2.06-.94L8.5 2.5l-.94 2.06-2.06.94zm10 10l.94 2.06.94-2.06 2.06-.94-2.06-.94-.94-2.06-.94 2.06-2.06.94z\"/><path d=\"M17.41 7.96l-1.37-1.37c-.4-.4-.92-.59-1.43-.59-.52 0-1.04.2-1.43.59L10.3 9.45l-7.72 7.72c-.78.78-.78 2.05 0 2.83L4 21.41c.39.39.9.59 1.41.59.51 0 1.02-.2 1.41-.59l7.78-7.78 2.81-2.81c.8-.78.8-2.07 0-2.86zM5.41 20L4 18.59l7.72-7.72 1.47 1.35L5.41 20z\"/>\n",
              "  </svg>\n",
              "      </button>\n",
              "      \n",
              "  <style>\n",
              "    .colab-df-container {\n",
              "      display:flex;\n",
              "      flex-wrap:wrap;\n",
              "      gap: 12px;\n",
              "    }\n",
              "\n",
              "    .colab-df-convert {\n",
              "      background-color: #E8F0FE;\n",
              "      border: none;\n",
              "      border-radius: 50%;\n",
              "      cursor: pointer;\n",
              "      display: none;\n",
              "      fill: #1967D2;\n",
              "      height: 32px;\n",
              "      padding: 0 0 0 0;\n",
              "      width: 32px;\n",
              "    }\n",
              "\n",
              "    .colab-df-convert:hover {\n",
              "      background-color: #E2EBFA;\n",
              "      box-shadow: 0px 1px 2px rgba(60, 64, 67, 0.3), 0px 1px 3px 1px rgba(60, 64, 67, 0.15);\n",
              "      fill: #174EA6;\n",
              "    }\n",
              "\n",
              "    [theme=dark] .colab-df-convert {\n",
              "      background-color: #3B4455;\n",
              "      fill: #D2E3FC;\n",
              "    }\n",
              "\n",
              "    [theme=dark] .colab-df-convert:hover {\n",
              "      background-color: #434B5C;\n",
              "      box-shadow: 0px 1px 3px 1px rgba(0, 0, 0, 0.15);\n",
              "      filter: drop-shadow(0px 1px 2px rgba(0, 0, 0, 0.3));\n",
              "      fill: #FFFFFF;\n",
              "    }\n",
              "  </style>\n",
              "\n",
              "      <script>\n",
              "        const buttonEl =\n",
              "          document.querySelector('#df-cfb738dc-8375-4388-aa4b-df1801c4b6d1 button.colab-df-convert');\n",
              "        buttonEl.style.display =\n",
              "          google.colab.kernel.accessAllowed ? 'block' : 'none';\n",
              "\n",
              "        async function convertToInteractive(key) {\n",
              "          const element = document.querySelector('#df-cfb738dc-8375-4388-aa4b-df1801c4b6d1');\n",
              "          const dataTable =\n",
              "            await google.colab.kernel.invokeFunction('convertToInteractive',\n",
              "                                                     [key], {});\n",
              "          if (!dataTable) return;\n",
              "\n",
              "          const docLinkHtml = 'Like what you see? Visit the ' +\n",
              "            '<a target=\"_blank\" href=https://colab.research.google.com/notebooks/data_table.ipynb>data table notebook</a>'\n",
              "            + ' to learn more about interactive tables.';\n",
              "          element.innerHTML = '';\n",
              "          dataTable['output_type'] = 'display_data';\n",
              "          await google.colab.output.renderOutput(dataTable, element);\n",
              "          const docLink = document.createElement('div');\n",
              "          docLink.innerHTML = docLinkHtml;\n",
              "          element.appendChild(docLink);\n",
              "        }\n",
              "      </script>\n",
              "    </div>\n",
              "  </div>\n",
              "  "
            ]
          },
          "metadata": {},
          "execution_count": 22
        }
      ]
    },
    {
      "cell_type": "markdown",
      "source": [
        "Можно увидеть, что некоторые предложения имеют не совсем стандартную форму, что связано со спецификой прямой речи в тексте, цитатами, чередованием одного с другим и т.п..   \n",
        "В любом случае, использовались библиотечные методы, которые явно сработали лучше, чем какое-нибудь авторское решение на основе анализа каждого символа :)"
      ],
      "metadata": {
        "id": "WhI_KYGK0fRR"
      }
    },
    {
      "cell_type": "markdown",
      "source": [
        "После формирования датасета переходим к препроцессингу. Я буду использовать лемматизатор (морфологический анализатор), так как для русского языка данный вариант более подходящий нежели стемминг."
      ],
      "metadata": {
        "id": "vbvTUhfpFX_8"
      }
    },
    {
      "cell_type": "code",
      "source": [
        "import string\n",
        "\n",
        "# Стоп-слова.\n",
        "nltk.download('stopwords')\n",
        "stop_words = nltk.corpus.stopwords.words('russian')\n",
        "\n",
        "# Определяем токенизатор слов.\n",
        "word_tokenizer = nltk.WordPunctTokenizer()"
      ],
      "metadata": {
        "id": "_cHbDx3hHEHA",
        "colab": {
          "base_uri": "https://localhost:8080/"
        },
        "outputId": "fd02df4d-d3d0-482b-fa98-24781f779b90"
      },
      "execution_count": 23,
      "outputs": [
        {
          "output_type": "stream",
          "name": "stderr",
          "text": [
            "[nltk_data] Downloading package stopwords to /root/nltk_data...\n",
            "[nltk_data]   Unzipping corpora/stopwords.zip.\n"
          ]
        }
      ]
    },
    {
      "cell_type": "code",
      "source": [
        "!pip install pymorphy2"
      ],
      "metadata": {
        "id": "HPv9L96IBYMC",
        "colab": {
          "base_uri": "https://localhost:8080/"
        },
        "outputId": "d3dc35f3-a316-49ba-b43d-a0f28d2386e7"
      },
      "execution_count": 24,
      "outputs": [
        {
          "output_type": "stream",
          "name": "stdout",
          "text": [
            "Looking in indexes: https://pypi.org/simple, https://us-python.pkg.dev/colab-wheels/public/simple/\n",
            "Collecting pymorphy2\n",
            "  Downloading pymorphy2-0.9.1-py3-none-any.whl (55 kB)\n",
            "\u001b[K     |████████████████████████████████| 55 kB 3.0 MB/s \n",
            "\u001b[?25hCollecting pymorphy2-dicts-ru<3.0,>=2.4\n",
            "  Downloading pymorphy2_dicts_ru-2.4.417127.4579844-py2.py3-none-any.whl (8.2 MB)\n",
            "\u001b[K     |████████████████████████████████| 8.2 MB 15.5 MB/s \n",
            "\u001b[?25hCollecting dawg-python>=0.7.1\n",
            "  Downloading DAWG_Python-0.7.2-py2.py3-none-any.whl (11 kB)\n",
            "Collecting docopt>=0.6\n",
            "  Downloading docopt-0.6.2.tar.gz (25 kB)\n",
            "Building wheels for collected packages: docopt\n",
            "  Building wheel for docopt (setup.py) ... \u001b[?25l\u001b[?25hdone\n",
            "  Created wheel for docopt: filename=docopt-0.6.2-py2.py3-none-any.whl size=13723 sha256=1a774c48b7414592d066404970a4944ab7d2f71a36c6cce98117edc373920dfe\n",
            "  Stored in directory: /root/.cache/pip/wheels/72/b0/3f/1d95f96ff986c7dfffe46ce2be4062f38ebd04b506c77c81b9\n",
            "Successfully built docopt\n",
            "Installing collected packages: pymorphy2-dicts-ru, docopt, dawg-python, pymorphy2\n",
            "Successfully installed dawg-python-0.7.2 docopt-0.6.2 pymorphy2-0.9.1 pymorphy2-dicts-ru-2.4.417127.4579844\n"
          ]
        }
      ]
    },
    {
      "cell_type": "code",
      "source": [
        "import pymorphy2\n",
        "\n",
        "morph = pymorphy2.MorphAnalyzer()\n",
        "\n",
        "# Определяем функцию для процессинга текста (в рамках задания - предложения).\n",
        "# Реализация схожа с приведенной на семинаре.\n",
        "\n",
        "def process_sent(text):\n",
        "    targets = []\n",
        "    # Конвертация к нижнему регистру и токенизация.\n",
        "    text_lower = text.lower()\n",
        "    tokens = word_tokenizer.tokenize(text_lower)\n",
        "    # Удаление стоп-слов, знаков пунктуации и цифр.\n",
        "    tokens = [word for word in tokens if (word not in string.punctuation and word not in stop_words and word not in string.digits)]\n",
        "    result = []\n",
        "    # Тут же определим лемматизацию.\n",
        "    for word in tokens:\n",
        "        word_norm = morph.parse(word)[0].normal_form\n",
        "        result.append(word_norm)\n",
        "    return result\n",
        "\n",
        "def process_data(data):\n",
        "    return [process_sent(sent) for sent in data]\n",
        "\n",
        "# Обрабатываем наш датасет.\n",
        "dataset['lemmatization'] = process_data(dataset['sentence'])\n",
        "dataset"
      ],
      "metadata": {
        "id": "eM3H_tCdHgjB",
        "colab": {
          "base_uri": "https://localhost:8080/",
          "height": 424
        },
        "outputId": "73e6f5bb-38a3-490a-8e74-cbe0f7df22a1"
      },
      "execution_count": 25,
      "outputs": [
        {
          "output_type": "execute_result",
          "data": {
            "text/plain": [
              "                                                sentence     author  \\\n",
              "0      Долго смотрел я издали на сельский дом, опять ...     Пушкин   \n",
              "1      Пятнадцать возов были подвезены на лошадях в б...     Пушкин   \n",
              "2      Я последовал его совету и, поужинав с большим ...     Пушкин   \n",
              "3      Господские крестьяне взбунтовались; иноверцы и...     Пушкин   \n",
              "4      Губернатор, измученный болезнию, от которой он...     Пушкин   \n",
              "...                                                  ...        ...   \n",
              "61995  - Держу пятьдесят рублей  против  пяти,  что  ...  Лермонтов   \n",
              "61996  - продолжал он, - даю вам честное,  благородно...  Лермонтов   \n",
              "61997  в воскресенье ты пойдешь в церковь без новой л...  Лермонтов   \n",
              "61998  Когда он опустился на скамью, то прямой стан е...  Лермонтов   \n",
              "61999  Штабс-капитан вошел в комнату в то время, когд...  Лермонтов   \n",
              "\n",
              "                                           lemmatization  \n",
              "0      [долго, смотреть, издали, сельский, дом, я, по...  \n",
              "1      [пятнадцать, воз, подвезти, лошадь, близкий, р...  \n",
              "2      [последовать, совет, поужинать, больший, аппет...  \n",
              "3      [господский, крестьянин, взбунтоваться, иновер...  \n",
              "4      [губернатор, измученный, болезние, который, ум...  \n",
              "...                                                  ...  \n",
              "61995  [дерзить, пятьдесят, рубль, против, пять, пист...  \n",
              "61996  [продолжать, давать, честной, благородный, сло...  \n",
              "61997        [воскресение, пойти, церковь, новый, лента]  \n",
              "61998  [опуститься, скамья, прямой, стан, согнуться, ...  \n",
              "61999  [штабс, капитан, войти, комната, время, надева...  \n",
              "\n",
              "[62000 rows x 3 columns]"
            ],
            "text/html": [
              "\n",
              "  <div id=\"df-51f62d76-cfbc-4b01-93fc-01d0d94bc9b7\">\n",
              "    <div class=\"colab-df-container\">\n",
              "      <div>\n",
              "<style scoped>\n",
              "    .dataframe tbody tr th:only-of-type {\n",
              "        vertical-align: middle;\n",
              "    }\n",
              "\n",
              "    .dataframe tbody tr th {\n",
              "        vertical-align: top;\n",
              "    }\n",
              "\n",
              "    .dataframe thead th {\n",
              "        text-align: right;\n",
              "    }\n",
              "</style>\n",
              "<table border=\"1\" class=\"dataframe\">\n",
              "  <thead>\n",
              "    <tr style=\"text-align: right;\">\n",
              "      <th></th>\n",
              "      <th>sentence</th>\n",
              "      <th>author</th>\n",
              "      <th>lemmatization</th>\n",
              "    </tr>\n",
              "  </thead>\n",
              "  <tbody>\n",
              "    <tr>\n",
              "      <th>0</th>\n",
              "      <td>Долго смотрел я издали на сельский дом, опять ...</td>\n",
              "      <td>Пушкин</td>\n",
              "      <td>[долго, смотреть, издали, сельский, дом, я, по...</td>\n",
              "    </tr>\n",
              "    <tr>\n",
              "      <th>1</th>\n",
              "      <td>Пятнадцать возов были подвезены на лошадях в б...</td>\n",
              "      <td>Пушкин</td>\n",
              "      <td>[пятнадцать, воз, подвезти, лошадь, близкий, р...</td>\n",
              "    </tr>\n",
              "    <tr>\n",
              "      <th>2</th>\n",
              "      <td>Я последовал его совету и, поужинав с большим ...</td>\n",
              "      <td>Пушкин</td>\n",
              "      <td>[последовать, совет, поужинать, больший, аппет...</td>\n",
              "    </tr>\n",
              "    <tr>\n",
              "      <th>3</th>\n",
              "      <td>Господские крестьяне взбунтовались; иноверцы и...</td>\n",
              "      <td>Пушкин</td>\n",
              "      <td>[господский, крестьянин, взбунтоваться, иновер...</td>\n",
              "    </tr>\n",
              "    <tr>\n",
              "      <th>4</th>\n",
              "      <td>Губернатор, измученный болезнию, от которой он...</td>\n",
              "      <td>Пушкин</td>\n",
              "      <td>[губернатор, измученный, болезние, который, ум...</td>\n",
              "    </tr>\n",
              "    <tr>\n",
              "      <th>...</th>\n",
              "      <td>...</td>\n",
              "      <td>...</td>\n",
              "      <td>...</td>\n",
              "    </tr>\n",
              "    <tr>\n",
              "      <th>61995</th>\n",
              "      <td>- Держу пятьдесят рублей  против  пяти,  что  ...</td>\n",
              "      <td>Лермонтов</td>\n",
              "      <td>[дерзить, пятьдесят, рубль, против, пять, пист...</td>\n",
              "    </tr>\n",
              "    <tr>\n",
              "      <th>61996</th>\n",
              "      <td>- продолжал он, - даю вам честное,  благородно...</td>\n",
              "      <td>Лермонтов</td>\n",
              "      <td>[продолжать, давать, честной, благородный, сло...</td>\n",
              "    </tr>\n",
              "    <tr>\n",
              "      <th>61997</th>\n",
              "      <td>в воскресенье ты пойдешь в церковь без новой л...</td>\n",
              "      <td>Лермонтов</td>\n",
              "      <td>[воскресение, пойти, церковь, новый, лента]</td>\n",
              "    </tr>\n",
              "    <tr>\n",
              "      <th>61998</th>\n",
              "      <td>Когда он опустился на скамью, то прямой стан е...</td>\n",
              "      <td>Лермонтов</td>\n",
              "      <td>[опуститься, скамья, прямой, стан, согнуться, ...</td>\n",
              "    </tr>\n",
              "    <tr>\n",
              "      <th>61999</th>\n",
              "      <td>Штабс-капитан вошел в комнату в то время, когд...</td>\n",
              "      <td>Лермонтов</td>\n",
              "      <td>[штабс, капитан, войти, комната, время, надева...</td>\n",
              "    </tr>\n",
              "  </tbody>\n",
              "</table>\n",
              "<p>62000 rows × 3 columns</p>\n",
              "</div>\n",
              "      <button class=\"colab-df-convert\" onclick=\"convertToInteractive('df-51f62d76-cfbc-4b01-93fc-01d0d94bc9b7')\"\n",
              "              title=\"Convert this dataframe to an interactive table.\"\n",
              "              style=\"display:none;\">\n",
              "        \n",
              "  <svg xmlns=\"http://www.w3.org/2000/svg\" height=\"24px\"viewBox=\"0 0 24 24\"\n",
              "       width=\"24px\">\n",
              "    <path d=\"M0 0h24v24H0V0z\" fill=\"none\"/>\n",
              "    <path d=\"M18.56 5.44l.94 2.06.94-2.06 2.06-.94-2.06-.94-.94-2.06-.94 2.06-2.06.94zm-11 1L8.5 8.5l.94-2.06 2.06-.94-2.06-.94L8.5 2.5l-.94 2.06-2.06.94zm10 10l.94 2.06.94-2.06 2.06-.94-2.06-.94-.94-2.06-.94 2.06-2.06.94z\"/><path d=\"M17.41 7.96l-1.37-1.37c-.4-.4-.92-.59-1.43-.59-.52 0-1.04.2-1.43.59L10.3 9.45l-7.72 7.72c-.78.78-.78 2.05 0 2.83L4 21.41c.39.39.9.59 1.41.59.51 0 1.02-.2 1.41-.59l7.78-7.78 2.81-2.81c.8-.78.8-2.07 0-2.86zM5.41 20L4 18.59l7.72-7.72 1.47 1.35L5.41 20z\"/>\n",
              "  </svg>\n",
              "      </button>\n",
              "      \n",
              "  <style>\n",
              "    .colab-df-container {\n",
              "      display:flex;\n",
              "      flex-wrap:wrap;\n",
              "      gap: 12px;\n",
              "    }\n",
              "\n",
              "    .colab-df-convert {\n",
              "      background-color: #E8F0FE;\n",
              "      border: none;\n",
              "      border-radius: 50%;\n",
              "      cursor: pointer;\n",
              "      display: none;\n",
              "      fill: #1967D2;\n",
              "      height: 32px;\n",
              "      padding: 0 0 0 0;\n",
              "      width: 32px;\n",
              "    }\n",
              "\n",
              "    .colab-df-convert:hover {\n",
              "      background-color: #E2EBFA;\n",
              "      box-shadow: 0px 1px 2px rgba(60, 64, 67, 0.3), 0px 1px 3px 1px rgba(60, 64, 67, 0.15);\n",
              "      fill: #174EA6;\n",
              "    }\n",
              "\n",
              "    [theme=dark] .colab-df-convert {\n",
              "      background-color: #3B4455;\n",
              "      fill: #D2E3FC;\n",
              "    }\n",
              "\n",
              "    [theme=dark] .colab-df-convert:hover {\n",
              "      background-color: #434B5C;\n",
              "      box-shadow: 0px 1px 3px 1px rgba(0, 0, 0, 0.15);\n",
              "      filter: drop-shadow(0px 1px 2px rgba(0, 0, 0, 0.3));\n",
              "      fill: #FFFFFF;\n",
              "    }\n",
              "  </style>\n",
              "\n",
              "      <script>\n",
              "        const buttonEl =\n",
              "          document.querySelector('#df-51f62d76-cfbc-4b01-93fc-01d0d94bc9b7 button.colab-df-convert');\n",
              "        buttonEl.style.display =\n",
              "          google.colab.kernel.accessAllowed ? 'block' : 'none';\n",
              "\n",
              "        async function convertToInteractive(key) {\n",
              "          const element = document.querySelector('#df-51f62d76-cfbc-4b01-93fc-01d0d94bc9b7');\n",
              "          const dataTable =\n",
              "            await google.colab.kernel.invokeFunction('convertToInteractive',\n",
              "                                                     [key], {});\n",
              "          if (!dataTable) return;\n",
              "\n",
              "          const docLinkHtml = 'Like what you see? Visit the ' +\n",
              "            '<a target=\"_blank\" href=https://colab.research.google.com/notebooks/data_table.ipynb>data table notebook</a>'\n",
              "            + ' to learn more about interactive tables.';\n",
              "          element.innerHTML = '';\n",
              "          dataTable['output_type'] = 'display_data';\n",
              "          await google.colab.output.renderOutput(dataTable, element);\n",
              "          const docLink = document.createElement('div');\n",
              "          docLink.innerHTML = docLinkHtml;\n",
              "          element.appendChild(docLink);\n",
              "        }\n",
              "      </script>\n",
              "    </div>\n",
              "  </div>\n",
              "  "
            ]
          },
          "metadata": {},
          "execution_count": 25
        }
      ]
    },
    {
      "cell_type": "markdown",
      "source": [
        "Теперь переходим к векторизации слов:"
      ],
      "metadata": {
        "id": "vPbtLSLULZ4C"
      }
    },
    {
      "cell_type": "code",
      "source": [
        "# Создаем лист из слов, полученных в результате лемматизации, для каждого предложения датасета.\n",
        "lemmatization_list = [' '.join(words) for words in dataset[\"lemmatization\"]]"
      ],
      "metadata": {
        "id": "Yig9YYeLahd4"
      },
      "execution_count": 26,
      "outputs": []
    },
    {
      "cell_type": "code",
      "source": [
        "from sklearn.feature_extraction.text import CountVectorizer, TfidfVectorizer\n",
        "\n",
        "bag_matrix = CountVectorizer(max_features = 500).fit_transform(lemmatization_list)\n",
        "bag_array = np.asarray(bag_matrix.todense())\n",
        "tfid_matrix = TfidfVectorizer(max_features = 500).fit_transform(lemmatization_list)\n",
        "tfid_array = np.asarray(tfid_matrix.todense())\n",
        "\n",
        "# Работаем с bag_of_words и tfidf.\n",
        "dataset[\"bag_of_words\"] = [bag_array[index] for index in range(bag_array.shape[0])]\n",
        "dataset[\"tfidf\"] = [tfid_array[index] for index in range(tfid_array.shape[0])]"
      ],
      "metadata": {
        "id": "_uoE1tFdLqBm"
      },
      "execution_count": 27,
      "outputs": []
    },
    {
      "cell_type": "markdown",
      "source": [
        "В своей реализации я использовала значение $max\\_features=500$, иначе говоря простым языком, рассматривается 500 наиболее часто встречающихся слов.   \n",
        "Числа (целые) в столбце $bag-of-words$ показывают для текущего предложения количество каждого из 500 наиболее частых слов (то есть если значение равно $0$, то слово не встречалось в предложении, если значение равно $n$, то слово встречалось в предложении $n$ раз).\n",
        "Числа (вещественные) в столбце $tfidf$ показывают для текущего предложения отношение числа вхождений каждого из 500 наиболее частых слов к общему числу слов датасета. Иначе говоря, они характеризуют важность соответстсующего слова в рамках всего датасета.   \n",
        "То, что в видимой части датасета отражаются только нули - нормально, там 500 позиций в списках, так что ненулевые значения идут дальше."
      ],
      "metadata": {
        "id": "altGkbIKnujy"
      }
    },
    {
      "cell_type": "code",
      "source": [
        "dataset"
      ],
      "metadata": {
        "id": "onhlg9nHkwhs",
        "colab": {
          "base_uri": "https://localhost:8080/",
          "height": 641
        },
        "outputId": "22ac4c69-2a85-41ff-e82a-b575745e7050"
      },
      "execution_count": 28,
      "outputs": [
        {
          "output_type": "execute_result",
          "data": {
            "text/plain": [
              "                                                sentence     author  \\\n",
              "0      Долго смотрел я издали на сельский дом, опять ...     Пушкин   \n",
              "1      Пятнадцать возов были подвезены на лошадях в б...     Пушкин   \n",
              "2      Я последовал его совету и, поужинав с большим ...     Пушкин   \n",
              "3      Господские крестьяне взбунтовались; иноверцы и...     Пушкин   \n",
              "4      Губернатор, измученный болезнию, от которой он...     Пушкин   \n",
              "...                                                  ...        ...   \n",
              "61995  - Держу пятьдесят рублей  против  пяти,  что  ...  Лермонтов   \n",
              "61996  - продолжал он, - даю вам честное,  благородно...  Лермонтов   \n",
              "61997  в воскресенье ты пойдешь в церковь без новой л...  Лермонтов   \n",
              "61998  Когда он опустился на скамью, то прямой стан е...  Лермонтов   \n",
              "61999  Штабс-капитан вошел в комнату в то время, когд...  Лермонтов   \n",
              "\n",
              "                                           lemmatization  \\\n",
              "0      [долго, смотреть, издали, сельский, дом, я, по...   \n",
              "1      [пятнадцать, воз, подвезти, лошадь, близкий, р...   \n",
              "2      [последовать, совет, поужинать, больший, аппет...   \n",
              "3      [господский, крестьянин, взбунтоваться, иновер...   \n",
              "4      [губернатор, измученный, болезние, который, ум...   \n",
              "...                                                  ...   \n",
              "61995  [дерзить, пятьдесят, рубль, против, пять, пист...   \n",
              "61996  [продолжать, давать, честной, благородный, сло...   \n",
              "61997        [воскресение, пойти, церковь, новый, лента]   \n",
              "61998  [опуститься, скамья, прямой, стан, согнуться, ...   \n",
              "61999  [штабс, капитан, войти, комната, время, надева...   \n",
              "\n",
              "                                            bag_of_words  \\\n",
              "0      [0, 0, 0, 0, 0, 0, 0, 0, 0, 0, 0, 0, 0, 0, 0, ...   \n",
              "1      [0, 0, 0, 0, 0, 0, 0, 0, 0, 0, 0, 0, 0, 0, 1, ...   \n",
              "2      [0, 0, 0, 0, 0, 0, 0, 0, 0, 0, 0, 0, 0, 0, 0, ...   \n",
              "3      [0, 0, 0, 0, 0, 0, 0, 0, 0, 0, 0, 0, 0, 0, 0, ...   \n",
              "4      [0, 0, 0, 0, 0, 0, 0, 0, 0, 0, 0, 0, 0, 0, 0, ...   \n",
              "...                                                  ...   \n",
              "61995  [0, 0, 0, 0, 0, 0, 0, 0, 0, 0, 0, 0, 0, 0, 0, ...   \n",
              "61996  [0, 0, 0, 0, 0, 0, 0, 0, 0, 0, 0, 0, 0, 0, 0, ...   \n",
              "61997  [0, 0, 0, 0, 0, 0, 0, 0, 0, 0, 0, 0, 0, 0, 0, ...   \n",
              "61998  [0, 0, 0, 0, 0, 0, 0, 0, 0, 0, 0, 0, 0, 0, 0, ...   \n",
              "61999  [0, 0, 0, 0, 0, 0, 0, 0, 0, 0, 0, 0, 0, 0, 0, ...   \n",
              "\n",
              "                                                   tfidf  \n",
              "0      [0.0, 0.0, 0.0, 0.0, 0.0, 0.0, 0.0, 0.0, 0.0, ...  \n",
              "1      [0.0, 0.0, 0.0, 0.0, 0.0, 0.0, 0.0, 0.0, 0.0, ...  \n",
              "2      [0.0, 0.0, 0.0, 0.0, 0.0, 0.0, 0.0, 0.0, 0.0, ...  \n",
              "3      [0.0, 0.0, 0.0, 0.0, 0.0, 0.0, 0.0, 0.0, 0.0, ...  \n",
              "4      [0.0, 0.0, 0.0, 0.0, 0.0, 0.0, 0.0, 0.0, 0.0, ...  \n",
              "...                                                  ...  \n",
              "61995  [0.0, 0.0, 0.0, 0.0, 0.0, 0.0, 0.0, 0.0, 0.0, ...  \n",
              "61996  [0.0, 0.0, 0.0, 0.0, 0.0, 0.0, 0.0, 0.0, 0.0, ...  \n",
              "61997  [0.0, 0.0, 0.0, 0.0, 0.0, 0.0, 0.0, 0.0, 0.0, ...  \n",
              "61998  [0.0, 0.0, 0.0, 0.0, 0.0, 0.0, 0.0, 0.0, 0.0, ...  \n",
              "61999  [0.0, 0.0, 0.0, 0.0, 0.0, 0.0, 0.0, 0.0, 0.0, ...  \n",
              "\n",
              "[62000 rows x 5 columns]"
            ],
            "text/html": [
              "\n",
              "  <div id=\"df-fb5b25b0-3c44-4a41-87aa-47fc2358e851\">\n",
              "    <div class=\"colab-df-container\">\n",
              "      <div>\n",
              "<style scoped>\n",
              "    .dataframe tbody tr th:only-of-type {\n",
              "        vertical-align: middle;\n",
              "    }\n",
              "\n",
              "    .dataframe tbody tr th {\n",
              "        vertical-align: top;\n",
              "    }\n",
              "\n",
              "    .dataframe thead th {\n",
              "        text-align: right;\n",
              "    }\n",
              "</style>\n",
              "<table border=\"1\" class=\"dataframe\">\n",
              "  <thead>\n",
              "    <tr style=\"text-align: right;\">\n",
              "      <th></th>\n",
              "      <th>sentence</th>\n",
              "      <th>author</th>\n",
              "      <th>lemmatization</th>\n",
              "      <th>bag_of_words</th>\n",
              "      <th>tfidf</th>\n",
              "    </tr>\n",
              "  </thead>\n",
              "  <tbody>\n",
              "    <tr>\n",
              "      <th>0</th>\n",
              "      <td>Долго смотрел я издали на сельский дом, опять ...</td>\n",
              "      <td>Пушкин</td>\n",
              "      <td>[долго, смотреть, издали, сельский, дом, я, по...</td>\n",
              "      <td>[0, 0, 0, 0, 0, 0, 0, 0, 0, 0, 0, 0, 0, 0, 0, ...</td>\n",
              "      <td>[0.0, 0.0, 0.0, 0.0, 0.0, 0.0, 0.0, 0.0, 0.0, ...</td>\n",
              "    </tr>\n",
              "    <tr>\n",
              "      <th>1</th>\n",
              "      <td>Пятнадцать возов были подвезены на лошадях в б...</td>\n",
              "      <td>Пушкин</td>\n",
              "      <td>[пятнадцать, воз, подвезти, лошадь, близкий, р...</td>\n",
              "      <td>[0, 0, 0, 0, 0, 0, 0, 0, 0, 0, 0, 0, 0, 0, 1, ...</td>\n",
              "      <td>[0.0, 0.0, 0.0, 0.0, 0.0, 0.0, 0.0, 0.0, 0.0, ...</td>\n",
              "    </tr>\n",
              "    <tr>\n",
              "      <th>2</th>\n",
              "      <td>Я последовал его совету и, поужинав с большим ...</td>\n",
              "      <td>Пушкин</td>\n",
              "      <td>[последовать, совет, поужинать, больший, аппет...</td>\n",
              "      <td>[0, 0, 0, 0, 0, 0, 0, 0, 0, 0, 0, 0, 0, 0, 0, ...</td>\n",
              "      <td>[0.0, 0.0, 0.0, 0.0, 0.0, 0.0, 0.0, 0.0, 0.0, ...</td>\n",
              "    </tr>\n",
              "    <tr>\n",
              "      <th>3</th>\n",
              "      <td>Господские крестьяне взбунтовались; иноверцы и...</td>\n",
              "      <td>Пушкин</td>\n",
              "      <td>[господский, крестьянин, взбунтоваться, иновер...</td>\n",
              "      <td>[0, 0, 0, 0, 0, 0, 0, 0, 0, 0, 0, 0, 0, 0, 0, ...</td>\n",
              "      <td>[0.0, 0.0, 0.0, 0.0, 0.0, 0.0, 0.0, 0.0, 0.0, ...</td>\n",
              "    </tr>\n",
              "    <tr>\n",
              "      <th>4</th>\n",
              "      <td>Губернатор, измученный болезнию, от которой он...</td>\n",
              "      <td>Пушкин</td>\n",
              "      <td>[губернатор, измученный, болезние, который, ум...</td>\n",
              "      <td>[0, 0, 0, 0, 0, 0, 0, 0, 0, 0, 0, 0, 0, 0, 0, ...</td>\n",
              "      <td>[0.0, 0.0, 0.0, 0.0, 0.0, 0.0, 0.0, 0.0, 0.0, ...</td>\n",
              "    </tr>\n",
              "    <tr>\n",
              "      <th>...</th>\n",
              "      <td>...</td>\n",
              "      <td>...</td>\n",
              "      <td>...</td>\n",
              "      <td>...</td>\n",
              "      <td>...</td>\n",
              "    </tr>\n",
              "    <tr>\n",
              "      <th>61995</th>\n",
              "      <td>- Держу пятьдесят рублей  против  пяти,  что  ...</td>\n",
              "      <td>Лермонтов</td>\n",
              "      <td>[дерзить, пятьдесят, рубль, против, пять, пист...</td>\n",
              "      <td>[0, 0, 0, 0, 0, 0, 0, 0, 0, 0, 0, 0, 0, 0, 0, ...</td>\n",
              "      <td>[0.0, 0.0, 0.0, 0.0, 0.0, 0.0, 0.0, 0.0, 0.0, ...</td>\n",
              "    </tr>\n",
              "    <tr>\n",
              "      <th>61996</th>\n",
              "      <td>- продолжал он, - даю вам честное,  благородно...</td>\n",
              "      <td>Лермонтов</td>\n",
              "      <td>[продолжать, давать, честной, благородный, сло...</td>\n",
              "      <td>[0, 0, 0, 0, 0, 0, 0, 0, 0, 0, 0, 0, 0, 0, 0, ...</td>\n",
              "      <td>[0.0, 0.0, 0.0, 0.0, 0.0, 0.0, 0.0, 0.0, 0.0, ...</td>\n",
              "    </tr>\n",
              "    <tr>\n",
              "      <th>61997</th>\n",
              "      <td>в воскресенье ты пойдешь в церковь без новой л...</td>\n",
              "      <td>Лермонтов</td>\n",
              "      <td>[воскресение, пойти, церковь, новый, лента]</td>\n",
              "      <td>[0, 0, 0, 0, 0, 0, 0, 0, 0, 0, 0, 0, 0, 0, 0, ...</td>\n",
              "      <td>[0.0, 0.0, 0.0, 0.0, 0.0, 0.0, 0.0, 0.0, 0.0, ...</td>\n",
              "    </tr>\n",
              "    <tr>\n",
              "      <th>61998</th>\n",
              "      <td>Когда он опустился на скамью, то прямой стан е...</td>\n",
              "      <td>Лермонтов</td>\n",
              "      <td>[опуститься, скамья, прямой, стан, согнуться, ...</td>\n",
              "      <td>[0, 0, 0, 0, 0, 0, 0, 0, 0, 0, 0, 0, 0, 0, 0, ...</td>\n",
              "      <td>[0.0, 0.0, 0.0, 0.0, 0.0, 0.0, 0.0, 0.0, 0.0, ...</td>\n",
              "    </tr>\n",
              "    <tr>\n",
              "      <th>61999</th>\n",
              "      <td>Штабс-капитан вошел в комнату в то время, когд...</td>\n",
              "      <td>Лермонтов</td>\n",
              "      <td>[штабс, капитан, войти, комната, время, надева...</td>\n",
              "      <td>[0, 0, 0, 0, 0, 0, 0, 0, 0, 0, 0, 0, 0, 0, 0, ...</td>\n",
              "      <td>[0.0, 0.0, 0.0, 0.0, 0.0, 0.0, 0.0, 0.0, 0.0, ...</td>\n",
              "    </tr>\n",
              "  </tbody>\n",
              "</table>\n",
              "<p>62000 rows × 5 columns</p>\n",
              "</div>\n",
              "      <button class=\"colab-df-convert\" onclick=\"convertToInteractive('df-fb5b25b0-3c44-4a41-87aa-47fc2358e851')\"\n",
              "              title=\"Convert this dataframe to an interactive table.\"\n",
              "              style=\"display:none;\">\n",
              "        \n",
              "  <svg xmlns=\"http://www.w3.org/2000/svg\" height=\"24px\"viewBox=\"0 0 24 24\"\n",
              "       width=\"24px\">\n",
              "    <path d=\"M0 0h24v24H0V0z\" fill=\"none\"/>\n",
              "    <path d=\"M18.56 5.44l.94 2.06.94-2.06 2.06-.94-2.06-.94-.94-2.06-.94 2.06-2.06.94zm-11 1L8.5 8.5l.94-2.06 2.06-.94-2.06-.94L8.5 2.5l-.94 2.06-2.06.94zm10 10l.94 2.06.94-2.06 2.06-.94-2.06-.94-.94-2.06-.94 2.06-2.06.94z\"/><path d=\"M17.41 7.96l-1.37-1.37c-.4-.4-.92-.59-1.43-.59-.52 0-1.04.2-1.43.59L10.3 9.45l-7.72 7.72c-.78.78-.78 2.05 0 2.83L4 21.41c.39.39.9.59 1.41.59.51 0 1.02-.2 1.41-.59l7.78-7.78 2.81-2.81c.8-.78.8-2.07 0-2.86zM5.41 20L4 18.59l7.72-7.72 1.47 1.35L5.41 20z\"/>\n",
              "  </svg>\n",
              "      </button>\n",
              "      \n",
              "  <style>\n",
              "    .colab-df-container {\n",
              "      display:flex;\n",
              "      flex-wrap:wrap;\n",
              "      gap: 12px;\n",
              "    }\n",
              "\n",
              "    .colab-df-convert {\n",
              "      background-color: #E8F0FE;\n",
              "      border: none;\n",
              "      border-radius: 50%;\n",
              "      cursor: pointer;\n",
              "      display: none;\n",
              "      fill: #1967D2;\n",
              "      height: 32px;\n",
              "      padding: 0 0 0 0;\n",
              "      width: 32px;\n",
              "    }\n",
              "\n",
              "    .colab-df-convert:hover {\n",
              "      background-color: #E2EBFA;\n",
              "      box-shadow: 0px 1px 2px rgba(60, 64, 67, 0.3), 0px 1px 3px 1px rgba(60, 64, 67, 0.15);\n",
              "      fill: #174EA6;\n",
              "    }\n",
              "\n",
              "    [theme=dark] .colab-df-convert {\n",
              "      background-color: #3B4455;\n",
              "      fill: #D2E3FC;\n",
              "    }\n",
              "\n",
              "    [theme=dark] .colab-df-convert:hover {\n",
              "      background-color: #434B5C;\n",
              "      box-shadow: 0px 1px 3px 1px rgba(0, 0, 0, 0.15);\n",
              "      filter: drop-shadow(0px 1px 2px rgba(0, 0, 0, 0.3));\n",
              "      fill: #FFFFFF;\n",
              "    }\n",
              "  </style>\n",
              "\n",
              "      <script>\n",
              "        const buttonEl =\n",
              "          document.querySelector('#df-fb5b25b0-3c44-4a41-87aa-47fc2358e851 button.colab-df-convert');\n",
              "        buttonEl.style.display =\n",
              "          google.colab.kernel.accessAllowed ? 'block' : 'none';\n",
              "\n",
              "        async function convertToInteractive(key) {\n",
              "          const element = document.querySelector('#df-fb5b25b0-3c44-4a41-87aa-47fc2358e851');\n",
              "          const dataTable =\n",
              "            await google.colab.kernel.invokeFunction('convertToInteractive',\n",
              "                                                     [key], {});\n",
              "          if (!dataTable) return;\n",
              "\n",
              "          const docLinkHtml = 'Like what you see? Visit the ' +\n",
              "            '<a target=\"_blank\" href=https://colab.research.google.com/notebooks/data_table.ipynb>data table notebook</a>'\n",
              "            + ' to learn more about interactive tables.';\n",
              "          element.innerHTML = '';\n",
              "          dataTable['output_type'] = 'display_data';\n",
              "          await google.colab.output.renderOutput(dataTable, element);\n",
              "          const docLink = document.createElement('div');\n",
              "          docLink.innerHTML = docLinkHtml;\n",
              "          element.appendChild(docLink);\n",
              "        }\n",
              "      </script>\n",
              "    </div>\n",
              "  </div>\n",
              "  "
            ]
          },
          "metadata": {},
          "execution_count": 28
        }
      ]
    },
    {
      "cell_type": "markdown",
      "metadata": {
        "id": "LuTi3rvnDvZL"
      },
      "source": [
        "###  Binary classification\n",
        "\n",
        "#### 8. [2 point] Train model using Logistic Regression (your own) and SVC (SVM can be taken from sklearn) \n",
        "\n",
        "* choose *two* authors from the dataset that you have formed in the previous task\n",
        "* check the balance of the classes\n",
        "* divide the data into train and test samples with 0.7 split rate (don't forget to fix the random state)\n",
        "* using GridSearchCV - find the best parameters for the models (by F1 score) and use it in the next tasks\n",
        "* make several plots to address the dependence between F1 score and parameters\n",
        "* plot confusion matrix for train and test samples\n",
        "* compute some relevant metrics for test sample (useful to check the seminars 5 and 6, use sklearn) \n",
        "* make conclusions about the performance of your models\n"
      ]
    },
    {
      "cell_type": "markdown",
      "source": [
        "В рамках данного задания я выбрала следующих авторов: Пушкин и Лермонтов. В принципе, оценить сбалансированность классов можно было и без кода, с учетом того, что нам известны пропорции: $5k:3k$, то есть класс Пушкина больше класса Лермонтова в $1,(6)$ раз, что является не очень хорошим показателем в контексте сбалансированности. Однако по данным пропорциям это лучший вариант, который мы можем рассмотреть.   \n",
        "Код расчетов тем не менее приведу: "
      ],
      "metadata": {
        "id": "asAVvl-j0BzA"
      }
    },
    {
      "cell_type": "code",
      "execution_count": 29,
      "metadata": {
        "id": "XZUP1HqFDvZL",
        "colab": {
          "base_uri": "https://localhost:8080/",
          "height": 658
        },
        "outputId": "aae76f8f-e0c8-4fa8-8fbc-3f3425476565"
      },
      "outputs": [
        {
          "output_type": "stream",
          "name": "stdout",
          "text": [
            "1.6666666666666667\n"
          ]
        },
        {
          "output_type": "execute_result",
          "data": {
            "text/plain": [
              "                                                sentence     author  \\\n",
              "0      Долго смотрел я издали на сельский дом, опять ...     Пушкин   \n",
              "1      Пятнадцать возов были подвезены на лошадях в б...     Пушкин   \n",
              "2      Я последовал его совету и, поужинав с большим ...     Пушкин   \n",
              "3      Господские крестьяне взбунтовались; иноверцы и...     Пушкин   \n",
              "4      Губернатор, измученный болезнию, от которой он...     Пушкин   \n",
              "...                                                  ...        ...   \n",
              "61995  - Держу пятьдесят рублей  против  пяти,  что  ...  Лермонтов   \n",
              "61996  - продолжал он, - даю вам честное,  благородно...  Лермонтов   \n",
              "61997  в воскресенье ты пойдешь в церковь без новой л...  Лермонтов   \n",
              "61998  Когда он опустился на скамью, то прямой стан е...  Лермонтов   \n",
              "61999  Штабс-капитан вошел в комнату в то время, когд...  Лермонтов   \n",
              "\n",
              "                                           lemmatization  \\\n",
              "0      [долго, смотреть, издали, сельский, дом, я, по...   \n",
              "1      [пятнадцать, воз, подвезти, лошадь, близкий, р...   \n",
              "2      [последовать, совет, поужинать, больший, аппет...   \n",
              "3      [господский, крестьянин, взбунтоваться, иновер...   \n",
              "4      [губернатор, измученный, болезние, который, ум...   \n",
              "...                                                  ...   \n",
              "61995  [дерзить, пятьдесят, рубль, против, пять, пист...   \n",
              "61996  [продолжать, давать, честной, благородный, сло...   \n",
              "61997        [воскресение, пойти, церковь, новый, лента]   \n",
              "61998  [опуститься, скамья, прямой, стан, согнуться, ...   \n",
              "61999  [штабс, капитан, войти, комната, время, надева...   \n",
              "\n",
              "                                            bag_of_words  \\\n",
              "0      [0, 0, 0, 0, 0, 0, 0, 0, 0, 0, 0, 0, 0, 0, 0, ...   \n",
              "1      [0, 0, 0, 0, 0, 0, 0, 0, 0, 0, 0, 0, 0, 0, 1, ...   \n",
              "2      [0, 0, 0, 0, 0, 0, 0, 0, 0, 0, 0, 0, 0, 0, 0, ...   \n",
              "3      [0, 0, 0, 0, 0, 0, 0, 0, 0, 0, 0, 0, 0, 0, 0, ...   \n",
              "4      [0, 0, 0, 0, 0, 0, 0, 0, 0, 0, 0, 0, 0, 0, 0, ...   \n",
              "...                                                  ...   \n",
              "61995  [0, 0, 0, 0, 0, 0, 0, 0, 0, 0, 0, 0, 0, 0, 0, ...   \n",
              "61996  [0, 0, 0, 0, 0, 0, 0, 0, 0, 0, 0, 0, 0, 0, 0, ...   \n",
              "61997  [0, 0, 0, 0, 0, 0, 0, 0, 0, 0, 0, 0, 0, 0, 0, ...   \n",
              "61998  [0, 0, 0, 0, 0, 0, 0, 0, 0, 0, 0, 0, 0, 0, 0, ...   \n",
              "61999  [0, 0, 0, 0, 0, 0, 0, 0, 0, 0, 0, 0, 0, 0, 0, ...   \n",
              "\n",
              "                                                   tfidf  \n",
              "0      [0.0, 0.0, 0.0, 0.0, 0.0, 0.0, 0.0, 0.0, 0.0, ...  \n",
              "1      [0.0, 0.0, 0.0, 0.0, 0.0, 0.0, 0.0, 0.0, 0.0, ...  \n",
              "2      [0.0, 0.0, 0.0, 0.0, 0.0, 0.0, 0.0, 0.0, 0.0, ...  \n",
              "3      [0.0, 0.0, 0.0, 0.0, 0.0, 0.0, 0.0, 0.0, 0.0, ...  \n",
              "4      [0.0, 0.0, 0.0, 0.0, 0.0, 0.0, 0.0, 0.0, 0.0, ...  \n",
              "...                                                  ...  \n",
              "61995  [0.0, 0.0, 0.0, 0.0, 0.0, 0.0, 0.0, 0.0, 0.0, ...  \n",
              "61996  [0.0, 0.0, 0.0, 0.0, 0.0, 0.0, 0.0, 0.0, 0.0, ...  \n",
              "61997  [0.0, 0.0, 0.0, 0.0, 0.0, 0.0, 0.0, 0.0, 0.0, ...  \n",
              "61998  [0.0, 0.0, 0.0, 0.0, 0.0, 0.0, 0.0, 0.0, 0.0, ...  \n",
              "61999  [0.0, 0.0, 0.0, 0.0, 0.0, 0.0, 0.0, 0.0, 0.0, ...  \n",
              "\n",
              "[8000 rows x 5 columns]"
            ],
            "text/html": [
              "\n",
              "  <div id=\"df-bb595484-483f-4901-ad02-875bd5158933\">\n",
              "    <div class=\"colab-df-container\">\n",
              "      <div>\n",
              "<style scoped>\n",
              "    .dataframe tbody tr th:only-of-type {\n",
              "        vertical-align: middle;\n",
              "    }\n",
              "\n",
              "    .dataframe tbody tr th {\n",
              "        vertical-align: top;\n",
              "    }\n",
              "\n",
              "    .dataframe thead th {\n",
              "        text-align: right;\n",
              "    }\n",
              "</style>\n",
              "<table border=\"1\" class=\"dataframe\">\n",
              "  <thead>\n",
              "    <tr style=\"text-align: right;\">\n",
              "      <th></th>\n",
              "      <th>sentence</th>\n",
              "      <th>author</th>\n",
              "      <th>lemmatization</th>\n",
              "      <th>bag_of_words</th>\n",
              "      <th>tfidf</th>\n",
              "    </tr>\n",
              "  </thead>\n",
              "  <tbody>\n",
              "    <tr>\n",
              "      <th>0</th>\n",
              "      <td>Долго смотрел я издали на сельский дом, опять ...</td>\n",
              "      <td>Пушкин</td>\n",
              "      <td>[долго, смотреть, издали, сельский, дом, я, по...</td>\n",
              "      <td>[0, 0, 0, 0, 0, 0, 0, 0, 0, 0, 0, 0, 0, 0, 0, ...</td>\n",
              "      <td>[0.0, 0.0, 0.0, 0.0, 0.0, 0.0, 0.0, 0.0, 0.0, ...</td>\n",
              "    </tr>\n",
              "    <tr>\n",
              "      <th>1</th>\n",
              "      <td>Пятнадцать возов были подвезены на лошадях в б...</td>\n",
              "      <td>Пушкин</td>\n",
              "      <td>[пятнадцать, воз, подвезти, лошадь, близкий, р...</td>\n",
              "      <td>[0, 0, 0, 0, 0, 0, 0, 0, 0, 0, 0, 0, 0, 0, 1, ...</td>\n",
              "      <td>[0.0, 0.0, 0.0, 0.0, 0.0, 0.0, 0.0, 0.0, 0.0, ...</td>\n",
              "    </tr>\n",
              "    <tr>\n",
              "      <th>2</th>\n",
              "      <td>Я последовал его совету и, поужинав с большим ...</td>\n",
              "      <td>Пушкин</td>\n",
              "      <td>[последовать, совет, поужинать, больший, аппет...</td>\n",
              "      <td>[0, 0, 0, 0, 0, 0, 0, 0, 0, 0, 0, 0, 0, 0, 0, ...</td>\n",
              "      <td>[0.0, 0.0, 0.0, 0.0, 0.0, 0.0, 0.0, 0.0, 0.0, ...</td>\n",
              "    </tr>\n",
              "    <tr>\n",
              "      <th>3</th>\n",
              "      <td>Господские крестьяне взбунтовались; иноверцы и...</td>\n",
              "      <td>Пушкин</td>\n",
              "      <td>[господский, крестьянин, взбунтоваться, иновер...</td>\n",
              "      <td>[0, 0, 0, 0, 0, 0, 0, 0, 0, 0, 0, 0, 0, 0, 0, ...</td>\n",
              "      <td>[0.0, 0.0, 0.0, 0.0, 0.0, 0.0, 0.0, 0.0, 0.0, ...</td>\n",
              "    </tr>\n",
              "    <tr>\n",
              "      <th>4</th>\n",
              "      <td>Губернатор, измученный болезнию, от которой он...</td>\n",
              "      <td>Пушкин</td>\n",
              "      <td>[губернатор, измученный, болезние, который, ум...</td>\n",
              "      <td>[0, 0, 0, 0, 0, 0, 0, 0, 0, 0, 0, 0, 0, 0, 0, ...</td>\n",
              "      <td>[0.0, 0.0, 0.0, 0.0, 0.0, 0.0, 0.0, 0.0, 0.0, ...</td>\n",
              "    </tr>\n",
              "    <tr>\n",
              "      <th>...</th>\n",
              "      <td>...</td>\n",
              "      <td>...</td>\n",
              "      <td>...</td>\n",
              "      <td>...</td>\n",
              "      <td>...</td>\n",
              "    </tr>\n",
              "    <tr>\n",
              "      <th>61995</th>\n",
              "      <td>- Держу пятьдесят рублей  против  пяти,  что  ...</td>\n",
              "      <td>Лермонтов</td>\n",
              "      <td>[дерзить, пятьдесят, рубль, против, пять, пист...</td>\n",
              "      <td>[0, 0, 0, 0, 0, 0, 0, 0, 0, 0, 0, 0, 0, 0, 0, ...</td>\n",
              "      <td>[0.0, 0.0, 0.0, 0.0, 0.0, 0.0, 0.0, 0.0, 0.0, ...</td>\n",
              "    </tr>\n",
              "    <tr>\n",
              "      <th>61996</th>\n",
              "      <td>- продолжал он, - даю вам честное,  благородно...</td>\n",
              "      <td>Лермонтов</td>\n",
              "      <td>[продолжать, давать, честной, благородный, сло...</td>\n",
              "      <td>[0, 0, 0, 0, 0, 0, 0, 0, 0, 0, 0, 0, 0, 0, 0, ...</td>\n",
              "      <td>[0.0, 0.0, 0.0, 0.0, 0.0, 0.0, 0.0, 0.0, 0.0, ...</td>\n",
              "    </tr>\n",
              "    <tr>\n",
              "      <th>61997</th>\n",
              "      <td>в воскресенье ты пойдешь в церковь без новой л...</td>\n",
              "      <td>Лермонтов</td>\n",
              "      <td>[воскресение, пойти, церковь, новый, лента]</td>\n",
              "      <td>[0, 0, 0, 0, 0, 0, 0, 0, 0, 0, 0, 0, 0, 0, 0, ...</td>\n",
              "      <td>[0.0, 0.0, 0.0, 0.0, 0.0, 0.0, 0.0, 0.0, 0.0, ...</td>\n",
              "    </tr>\n",
              "    <tr>\n",
              "      <th>61998</th>\n",
              "      <td>Когда он опустился на скамью, то прямой стан е...</td>\n",
              "      <td>Лермонтов</td>\n",
              "      <td>[опуститься, скамья, прямой, стан, согнуться, ...</td>\n",
              "      <td>[0, 0, 0, 0, 0, 0, 0, 0, 0, 0, 0, 0, 0, 0, 0, ...</td>\n",
              "      <td>[0.0, 0.0, 0.0, 0.0, 0.0, 0.0, 0.0, 0.0, 0.0, ...</td>\n",
              "    </tr>\n",
              "    <tr>\n",
              "      <th>61999</th>\n",
              "      <td>Штабс-капитан вошел в комнату в то время, когд...</td>\n",
              "      <td>Лермонтов</td>\n",
              "      <td>[штабс, капитан, войти, комната, время, надева...</td>\n",
              "      <td>[0, 0, 0, 0, 0, 0, 0, 0, 0, 0, 0, 0, 0, 0, 0, ...</td>\n",
              "      <td>[0.0, 0.0, 0.0, 0.0, 0.0, 0.0, 0.0, 0.0, 0.0, ...</td>\n",
              "    </tr>\n",
              "  </tbody>\n",
              "</table>\n",
              "<p>8000 rows × 5 columns</p>\n",
              "</div>\n",
              "      <button class=\"colab-df-convert\" onclick=\"convertToInteractive('df-bb595484-483f-4901-ad02-875bd5158933')\"\n",
              "              title=\"Convert this dataframe to an interactive table.\"\n",
              "              style=\"display:none;\">\n",
              "        \n",
              "  <svg xmlns=\"http://www.w3.org/2000/svg\" height=\"24px\"viewBox=\"0 0 24 24\"\n",
              "       width=\"24px\">\n",
              "    <path d=\"M0 0h24v24H0V0z\" fill=\"none\"/>\n",
              "    <path d=\"M18.56 5.44l.94 2.06.94-2.06 2.06-.94-2.06-.94-.94-2.06-.94 2.06-2.06.94zm-11 1L8.5 8.5l.94-2.06 2.06-.94-2.06-.94L8.5 2.5l-.94 2.06-2.06.94zm10 10l.94 2.06.94-2.06 2.06-.94-2.06-.94-.94-2.06-.94 2.06-2.06.94z\"/><path d=\"M17.41 7.96l-1.37-1.37c-.4-.4-.92-.59-1.43-.59-.52 0-1.04.2-1.43.59L10.3 9.45l-7.72 7.72c-.78.78-.78 2.05 0 2.83L4 21.41c.39.39.9.59 1.41.59.51 0 1.02-.2 1.41-.59l7.78-7.78 2.81-2.81c.8-.78.8-2.07 0-2.86zM5.41 20L4 18.59l7.72-7.72 1.47 1.35L5.41 20z\"/>\n",
              "  </svg>\n",
              "      </button>\n",
              "      \n",
              "  <style>\n",
              "    .colab-df-container {\n",
              "      display:flex;\n",
              "      flex-wrap:wrap;\n",
              "      gap: 12px;\n",
              "    }\n",
              "\n",
              "    .colab-df-convert {\n",
              "      background-color: #E8F0FE;\n",
              "      border: none;\n",
              "      border-radius: 50%;\n",
              "      cursor: pointer;\n",
              "      display: none;\n",
              "      fill: #1967D2;\n",
              "      height: 32px;\n",
              "      padding: 0 0 0 0;\n",
              "      width: 32px;\n",
              "    }\n",
              "\n",
              "    .colab-df-convert:hover {\n",
              "      background-color: #E2EBFA;\n",
              "      box-shadow: 0px 1px 2px rgba(60, 64, 67, 0.3), 0px 1px 3px 1px rgba(60, 64, 67, 0.15);\n",
              "      fill: #174EA6;\n",
              "    }\n",
              "\n",
              "    [theme=dark] .colab-df-convert {\n",
              "      background-color: #3B4455;\n",
              "      fill: #D2E3FC;\n",
              "    }\n",
              "\n",
              "    [theme=dark] .colab-df-convert:hover {\n",
              "      background-color: #434B5C;\n",
              "      box-shadow: 0px 1px 3px 1px rgba(0, 0, 0, 0.15);\n",
              "      filter: drop-shadow(0px 1px 2px rgba(0, 0, 0, 0.3));\n",
              "      fill: #FFFFFF;\n",
              "    }\n",
              "  </style>\n",
              "\n",
              "      <script>\n",
              "        const buttonEl =\n",
              "          document.querySelector('#df-bb595484-483f-4901-ad02-875bd5158933 button.colab-df-convert');\n",
              "        buttonEl.style.display =\n",
              "          google.colab.kernel.accessAllowed ? 'block' : 'none';\n",
              "\n",
              "        async function convertToInteractive(key) {\n",
              "          const element = document.querySelector('#df-bb595484-483f-4901-ad02-875bd5158933');\n",
              "          const dataTable =\n",
              "            await google.colab.kernel.invokeFunction('convertToInteractive',\n",
              "                                                     [key], {});\n",
              "          if (!dataTable) return;\n",
              "\n",
              "          const docLinkHtml = 'Like what you see? Visit the ' +\n",
              "            '<a target=\"_blank\" href=https://colab.research.google.com/notebooks/data_table.ipynb>data table notebook</a>'\n",
              "            + ' to learn more about interactive tables.';\n",
              "          element.innerHTML = '';\n",
              "          dataTable['output_type'] = 'display_data';\n",
              "          await google.colab.output.renderOutput(dataTable, element);\n",
              "          const docLink = document.createElement('div');\n",
              "          docLink.innerHTML = docLinkHtml;\n",
              "          element.appendChild(docLink);\n",
              "        }\n",
              "      </script>\n",
              "    </div>\n",
              "  </div>\n",
              "  "
            ]
          },
          "metadata": {},
          "execution_count": 29
        }
      ],
      "source": [
        "# Формируем дополнительный датасет для выбранных авторов.\n",
        "dataset_bin = dataset[(dataset[\"author\"] == \"Пушкин\") | (dataset[\"author\"] == \"Лермонтов\")]\n",
        "first = sum(dataset_bin[\"author\"] == \"Пушкин\")\n",
        "second = sum(dataset_bin[\"author\"] == \"Лермонтов\")\n",
        "print(max(first, second) / min(first, second))\n",
        "\n",
        "dataset_bin"
      ]
    },
    {
      "cell_type": "code",
      "source": [
        "# Будем считать, Пушкин - \"положительный\" класс, а Лермонтов - \"негативный\".\n",
        "old_classes = [(dataset_bin[\"author\"] == \"Пушкин\") + 0]\n",
        "y = np.array([-1, 1])[tuple(old_classes)]\n",
        "X = np.vstack(dataset_bin[\"tfidf\"])\n",
        "\n",
        "X_train, X_test, y_train, y_test = train_test_split(X, y, test_size = 0.3, random_state = 8)"
      ],
      "metadata": {
        "id": "aiBegiep3xT3"
      },
      "execution_count": 30,
      "outputs": []
    },
    {
      "cell_type": "markdown",
      "source": [
        "Теперь используем $GridSearchCV$ для поиска наилучших параметров:"
      ],
      "metadata": {
        "id": "wj-uDAXw2fw4"
      }
    },
    {
      "cell_type": "code",
      "source": [
        "from sklearn.model_selection import GridSearchCV\n",
        "from sklearn.svm import SVC"
      ],
      "metadata": {
        "id": "5A6qL6ethCKm"
      },
      "execution_count": 31,
      "outputs": []
    },
    {
      "cell_type": "code",
      "source": [
        "# Для библиотечной модели SVM.\n",
        "parameters = {'kernel':('linear', 'rbf', 'poly'), 'C':[0.001, 0.01, 0.1, 1, 10, 100]}\n",
        "svr = SVC(probability=True, verbose = False)\n",
        "clf = GridSearchCV(svr, parameters, scoring = 'f1', verbose=2, cv=2)\n",
        "clf.fit(X_train, y_train)\n",
        "print(clf.best_params_)"
      ],
      "metadata": {
        "id": "RzFeMZac2k2n",
        "colab": {
          "base_uri": "https://localhost:8080/"
        },
        "outputId": "755fcfef-edf3-4c57-ed55-0c5ef362e6fd"
      },
      "execution_count": 32,
      "outputs": [
        {
          "output_type": "stream",
          "name": "stdout",
          "text": [
            "Fitting 2 folds for each of 18 candidates, totalling 36 fits\n",
            "[CV] END .............................C=0.001, kernel=linear; total time=  11.7s\n",
            "[CV] END .............................C=0.001, kernel=linear; total time=  12.8s\n",
            "[CV] END ................................C=0.001, kernel=rbf; total time=  13.2s\n",
            "[CV] END ................................C=0.001, kernel=rbf; total time=   9.7s\n",
            "[CV] END ...............................C=0.001, kernel=poly; total time=   8.2s\n",
            "[CV] END ...............................C=0.001, kernel=poly; total time=   7.8s\n",
            "[CV] END ..............................C=0.01, kernel=linear; total time=   7.5s\n",
            "[CV] END ..............................C=0.01, kernel=linear; total time=   7.3s\n",
            "[CV] END .................................C=0.01, kernel=rbf; total time=  10.3s\n",
            "[CV] END .................................C=0.01, kernel=rbf; total time=  10.5s\n",
            "[CV] END ................................C=0.01, kernel=poly; total time=   8.7s\n",
            "[CV] END ................................C=0.01, kernel=poly; total time=   8.6s\n",
            "[CV] END ...............................C=0.1, kernel=linear; total time=   7.4s\n",
            "[CV] END ...............................C=0.1, kernel=linear; total time=   9.6s\n",
            "[CV] END ..................................C=0.1, kernel=rbf; total time=  10.7s\n",
            "[CV] END ..................................C=0.1, kernel=rbf; total time=  10.6s\n",
            "[CV] END .................................C=0.1, kernel=poly; total time=   8.8s\n",
            "[CV] END .................................C=0.1, kernel=poly; total time=   8.9s\n",
            "[CV] END .................................C=1, kernel=linear; total time=   7.0s\n",
            "[CV] END .................................C=1, kernel=linear; total time=   6.7s\n",
            "[CV] END ....................................C=1, kernel=rbf; total time=  10.5s\n",
            "[CV] END ....................................C=1, kernel=rbf; total time=  11.2s\n",
            "[CV] END ...................................C=1, kernel=poly; total time=   8.8s\n",
            "[CV] END ...................................C=1, kernel=poly; total time=   9.0s\n",
            "[CV] END ................................C=10, kernel=linear; total time=   7.8s\n",
            "[CV] END ................................C=10, kernel=linear; total time=   8.0s\n",
            "[CV] END ...................................C=10, kernel=rbf; total time=  11.0s\n",
            "[CV] END ...................................C=10, kernel=rbf; total time=  11.4s\n",
            "[CV] END ..................................C=10, kernel=poly; total time=   8.9s\n",
            "[CV] END ..................................C=10, kernel=poly; total time=   9.8s\n",
            "[CV] END ...............................C=100, kernel=linear; total time=  32.0s\n",
            "[CV] END ...............................C=100, kernel=linear; total time=  32.9s\n",
            "[CV] END ..................................C=100, kernel=rbf; total time=  11.1s\n",
            "[CV] END ..................................C=100, kernel=rbf; total time=  11.2s\n",
            "[CV] END .................................C=100, kernel=poly; total time=   9.0s\n",
            "[CV] END .................................C=100, kernel=poly; total time=   8.9s\n",
            "{'C': 1, 'kernel': 'rbf'}\n"
          ]
        }
      ]
    },
    {
      "cell_type": "code",
      "source": [
        "# Для собственной модели.\n",
        "parameters = {'learning_rate': [0.1, 0.4, 0.7], 'beta': [0, 0.1, 1.0], 'gamma': [0, 0.1, 1.0, 2.0]}\n",
        "clf = GridSearchCV(Logit(), parameters, scoring='f1', verbose=2, cv=2)\n",
        "clf.fit(X_train, y_train)\n",
        "print(clf.best_params_)"
      ],
      "metadata": {
        "id": "PDx6hzwRBBYy",
        "colab": {
          "base_uri": "https://localhost:8080/"
        },
        "outputId": "5174a48e-f9f1-49af-9962-d76e279dcdbe"
      },
      "execution_count": 33,
      "outputs": [
        {
          "output_type": "stream",
          "name": "stdout",
          "text": [
            "Fitting 2 folds for each of 36 candidates, totalling 72 fits\n",
            "[CV] END .................beta=0, gamma=0, learning_rate=0.1; total time=   2.2s\n",
            "[CV] END .................beta=0, gamma=0, learning_rate=0.1; total time=   2.1s\n",
            "[CV] END .................beta=0, gamma=0, learning_rate=0.4; total time=   2.1s\n",
            "[CV] END .................beta=0, gamma=0, learning_rate=0.4; total time=   2.1s\n",
            "[CV] END .................beta=0, gamma=0, learning_rate=0.7; total time=   2.0s\n",
            "[CV] END .................beta=0, gamma=0, learning_rate=0.7; total time=   2.1s\n",
            "[CV] END ...............beta=0, gamma=0.1, learning_rate=0.1; total time=   2.1s\n",
            "[CV] END ...............beta=0, gamma=0.1, learning_rate=0.1; total time=   2.1s\n",
            "[CV] END ...............beta=0, gamma=0.1, learning_rate=0.4; total time=   2.0s\n",
            "[CV] END ...............beta=0, gamma=0.1, learning_rate=0.4; total time=   2.0s\n",
            "[CV] END ...............beta=0, gamma=0.1, learning_rate=0.7; total time=   2.1s\n",
            "[CV] END ...............beta=0, gamma=0.1, learning_rate=0.7; total time=   2.0s\n",
            "[CV] END ...............beta=0, gamma=1.0, learning_rate=0.1; total time=   2.0s\n",
            "[CV] END ...............beta=0, gamma=1.0, learning_rate=0.1; total time=   2.0s\n",
            "[CV] END ...............beta=0, gamma=1.0, learning_rate=0.4; total time=   2.0s\n",
            "[CV] END ...............beta=0, gamma=1.0, learning_rate=0.4; total time=   2.0s\n",
            "[CV] END ...............beta=0, gamma=1.0, learning_rate=0.7; total time=   2.1s\n",
            "[CV] END ...............beta=0, gamma=1.0, learning_rate=0.7; total time=   2.1s\n",
            "[CV] END ...............beta=0, gamma=2.0, learning_rate=0.1; total time=   2.1s\n",
            "[CV] END ...............beta=0, gamma=2.0, learning_rate=0.1; total time=   2.1s\n",
            "[CV] END ...............beta=0, gamma=2.0, learning_rate=0.4; total time=   2.1s\n",
            "[CV] END ...............beta=0, gamma=2.0, learning_rate=0.4; total time=   2.1s\n",
            "[CV] END ...............beta=0, gamma=2.0, learning_rate=0.7; total time=   2.1s\n",
            "[CV] END ...............beta=0, gamma=2.0, learning_rate=0.7; total time=   2.0s\n",
            "[CV] END ...............beta=0.1, gamma=0, learning_rate=0.1; total time=   0.6s\n",
            "[CV] END ...............beta=0.1, gamma=0, learning_rate=0.1; total time=   0.6s\n",
            "[CV] END ...............beta=0.1, gamma=0, learning_rate=0.4; total time=   0.2s\n",
            "[CV] END ...............beta=0.1, gamma=0, learning_rate=0.4; total time=   0.2s\n",
            "[CV] END ...............beta=0.1, gamma=0, learning_rate=0.7; total time=   0.1s\n",
            "[CV] END ...............beta=0.1, gamma=0, learning_rate=0.7; total time=   0.1s\n",
            "[CV] END .............beta=0.1, gamma=0.1, learning_rate=0.1; total time=   2.1s\n",
            "[CV] END .............beta=0.1, gamma=0.1, learning_rate=0.1; total time=   2.1s\n",
            "[CV] END .............beta=0.1, gamma=0.1, learning_rate=0.4; total time=   2.1s\n",
            "[CV] END .............beta=0.1, gamma=0.1, learning_rate=0.4; total time=   2.0s\n",
            "[CV] END .............beta=0.1, gamma=0.1, learning_rate=0.7; total time=   2.1s\n",
            "[CV] END .............beta=0.1, gamma=0.1, learning_rate=0.7; total time=   2.0s\n",
            "[CV] END .............beta=0.1, gamma=1.0, learning_rate=0.1; total time=   2.0s\n",
            "[CV] END .............beta=0.1, gamma=1.0, learning_rate=0.1; total time=   2.0s\n",
            "[CV] END .............beta=0.1, gamma=1.0, learning_rate=0.4; total time=   2.0s\n",
            "[CV] END .............beta=0.1, gamma=1.0, learning_rate=0.4; total time=   2.0s\n",
            "[CV] END .............beta=0.1, gamma=1.0, learning_rate=0.7; total time=   2.0s\n",
            "[CV] END .............beta=0.1, gamma=1.0, learning_rate=0.7; total time=   2.0s\n",
            "[CV] END .............beta=0.1, gamma=2.0, learning_rate=0.1; total time=   2.1s\n",
            "[CV] END .............beta=0.1, gamma=2.0, learning_rate=0.1; total time=   2.0s\n",
            "[CV] END .............beta=0.1, gamma=2.0, learning_rate=0.4; total time=   2.0s\n",
            "[CV] END .............beta=0.1, gamma=2.0, learning_rate=0.4; total time=   2.1s\n",
            "[CV] END .............beta=0.1, gamma=2.0, learning_rate=0.7; total time=   1.9s\n",
            "[CV] END .............beta=0.1, gamma=2.0, learning_rate=0.7; total time=   2.1s\n",
            "[CV] END ...............beta=1.0, gamma=0, learning_rate=0.1; total time=   0.1s\n",
            "[CV] END ...............beta=1.0, gamma=0, learning_rate=0.1; total time=   0.1s\n",
            "[CV] END ...............beta=1.0, gamma=0, learning_rate=0.4; total time=   0.0s\n",
            "[CV] END ...............beta=1.0, gamma=0, learning_rate=0.4; total time=   0.0s\n",
            "[CV] END ...............beta=1.0, gamma=0, learning_rate=0.7; total time=   0.1s\n",
            "[CV] END ...............beta=1.0, gamma=0, learning_rate=0.7; total time=   0.0s\n",
            "[CV] END .............beta=1.0, gamma=0.1, learning_rate=0.1; total time=   2.0s\n",
            "[CV] END .............beta=1.0, gamma=0.1, learning_rate=0.1; total time=   1.9s\n",
            "[CV] END .............beta=1.0, gamma=0.1, learning_rate=0.4; total time=   2.0s\n",
            "[CV] END .............beta=1.0, gamma=0.1, learning_rate=0.4; total time=   2.0s\n",
            "[CV] END .............beta=1.0, gamma=0.1, learning_rate=0.7; total time=   2.1s\n",
            "[CV] END .............beta=1.0, gamma=0.1, learning_rate=0.7; total time=   2.1s\n",
            "[CV] END .............beta=1.0, gamma=1.0, learning_rate=0.1; total time=   1.9s\n",
            "[CV] END .............beta=1.0, gamma=1.0, learning_rate=0.1; total time=   2.0s\n",
            "[CV] END .............beta=1.0, gamma=1.0, learning_rate=0.4; total time=   2.0s\n",
            "[CV] END .............beta=1.0, gamma=1.0, learning_rate=0.4; total time=   2.1s\n",
            "[CV] END .............beta=1.0, gamma=1.0, learning_rate=0.7; total time=   2.0s\n",
            "[CV] END .............beta=1.0, gamma=1.0, learning_rate=0.7; total time=   2.0s\n",
            "[CV] END .............beta=1.0, gamma=2.0, learning_rate=0.1; total time=   2.0s\n",
            "[CV] END .............beta=1.0, gamma=2.0, learning_rate=0.1; total time=   2.1s\n",
            "[CV] END .............beta=1.0, gamma=2.0, learning_rate=0.4; total time=   2.1s\n",
            "[CV] END .............beta=1.0, gamma=2.0, learning_rate=0.4; total time=   2.0s\n",
            "[CV] END .............beta=1.0, gamma=2.0, learning_rate=0.7; total time=   2.1s\n",
            "[CV] END .............beta=1.0, gamma=2.0, learning_rate=0.7; total time=   2.1s\n",
            "{'beta': 0.1, 'gamma': 1.0, 'learning_rate': 0.4}\n"
          ]
        }
      ]
    },
    {
      "cell_type": "markdown",
      "source": [
        "Таким образом, для $SVC$ лучшие параметры: $RBF$ и $C = 1.0$;   \n",
        "для $Logit$ лучшие параметры: $β=0, γ=0.1, lr=0.1$."
      ],
      "metadata": {
        "id": "945oOGWNYd-a"
      }
    },
    {
      "cell_type": "markdown",
      "source": [
        "Прошу прощения, позаимствую код из семинара №6:"
      ],
      "metadata": {
        "id": "AylPJQlaYbFp"
      }
    },
    {
      "cell_type": "code",
      "source": [
        "from sklearn.metrics import precision_score, recall_score, confusion_matrix\n",
        "\n",
        "def show_results(test_y, pred, proba, title):\n",
        "    print(\"Precision: {0:6.2f}\".format(precision_score(test_y, pred, average='macro')))\n",
        "    print(\"Recall: {0:6.2f}\".format(recall_score(test_y, pred, average='macro')))\n",
        "    print(\"F1-measure: {0:6.2f}\".format(f1_score(test_y, pred, average='macro')))\n",
        "    print(\"Accuracy: {0:6.2f}\".format(accuracy_score(test_y, pred)))\n",
        "    print(\"ROC-AUC  =  {0:6.2f}\".format(roc_auc_score(test_y, proba[:,1]),))\n",
        "    print('\\n')\n",
        "    labels = ['negative','positive']\n",
        "\n",
        "    #classification_report\n",
        "    sns.heatmap(data=confusion_matrix(test_y, pred), annot=True, fmt=\"d\", cbar=False, xticklabels=labels, yticklabels=labels)\n",
        "    plt.title(title)\n",
        "    plt.show()"
      ],
      "metadata": {
        "id": "T2oUJa5YXo-1"
      },
      "execution_count": 34,
      "outputs": []
    },
    {
      "cell_type": "markdown",
      "source": [
        "Теперь построим $confusion$ матрицы на тестовых и тренировочных данных, а также рассчитаем метрики с учетом найденных наилучших параметров. Для модели SVC ($linear$ ядро):"
      ],
      "metadata": {
        "id": "Oo8wndkhYlZs"
      }
    },
    {
      "cell_type": "code",
      "source": [
        "clf = SVC(probability = True, kernel = 'rbf', C = 1.0)\n",
        "clf.fit(X_train, y_train)\n",
        "# Для тестового набора.\n",
        "pred = clf.predict(X_test)\n",
        "proba  = clf.predict_proba(X_test)\n",
        "show_results(y_test, pred, proba, \"Confusion matrix SVC test\")"
      ],
      "metadata": {
        "id": "LtL-2o07YjDf",
        "colab": {
          "base_uri": "https://localhost:8080/",
          "height": 405
        },
        "outputId": "5c724fd3-b738-4344-df94-6e8e611a8665"
      },
      "execution_count": 35,
      "outputs": [
        {
          "output_type": "stream",
          "name": "stdout",
          "text": [
            "Precision:   0.71\n",
            "Recall:   0.68\n",
            "F1-measure:   0.69\n",
            "Accuracy:   0.73\n",
            "ROC-AUC  =    0.75\n",
            "\n",
            "\n"
          ]
        },
        {
          "output_type": "display_data",
          "data": {
            "text/plain": [
              "<Figure size 432x288 with 1 Axes>"
            ],
            "image/png": "[encoded data removed]"
          },
          "metadata": {}
        }
      ]
    },
    {
      "cell_type": "code",
      "source": [
        "# Для тренировочного набора.\n",
        "pred = clf.predict(X_train)\n",
        "proba  = clf.predict_proba(X_train)\n",
        "show_results(y_train, pred, proba, \"Confusion matrix SVC train\")"
      ],
      "metadata": {
        "id": "BE3zA1dZmd8z",
        "colab": {
          "base_uri": "https://localhost:8080/",
          "height": 405
        },
        "outputId": "831c218e-71f9-4461-c5fc-13b62c3bb465"
      },
      "execution_count": 36,
      "outputs": [
        {
          "output_type": "stream",
          "name": "stdout",
          "text": [
            "Precision:   0.88\n",
            "Recall:   0.85\n",
            "F1-measure:   0.86\n",
            "Accuracy:   0.87\n",
            "ROC-AUC  =    0.91\n",
            "\n",
            "\n"
          ]
        },
        {
          "output_type": "display_data",
          "data": {
            "text/plain": [
              "<Figure size 432x288 with 1 Axes>"
            ],
            "image/png": "[encoded data removed]"
          },
          "metadata": {}
        }
      ]
    },
    {
      "cell_type": "markdown",
      "source": [
        "Теперь проделаем то же самое для нашей собственной $Logit$ модели. Очень важный момент - по какой-то неведомой причине $GridSearchCV$ выдает в качестве набора лучших параметров тот, при котором одна из меток никогда не предсказывается для модели. Выглядит это следующим образом:"
      ],
      "metadata": {
        "id": "TTZs3BQhpEfH"
      }
    },
    {
      "cell_type": "code",
      "source": [
        "clf = Logit(0, 0.1, learning_rate = 0.1)\n",
        "clf.fit(X_train, y_train)\n",
        "# Для тестового набора.\n",
        "pred = clf.predict(X_test)\n",
        "proba = clf.predict_proba(X_test)\n",
        "show_results(y_test, pred, proba, \"Confusion matrix Logit test\")"
      ],
      "metadata": {
        "id": "RdlPOoCKpJy8",
        "colab": {
          "base_uri": "https://localhost:8080/",
          "height": 460
        },
        "outputId": "2cebef74-4646-4119-b21b-562ecfa0ef17"
      },
      "execution_count": 37,
      "outputs": [
        {
          "output_type": "stream",
          "name": "stderr",
          "text": [
            "/usr/local/lib/python3.7/dist-packages/sklearn/metrics/_classification.py:1318: UndefinedMetricWarning: Precision is ill-defined and being set to 0.0 in labels with no predicted samples. Use `zero_division` parameter to control this behavior.\n",
            "  _warn_prf(average, modifier, msg_start, len(result))\n"
          ]
        },
        {
          "output_type": "stream",
          "name": "stdout",
          "text": [
            "Precision:   0.32\n",
            "Recall:   0.50\n",
            "F1-measure:   0.39\n",
            "Accuracy:   0.64\n",
            "ROC-AUC  =    0.49\n",
            "\n",
            "\n"
          ]
        },
        {
          "output_type": "display_data",
          "data": {
            "text/plain": [
              "<Figure size 432x288 with 1 Axes>"
            ],
            "image/png": "[encoded data removed]"
          },
          "metadata": {}
        }
      ]
    },
    {
      "cell_type": "markdown",
      "source": [
        "В $confusion$ матрице в первом столбце стоят нули, как и говорилось выше, метку не удается предсказать. Непонятно, почему $GridSearchCV$ выдал такой результат, учитвая, что показатель $F1-score$ также не является лучшим для всех рассматриваемых вариантов. Например, если задать $β=0,γ=2.0,lr=0.7$, то получатся следующие метрики:"
      ],
      "metadata": {
        "id": "u2njzdewZJV-"
      }
    },
    {
      "cell_type": "code",
      "source": [
        "clf = Logit(0, 2.0, learning_rate = 0.7)\n",
        "clf.fit(X_train, y_train)\n",
        "# Для тестового набора.\n",
        "pred = clf.predict(X_test)\n",
        "proba = clf.predict_proba(X_test)\n",
        "show_results(y_test, pred, proba, \"Confusion matrix Logit test\")"
      ],
      "metadata": {
        "id": "AOhJRUXFgAMG",
        "colab": {
          "base_uri": "https://localhost:8080/",
          "height": 405
        },
        "outputId": "be33f845-a2b0-47b8-8671-1684469dba5a"
      },
      "execution_count": 38,
      "outputs": [
        {
          "output_type": "stream",
          "name": "stdout",
          "text": [
            "Precision:   0.53\n",
            "Recall:   0.52\n",
            "F1-measure:   0.52\n",
            "Accuracy:   0.59\n",
            "ROC-AUC  =    0.53\n",
            "\n",
            "\n"
          ]
        },
        {
          "output_type": "display_data",
          "data": {
            "text/plain": [
              "<Figure size 432x288 with 1 Axes>"
            ],
            "image/png": "[encoded data removed]"
          },
          "metadata": {}
        }
      ]
    },
    {
      "cell_type": "code",
      "source": [
        "# Для тренировочного набора.\n",
        "pred = clf.predict(X_train)\n",
        "proba  = clf.predict_proba(X_train)\n",
        "show_results(y_train, pred, proba, \"Confusion matrix Logit train\")"
      ],
      "metadata": {
        "id": "IToQdlKDunek",
        "colab": {
          "base_uri": "https://localhost:8080/",
          "height": 405
        },
        "outputId": "2aaeb9c3-4b06-471e-9613-f52a919bde19"
      },
      "execution_count": 39,
      "outputs": [
        {
          "output_type": "stream",
          "name": "stdout",
          "text": [
            "Precision:   0.53\n",
            "Recall:   0.53\n",
            "F1-measure:   0.52\n",
            "Accuracy:   0.58\n",
            "ROC-AUC  =    0.54\n",
            "\n",
            "\n"
          ]
        },
        {
          "output_type": "display_data",
          "data": {
            "text/plain": [
              "<Figure size 432x288 with 1 Axes>"
            ],
            "image/png": "[encoded data removed]"
          },
          "metadata": {}
        }
      ]
    },
    {
      "cell_type": "markdown",
      "source": [
        "Учитывая непонятную реакцию $GridSearchCV$ на авторскую модель, будем анализировать результаты по параметрам, которые выдали относительно адекватные значения и смогли спрогнозировать все метки."
      ],
      "metadata": {
        "id": "4hgNKy6ri994"
      }
    },
    {
      "cell_type": "markdown",
      "source": [
        "_Вывод по матрицам и метрикам_: как и ожидалось, библиотечная модель $SVC$ дала более хорошие результаты в сравнении с авторской $Logit$ (хотя для $SVC$ тоже результаты так себе, матрицы не полностью диагональны, а метрики не достигают $0.8$). В случае авторской модели матрицы имеют плохой вид, а метрики не намного превышают $0.5$.   \n",
        "Объяснить не самые хорошие показатели метрик, матриц и работу $GridSearchCV$ можно сравнительно небольшой выборкой данных и несовершенством модели."
      ],
      "metadata": {
        "id": "_JoTmFyq0wz1"
      }
    },
    {
      "cell_type": "markdown",
      "metadata": {
        "id": "5G1kt0qbDvZL"
      },
      "source": [
        "#### 9. [1 point] Analysing ROC AUC\n",
        "\n",
        "It is possible to control the proportion of statistical errors of different types using different thresholds for choosing a class. Plot ROC curves for Logistic Regression and SVC, show the threshold on ROC curve plots. Choose such a threshold that your models have no more than 30% of false positive errors rate. Pay attention to `thresholds` parameter in sklearn roc_curve "
      ]
    },
    {
      "cell_type": "markdown",
      "source": [
        "_Примечание_: в этом номере я буду использовать логистическую регрессию из $sklearn$ (семинариcт дал согласие)."
      ],
      "metadata": {
        "id": "LZETwxejrFGL"
      }
    },
    {
      "cell_type": "code",
      "execution_count": 41,
      "metadata": {
        "id": "BZ2GZ8-uDvZL"
      },
      "outputs": [],
      "source": [
        "from sklearn.linear_model import LogisticRegression\n",
        "from sklearn.metrics import roc_curve\n",
        "\n",
        "# Задаем модели.\n",
        "logistic = LogisticRegression()\n",
        "logistic.fit(X_train, y_train)\n",
        "svc = SVC()\n",
        "svc.fit(X_train, y_train)\n",
        "proba_logistic = logistic.decision_function(X_test)\n",
        "proba_svc = svc.decision_function(X_test)"
      ]
    },
    {
      "cell_type": "code",
      "source": [
        "rate = 0.3\n",
        "\n",
        "def get_fpr(proba, title):\n",
        "    # Обращаю внимание на roc_curve, как и просили.\n",
        "    fpr, tpr, thresholds = roc_curve(y_test, proba)\n",
        "\n",
        "    plt.title(title)\n",
        "    plt.xlabel(\"fpr\")\n",
        "    plt.ylabel(\"tpr\")\n",
        "\n",
        "    # Отображаем кривую ROC.\n",
        "    plt.plot(fpr, tpr, color = colors_list[5])\n",
        "    # Отображаем линию-порог в 30%.\n",
        "    plt.plot([rate, rate], [0.0, 1.0], linestyle = '--', color = colors_list[10])\n",
        "\n",
        "    # Искомое пороговое значение и прогноз на его основе.\n",
        "    threshold = thresholds[np.argmin(np.abs(fpr - rate))]\n",
        "    pred = np.where(proba < threshold, -1, 1)\n",
        "    matrix = confusion_matrix(y_test, pred, labels = [1, -1])\n",
        "    print(f\"{matrix[1, 0] / sum(matrix[1]) * 100}% fpr\")"
      ],
      "metadata": {
        "id": "-RDcJcM52fvr"
      },
      "execution_count": 42,
      "outputs": []
    },
    {
      "cell_type": "code",
      "source": [
        "# Для логистической регрессии.\n",
        "get_fpr(proba_logistic, \"LogisticRegression\")"
      ],
      "metadata": {
        "id": "bn9b83jA4osq",
        "colab": {
          "base_uri": "https://localhost:8080/",
          "height": 318
        },
        "outputId": "0f4df77b-ac3c-4f47-a067-d2be5d9b525c"
      },
      "execution_count": 43,
      "outputs": [
        {
          "output_type": "stream",
          "name": "stdout",
          "text": [
            "30.080367393800227% fpr\n"
          ]
        },
        {
          "output_type": "display_data",
          "data": {
            "text/plain": [
              "<Figure size 432x288 with 1 Axes>"
            ],
            "image/png": "[encoded data removed]"
          },
          "metadata": {}
        }
      ]
    },
    {
      "cell_type": "code",
      "source": [
        "# Для SVC.\n",
        "get_fpr(proba_svc, \"SVC\")"
      ],
      "metadata": {
        "id": "K541NNAzPhFA",
        "colab": {
          "base_uri": "https://localhost:8080/",
          "height": 318
        },
        "outputId": "44709194-f29a-4081-ff26-f9486f95a28c"
      },
      "execution_count": 44,
      "outputs": [
        {
          "output_type": "stream",
          "name": "stdout",
          "text": [
            "29.850746268656714% fpr\n"
          ]
        },
        {
          "output_type": "display_data",
          "data": {
            "text/plain": [
              "<Figure size 432x288 with 1 Axes>"
            ],
            "image/png": "[encoded data removed]"
          },
          "metadata": {}
        }
      ]
    },
    {
      "cell_type": "markdown",
      "metadata": {
        "id": "C-qubaK4DvZM"
      },
      "source": [
        "### Multiclass logit"
      ]
    },
    {
      "cell_type": "markdown",
      "metadata": {
        "id": "yJQone-LDvZM"
      },
      "source": [
        "#### 10. [1 point] Take the One-VS-One classifier (use sklearn) and apply to Logit model (one you've made in the 4th task) in order to get multiclass linear classifier\n",
        "\n",
        "<a href=\"https://scikit-learn.org/stable/modules/generated/sklearn.multiclass.OneVsOneClassifier.html\">OneVsOneClassifier</a>\n",
        "\n",
        "* use the data you got at the previous step for 6 authors\n",
        "* divide the data into train and test samples with 0.7 split rate\n",
        "* using GridSearchCV - find the best parameters for the models (by F1 score)\n",
        "* plot confusion matrix for train and test samples\n",
        "* compute all possible and relevant metrics for test sample (use sklearn)"
      ]
    },
    {
      "cell_type": "code",
      "execution_count": 45,
      "metadata": {
        "id": "M4lR8qJ7DvZM"
      },
      "outputs": [],
      "source": [
        "from sklearn.multiclass import OneVsOneClassifier\n",
        "from sklearn.metrics import make_scorer"
      ]
    },
    {
      "cell_type": "code",
      "source": [
        "# Уточним, какие параметры можно рассматривать.\n",
        "svr = OneVsOneClassifier(Logit(), n_jobs=-1)\n",
        "print(svr.get_params().keys())"
      ],
      "metadata": {
        "id": "WAOAZNOlQhAS",
        "colab": {
          "base_uri": "https://localhost:8080/"
        },
        "outputId": "30b275a1-d362-4b54-8785-e260b4eb04a6"
      },
      "execution_count": 46,
      "outputs": [
        {
          "output_type": "stream",
          "name": "stdout",
          "text": [
            "dict_keys(['estimator__beta', 'estimator__gamma', 'estimator__learning_rate', 'estimator__max_iter', 'estimator__random_state', 'estimator__tolerance', 'estimator', 'n_jobs'])\n"
          ]
        }
      ]
    },
    {
      "cell_type": "code",
      "source": [
        "parameters = {'estimator__learning_rate': [0.1, 0.4, 0.7], 'estimator__beta': [0.0, 0.1, 1.0], 'estimator__gamma': [0.0, 0.1, 1.0]}\n",
        "my_scorer = make_scorer(f1_score, greater_is_better = True, average = 'micro')\n",
        "\n",
        "X_train, X_test, y_train, y_test = train_test_split(np.vstack(dataset[\"tfidf\"]), dataset[\"author\"], test_size = 0.3, random_state = 88)\n",
        "clf = GridSearchCV(svr, parameters, scoring = my_scorer)\n",
        "clf.fit(X_train, y_train)\n",
        "predict = clf.predict(X_test)\n",
        "print('\\n\\n\\nOneVsOne Strategy')\n",
        "print('Best parameters: ', clf.best_params_)\n",
        "print(\"F1 score  = {0:6.2f}\".format(clf.score(X_test, y_test)))"
      ],
      "metadata": {
        "id": "P5NfJXb3Cg8H",
        "colab": {
          "base_uri": "https://localhost:8080/"
        },
        "outputId": "76956f12-fb38-4ba1-9610-44c18f8af68c"
      },
      "execution_count": 47,
      "outputs": [
        {
          "output_type": "stream",
          "name": "stdout",
          "text": [
            "\n",
            "\n",
            "\n",
            "OneVsOne Strategy\n",
            "Best parameters:  {'estimator__beta': 0.0, 'estimator__gamma': 0.1, 'estimator__learning_rate': 0.1}\n",
            "F1 score  =   0.18\n"
          ]
        }
      ]
    },
    {
      "cell_type": "markdown",
      "source": [
        "Очень интересно, что в текущем номере мы получили такие же параметры, как и в 7. Только теперь результат, а именно значение $F1-score$ еще более страшный 🚩   \n",
        "Что с этим делать - не знаю, вроде и нашла, что требовалось, а послевкусие ужасное...\n"
      ],
      "metadata": {
        "id": "vpWiZrIvtD2Z"
      }
    },
    {
      "cell_type": "markdown",
      "source": [
        "Построим $confusion$ матрицы для тестового и тренировочного набора. Немножко модифицирую ранее использовавшуюся функцию с семинара:"
      ],
      "metadata": {
        "id": "eBT4MpN_M31R"
      }
    },
    {
      "cell_type": "code",
      "source": [
        "def show_results(test_y, pred, title):\n",
        "    print(\"Precision: {0:6.2f}\".format(precision_score(test_y, pred, average='micro')))\n",
        "    print(\"Recall: {0:6.2f}\".format(recall_score(test_y, pred, average='micro')))\n",
        "    print(\"F1-measure: {0:6.2f}\".format(f1_score(test_y, pred, average='micro')))\n",
        "    print(\"Accuracy: {0:6.2f}\".format(accuracy_score(test_y, pred)))\n",
        "    print('\\n')\n",
        "    labels = [\"Пушкин\", \"Гоголь\", \"Герцен\", \"Чехов\", \"Тургенев\", \"Лермонтов\"]\n",
        "\n",
        "    #classification_report\n",
        "    sns.heatmap(data=confusion_matrix(test_y, pred), annot=True, fmt=\"d\", cbar=False, xticklabels=labels, yticklabels=labels)\n",
        "    plt.title(title)\n",
        "    plt.show()"
      ],
      "metadata": {
        "id": "6GpcT2uyuo5-"
      },
      "execution_count": 51,
      "outputs": []
    },
    {
      "cell_type": "code",
      "source": [
        "show_results(y_test, predict, \"MulticlassLogit\")"
      ],
      "metadata": {
        "id": "4qdBGkd1M2wM",
        "colab": {
          "base_uri": "https://localhost:8080/",
          "height": 442
        },
        "outputId": "496f6dd6-d473-4398-8750-c6251fb7eaf3"
      },
      "execution_count": 52,
      "outputs": [
        {
          "output_type": "stream",
          "name": "stdout",
          "text": [
            "Precision:   0.18\n",
            "Recall:   0.18\n",
            "F1-measure:   0.18\n",
            "Accuracy:   0.18\n",
            "\n",
            "\n"
          ]
        },
        {
          "output_type": "display_data",
          "data": {
            "text/plain": [
              "<Figure size 432x288 with 1 Axes>"
            ],
            "image/png": "[encoded data removed]"
          },
          "metadata": {}
        }
      ]
    },
    {
      "cell_type": "markdown",
      "source": [
        "Вот, собственно, метрики и матрицы. И то, и другое - очень плохо. Ситуация с нулями в матрице повторилась, то же самое произошло, когда $GridSearchCV$ выдал неверные параметры в качестве наилучших. Предположу, что сейчас аналогичный вариант, однако в связи с очень долгой работой $GridSearchCV$ физически не хватает временных ресурсов для ручного подбора адекватного набора параметров.   \n",
        "Почему такая ситуация в принципе возможна?   \n",
        "1) Несовершенство модели - наиболее очевидный момент. Бедный студент пытался реализовать свой $Logit$ и вроде как с разделением классов он справился достаточно удачно, на реальном наборе данных ситуация оказалась плачевной;    \n",
        "2) Несбалансированность классов: заданные пропорции, а также случайный подбор данных сказался, как мне кажется, на качестве датасета."
      ],
      "metadata": {
        "id": "nP59lUBJvzYu"
      }
    },
    {
      "cell_type": "markdown",
      "source": [
        "Вот как-то так! Спасибо за проверку ♥"
      ],
      "metadata": {
        "id": "tu78s0_bxCDc"
      }
    }
  ],
  "metadata": {
    "colab": {
      "collapsed_sections": [],
      "provenance": []
    },
    "kernelspec": {
      "display_name": "Python 3 (ipykernel)",
      "language": "python",
      "name": "python3"
    },
    "language_info": {
      "codemirror_mode": {
        "name": "ipython",
        "version": 3
      },
      "file_extension": ".py",
      "mimetype": "text/x-python",
      "name": "python",
      "nbconvert_exporter": "python",
      "pygments_lexer": "ipython3",
      "version": "3.9.7"
    }
  },
  "nbformat": 4,
  "nbformat_minor": 0
}