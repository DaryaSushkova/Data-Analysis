{
  "cells": [
    {
      "cell_type": "markdown",
      "metadata": {
        "id": "UUd8TBwF_XPT"
      },
      "source": [
        "# HSE 2022: Mathematical Methods for Data Analysis\n",
        "\n",
        "## Homework 2"
      ]
    },
    {
      "cell_type": "code",
      "execution_count": 240,
      "metadata": {
        "ExecuteTime": {
          "end_time": "2020-09-26T16:48:20.566549Z",
          "start_time": "2020-09-26T16:48:19.893995Z"
        },
        "id": "WEPVe9e5_XPX"
      },
      "outputs": [],
      "source": [
        "import pandas as pd\n",
        "import numpy as np\n",
        "import matplotlib.pyplot as plt\n",
        "import seaborn as sns\n",
        "import sklearn\n",
        "from sklearn import datasets\n",
        "from sklearn.datasets import load_boston\n",
        "from sklearn.model_selection import GridSearchCV\n",
        "from sklearn.model_selection import train_test_split\n",
        "from sklearn.linear_model import Ridge\n",
        "from sklearn.preprocessing import StandardScaler, LabelEncoder\n",
        "from sklearn.linear_model import LinearRegression, Ridge, Lasso, ElasticNet\n",
        "from sklearn.metrics import mean_squared_error, r2_score\n",
        "import statsmodels.api as sm\n",
        "from statsmodels.regression.linear_model import OLSResults\n",
        "from math import sqrt\n",
        "import random\n",
        "import sys\n",
        "\n",
        "import warnings\n",
        "warnings.filterwarnings(\"ignore\")\n",
        "\n",
        "%matplotlib inline\n",
        "\n",
        "sns.set(style=\"darkgrid\")"
      ]
    },
    {
      "cell_type": "markdown",
      "metadata": {
        "id": "aiF_4sFu_XPb"
      },
      "source": [
        "### Data\n",
        "\n",
        "For this homework we use Dataset from seaborn on diamonds prices."
      ]
    },
    {
      "cell_type": "code",
      "execution_count": 241,
      "metadata": {
        "id": "JzQ3OGzv_XPc"
      },
      "outputs": [],
      "source": [
        "data = sns.load_dataset('diamonds')"
      ]
    },
    {
      "cell_type": "code",
      "source": [
        "print(data)"
      ],
      "metadata": {
        "colab": {
          "base_uri": "https://localhost:8080/"
        },
        "id": "bWZUOFRVAZQ0",
        "outputId": "391c1019-4f93-4c29-a909-246a8d95c1ca"
      },
      "execution_count": 242,
      "outputs": [
        {
          "output_type": "stream",
          "name": "stdout",
          "text": [
            "       carat        cut color clarity  depth  table  price     x     y     z\n",
            "0       0.23      Ideal     E     SI2   61.5   55.0    326  3.95  3.98  2.43\n",
            "1       0.21    Premium     E     SI1   59.8   61.0    326  3.89  3.84  2.31\n",
            "2       0.23       Good     E     VS1   56.9   65.0    327  4.05  4.07  2.31\n",
            "3       0.29    Premium     I     VS2   62.4   58.0    334  4.20  4.23  2.63\n",
            "4       0.31       Good     J     SI2   63.3   58.0    335  4.34  4.35  2.75\n",
            "...      ...        ...   ...     ...    ...    ...    ...   ...   ...   ...\n",
            "53935   0.72      Ideal     D     SI1   60.8   57.0   2757  5.75  5.76  3.50\n",
            "53936   0.72       Good     D     SI1   63.1   55.0   2757  5.69  5.75  3.61\n",
            "53937   0.70  Very Good     D     SI1   62.8   60.0   2757  5.66  5.68  3.56\n",
            "53938   0.86    Premium     H     SI2   61.0   58.0   2757  6.15  6.12  3.74\n",
            "53939   0.75      Ideal     D     SI2   62.2   55.0   2757  5.83  5.87  3.64\n",
            "\n",
            "[53940 rows x 10 columns]\n"
          ]
        }
      ]
    },
    {
      "cell_type": "markdown",
      "metadata": {
        "id": "K7E27UpQ_XPd"
      },
      "source": [
        "## Linear regression"
      ]
    },
    {
      "cell_type": "markdown",
      "metadata": {
        "id": "GDbOaMKd_XPd"
      },
      "source": [
        "#### 0. [0.25 points] Encode categorical variables."
      ]
    },
    {
      "cell_type": "markdown",
      "source": [
        "В наборе данных три категориальные переменные - cut, color, clarity. Используем фиктивное кодирование с drop_first = True (для уменьшения столбцов и корреляции). Так как кодирование происходит до построения моделей ML, можем использовать get_dummies()."
      ],
      "metadata": {
        "id": "uJ1gcuPLD5ZK"
      }
    },
    {
      "cell_type": "code",
      "execution_count": 243,
      "metadata": {
        "id": "iJIFfRF4_XPe"
      },
      "outputs": [],
      "source": [
        "# Применяем фиктивное кодирование Pandas.\n",
        "data = pd.get_dummies(data, prefix={'color':'color', 'cut':'cut', 'clarity':'clarity'}, drop_first=True)"
      ]
    },
    {
      "cell_type": "markdown",
      "metadata": {
        "id": "AkaWb32s_XPg"
      },
      "source": [
        "#### 1. [0.25 points] Split the data into train and test sets with ratio 80:20 with random_state=17."
      ]
    },
    {
      "cell_type": "code",
      "execution_count": 244,
      "metadata": {
        "id": "8BIeW3Q__XPh"
      },
      "outputs": [],
      "source": [
        "# Целевыми данными являются значения столбца с ценой бриллиантов.\n",
        "y = data['price']\n",
        "X = data.drop(columns=['price'], axis=1)\n",
        "# Эта вещь понадобится в задании 4.\n",
        "X_start = X.copy()\n",
        "\n",
        "X_train, X_test, y_train, y_test = train_test_split(X, y, test_size=0.2, random_state=17)"
      ]
    },
    {
      "cell_type": "markdown",
      "metadata": {
        "id": "-uZD06vd_XPj"
      },
      "source": [
        "#### 2. [1 point] Train models on train data using StatsModels library and apply it to the test set; use $RMSE$ and $R^2$ as the quality measure.\n",
        "\n",
        "* [`LinearRegression`](http://scikit-learn.org/stable/modules/generated/sklearn.linear_model.LinearRegression.html);\n",
        "* [`Ridge`](http://scikit-learn.org/stable/modules/generated/sklearn.linear_model.Ridge.html) with $\\alpha = 0.01$;\n",
        "* [`Lasso`](http://scikit-learn.org/stable/modules/generated/sklearn.linear_model.Lasso.html) with $\\alpha = 0.01$\n",
        "* [`ElasticNet`](https://scikit-learn.org/stable/modules/generated/sklearn.linear_model.ElasticNet.html) with $\\alpha = 0.01$, $l_{1}$_$ratio = 0.6$\n",
        "\n",
        "Don't forget to scale the data before training the models with StandardScaler!"
      ]
    },
    {
      "cell_type": "markdown",
      "source": [
        "**МЕГАВАЖНОЕ уточнение** от студента: в задании просят использовать модели StatsModels. В случае простой линейной регрессии не возникает проблем, но при регуляризации появляется сложность - метод $summary()$, который предоставляет необходимую информацию о статистическом анализе, не работает. Эта проблема решается заданием параметра $refit = True$, однако тогда смысл регуляризации фактически теряется, и на выходе получается четыре модели с идентичными характеристиками. Вопрос был обсужден с семинаристами, указание - использовать параметр $refit = True$ и принять факт неточности...   \n",
        "Мне захотелось продемонстрировать, что в нормальных условиях, когда все работает, модели все-таки имеют разные значения характеристик, поэтому:   \n",
        "1) Во 2 номере я не использую $refit = True$, чтобы задание имело смысл и можно было сравнить $R^2$ и $RMSE$;   \n",
        "2) В 3 задании я использую $refit = True$, чтобы работал вывод результирующих таблиц (бессмысленно, но так требуется в задании)."
      ],
      "metadata": {
        "id": "EqmO4BvsfkXe"
      }
    },
    {
      "cell_type": "code",
      "execution_count": 245,
      "metadata": {
        "id": "0LNcYkGv_XPk",
        "colab": {
          "base_uri": "https://localhost:8080/"
        },
        "outputId": "72ac043c-13c0-4610-e676-40a3a6c8bef7"
      },
      "outputs": [
        {
          "output_type": "stream",
          "name": "stdout",
          "text": [
            "Test RMSE = 1149.9905\n",
            "Train RMSE = 1124.9250\n",
            "Test R2 = 0.9183\n",
            "Train R2 = 0.9201\n"
          ]
        }
      ],
      "source": [
        "# LinearRegression\n",
        "\n",
        "# Обработка с помощью StandardScaler.\n",
        "scaler = StandardScaler()\n",
        "X_train_scaled = scaler.fit_transform(X_train)\n",
        "X_test_scaled = scaler.transform(X_test)\n",
        "\n",
        "# Добавление константы.\n",
        "X_train_scaled = sm.add_constant(X_train_scaled)\n",
        "X_test_scaled = sm.add_constant(X_test_scaled)\n",
        "\n",
        "# Использование StatsModels.\n",
        "model = sm.OLS(y_train, X_train_scaled);  # Используем как шаблон для всех моделей.\n",
        "linear_trained = model.fit()\n",
        "\n",
        "# Прогнозные значения.\n",
        "y_pred = linear_trained.predict(X_test_scaled)\n",
        "y_train_pred = linear_trained.predict(X_train_scaled)\n",
        "\n",
        "# Вывод RMSE и R^2.\n",
        "print(\"Test RMSE = %.4f\" % sqrt(mean_squared_error(y_test, y_pred)))\n",
        "print(\"Train RMSE = %.4f\" % sqrt(mean_squared_error(y_train, y_train_pred)))\n",
        "print(\"Test R2 = %.4f\" % r2_score(y_test, y_pred))\n",
        "print(\"Train R2 = %.4f\" % r2_score(y_train, y_train_pred))"
      ]
    },
    {
      "cell_type": "code",
      "source": [
        "# Lasso\n",
        "\n",
        "# Использование StatsModels.\n",
        "lasso_trained = model.fit_regularized(alpha=0.01, L1_wt=1.0)\n",
        "\n",
        "# Прогнозные значения.\n",
        "y_pred = lasso_trained.predict(X_test_scaled)\n",
        "y_train_pred = lasso_trained.predict(X_train_scaled)\n",
        "\n",
        "# Вывод RMSE и R^2.\n",
        "print(\"Test RMSE = %.4f\" % sqrt(mean_squared_error(y_test, y_pred)))\n",
        "print(\"Train RMSE = %.4f\" % sqrt(mean_squared_error(y_train, y_train_pred)))\n",
        "print(\"Test R2 = %.4f\" % r2_score(y_test, y_pred))\n",
        "print(\"Train R2 = %.4f\" % r2_score(y_train, y_train_pred))"
      ],
      "metadata": {
        "id": "ar-d_fQCkkzq",
        "colab": {
          "base_uri": "https://localhost:8080/"
        },
        "outputId": "ee859ca7-0cfe-490f-b155-7cb20bac617c"
      },
      "execution_count": 246,
      "outputs": [
        {
          "output_type": "stream",
          "name": "stdout",
          "text": [
            "Test RMSE = 1148.7777\n",
            "Train RMSE = 1125.2157\n",
            "Test R2 = 0.9185\n",
            "Train R2 = 0.9201\n"
          ]
        }
      ]
    },
    {
      "cell_type": "code",
      "source": [
        "# Ridge\n",
        "\n",
        "# Использование StatsModels.\n",
        "ridge_trained = model.fit_regularized(alpha=0.01, L1_wt=0.0)\n",
        "\n",
        "# Прогнозные значения.\n",
        "y_pred = ridge_trained.predict(X_test_scaled)\n",
        "y_train_pred = ridge_trained.predict(X_train_scaled)\n",
        "\n",
        "# Вывод RMSE и R^2.\n",
        "print(\"Test RMSE = %.4f\" % sqrt(mean_squared_error(y_test, y_pred)))\n",
        "print(\"Train RMSE = %.4f\" % sqrt(mean_squared_error(y_train, y_train_pred)))\n",
        "print(\"Test R2 = %.4f\" % r2_score(y_test, y_pred))\n",
        "print(\"Train R2 = %.4f\" % r2_score(y_train, y_train_pred))"
      ],
      "metadata": {
        "colab": {
          "base_uri": "https://localhost:8080/"
        },
        "id": "iULK_OtWmEWX",
        "outputId": "692f8540-e4e8-466a-b0ff-1a9f1d91f57b"
      },
      "execution_count": 247,
      "outputs": [
        {
          "output_type": "stream",
          "name": "stdout",
          "text": [
            "Test RMSE = 1163.5760\n",
            "Train RMSE = 1147.6263\n",
            "Test R2 = 0.9164\n",
            "Train R2 = 0.9169\n"
          ]
        }
      ]
    },
    {
      "cell_type": "code",
      "source": [
        "# ElasticNet\n",
        "\n",
        "# Использование StatsModels.\n",
        "en_trained = model.fit_regularized(alpha=0.01, L1_wt=0.6)\n",
        "\n",
        "# Прогнозные значения.\n",
        "y_pred = en_trained.predict(X_test_scaled)\n",
        "y_train_pred = en_trained.predict(X_train_scaled)\n",
        "\n",
        "# Вывод RMSE и R^2.\n",
        "print(\"Test RMSE = %.4f\" % sqrt(mean_squared_error(y_test, y_pred)))\n",
        "print(\"Train RMSE = %.4f\" % sqrt(mean_squared_error(y_train, y_train_pred)))\n",
        "print(\"Test R2 = %.4f\" % r2_score(y_test, y_pred))\n",
        "print(\"Train R2 = %.4f\" % r2_score(y_train, y_train_pred))"
      ],
      "metadata": {
        "colab": {
          "base_uri": "https://localhost:8080/"
        },
        "id": "t7h00JPd3vmI",
        "outputId": "cd8eaa24-04c2-43b0-c208-57c4d3122561"
      },
      "execution_count": 248,
      "outputs": [
        {
          "output_type": "stream",
          "name": "stdout",
          "text": [
            "Test RMSE = 1150.1025\n",
            "Train RMSE = 1130.8930\n",
            "Test R2 = 0.9183\n",
            "Train R2 = 0.9193\n"
          ]
        }
      ]
    },
    {
      "cell_type": "markdown",
      "source": [
        "Таким образом, для тестового набора имеем следующие выводы:   \n",
        "1) Наименьшее значение $RMSE$ имеет модель $Lasso$, наибольшее - модель $Ridge$;   \n",
        "2) Наибольше значение $R^2$ имеет модель $Lasso$, наименьшее - модель $Ridge$;   \n",
        "3) По всем параметрам лучшие показатели имеет модель $Lasso$, худшие - модель $Ridge$."
      ],
      "metadata": {
        "id": "e-DENJI7fxnp"
      }
    },
    {
      "cell_type": "markdown",
      "metadata": {
        "id": "-R-UgsME_XPl"
      },
      "source": [
        "#### 3. [1 point] Explore the values of the parameters of the resulting models and compare the number of zero weights in them. Comment on the significance of the coefficients, overal model significance and other related factors from the results table"
      ]
    },
    {
      "cell_type": "code",
      "execution_count": 249,
      "metadata": {
        "id": "OXUAEEll_XPl",
        "colab": {
          "base_uri": "https://localhost:8080/"
        },
        "outputId": "daa1b6b7-5bb2-4509-b217-cb8d947938e1"
      },
      "outputs": [
        {
          "output_type": "stream",
          "name": "stdout",
          "text": [
            "Linear regression:\n",
            "const    3928.681289\n",
            "x1       5386.710073\n",
            "x2        -97.928473\n",
            "x3        -61.694505\n",
            "x4      -1186.228017\n",
            "x5          2.815617\n",
            "x6        -31.770464\n",
            "x7        -32.963139\n",
            "x8        -40.804137\n",
            "x9        -72.447500\n",
            "x10      -141.035551\n",
            "x11       -85.479445\n",
            "x12      -109.491054\n",
            "x13      -197.533045\n",
            "x14      -361.318575\n",
            "x15      -447.734241\n",
            "x16      -527.380300\n",
            "x17       -86.402868\n",
            "x18      -120.164278\n",
            "x19      -281.452704\n",
            "x20      -455.320491\n",
            "x21      -722.777835\n",
            "x22      -998.025513\n",
            "x23      -615.482296\n",
            "dtype: float64\n",
            "\n",
            "Lasso:\n",
            "const    3928.671289\n",
            "x1       5266.791581\n",
            "x2        -92.666578\n",
            "x3        -62.364674\n",
            "x4      -1087.581194\n",
            "x5         12.970426\n",
            "x6        -24.668775\n",
            "x7        -32.101091\n",
            "x8        -40.202550\n",
            "x9        -72.436309\n",
            "x10      -141.262835\n",
            "x11       -84.814405\n",
            "x12      -109.159587\n",
            "x13      -196.318006\n",
            "x14      -358.902505\n",
            "x15      -444.385685\n",
            "x16      -524.186002\n",
            "x17       -78.116051\n",
            "x18      -111.436270\n",
            "x19      -272.445593\n",
            "x20      -444.647257\n",
            "x21      -713.247351\n",
            "x22      -987.893460\n",
            "x23      -611.060170\n",
            "dtype: float64\n",
            "\n",
            "Ridge:\n",
            "[3889.78345485 4338.80378376  -41.19520679  -53.81001938 -174.45980849\n",
            "    9.66809048  -45.02898632  -35.39279629  -39.78442926  -77.96935627\n",
            " -148.20803537  -68.13976188  -94.40892296 -172.10956156 -326.62479343\n",
            " -405.37661472 -487.80307611  -16.93640897  -45.79819426 -202.89002032\n",
            " -358.42864489 -631.32089028 -897.09619454 -570.59440332]\n",
            "\n",
            "ElasticNet:\n",
            "const    3913.023197\n",
            "x1       4849.752577\n",
            "x2        -67.692811\n",
            "x3        -58.440941\n",
            "x4       -636.222461\n",
            "x5        -13.680338\n",
            "x6        -49.217617\n",
            "x7        -34.302434\n",
            "x8        -39.921973\n",
            "x9        -75.056367\n",
            "x10      -144.799242\n",
            "x11       -77.654076\n",
            "x12      -102.963879\n",
            "x13      -186.023749\n",
            "x14      -344.995377\n",
            "x15      -427.533375\n",
            "x16      -508.453958\n",
            "x17       -49.431857\n",
            "x18       -80.722687\n",
            "x19      -239.879942\n",
            "x20      -404.645813\n",
            "x21      -675.450363\n",
            "x22      -946.583689\n",
            "x23      -592.999595\n",
            "dtype: float64\n",
            "\n"
          ]
        }
      ],
      "source": [
        "# Вывод коэффициентов.\n",
        "print(\"Linear regression:\")\n",
        "print(linear_trained.params)\n",
        "print()\n",
        "\n",
        "print(\"Lasso:\")\n",
        "print(lasso_trained.params)\n",
        "print()\n",
        "\n",
        "print(\"Ridge:\")\n",
        "print(ridge_trained.params)\n",
        "print()\n",
        "\n",
        "print(\"ElasticNet:\")\n",
        "print(en_trained.params)\n",
        "print()"
      ]
    },
    {
      "cell_type": "markdown",
      "source": [
        "Стоит отметить, что ни в одной модели нет нулевых коэффициентов, что может быть связано с используемой библиотекой и/ или заданием параметра $\\alpha$.   \n",
        "Если задать модель $Lasso$ через $Sklearn$ и указать $\\alpha = 1.0$, то мы увидим нулевой коэффициент."
      ],
      "metadata": {
        "id": "bUaLxSf0w3Yu"
      }
    },
    {
      "cell_type": "code",
      "source": [
        "# Чисто ради интереса.\n",
        "sk_model = Lasso()\n",
        "sk_lasso_trained = sk_model.fit(X_train_scaled, y_train)\n",
        "print(sk_lasso_trained.coef_)"
      ],
      "metadata": {
        "colab": {
          "base_uri": "https://localhost:8080/"
        },
        "id": "6NglMeU0iv7h",
        "outputId": "639d2550-df57-4d67-adbd-f8462fff33f6"
      },
      "execution_count": 250,
      "outputs": [
        {
          "output_type": "stream",
          "name": "stdout",
          "text": [
            "[    0.          5339.7488448    -95.42090868   -62.12190874\n",
            " -1139.37535557    -0.           -32.27219888   -31.48401164\n",
            "   -39.05386462   -71.21050796  -140.24767682   -78.21894725\n",
            "  -101.74465338  -188.4477032   -353.0486872   -440.15140659\n",
            "  -521.25881488   -68.5786542    -99.72170286  -257.20375048\n",
            "  -426.50874167  -693.73914792  -971.46382923  -606.34333425]\n"
          ]
        }
      ]
    },
    {
      "cell_type": "code",
      "source": [
        "# Узнаем, какой именно параметр обнулился.\n",
        "print(X_train.columns[4])"
      ],
      "metadata": {
        "colab": {
          "base_uri": "https://localhost:8080/"
        },
        "id": "IVAx0l58zvPc",
        "outputId": "01d3c3b1-1315-4a0f-db02-2b056a9caadb"
      },
      "execution_count": 251,
      "outputs": [
        {
          "output_type": "stream",
          "name": "stdout",
          "text": [
            "y\n"
          ]
        }
      ]
    },
    {
      "cell_type": "markdown",
      "source": [
        "Мы видим, что нулевым стал параметр $x_5$ ($y$ - ширина), который в обычной линейной регрессии как раз имеет самый низкий коэффициент, поэтому его \"выброс\" наиболее ожидаем."
      ],
      "metadata": {
        "id": "J8P2gCMMzZdk"
      }
    },
    {
      "cell_type": "markdown",
      "source": [
        "Теперь приступим к выводам результирующих табличек для моделей. Как раз сейчас необходимо указать $refit = True$, иначе метод $summary()$ просто не сработает. При этом повторюсь, что фактически регуляризации не произойдет, поэтому все данные будут идентичны."
      ],
      "metadata": {
        "id": "UtuJWyFd0yRE"
      }
    },
    {
      "cell_type": "code",
      "source": [
        "# Вывод результирующих таблиц для всех моделей.\n",
        "print(linear_trained.summary())\n",
        "\n",
        "lasso_trained = model.fit_regularized(alpha=0.01, L1_wt=1.0, refit=True)\n",
        "print(lasso_trained.summary())\n",
        "\n",
        "# ВАЖНО: с реализацией Ridge() в StatsModels все плохо, поэтому при L1 = 0 summary() также не работает.\n",
        "# Укажем значение, близкое к нулю, чтобы вывести результирующую таблицу.\n",
        "ridge_trained = model.fit_regularized(alpha=0.01, L1_wt=1e-20, refit=True)\n",
        "print(ridge_trained.summary())\n",
        "\n",
        "en_trained = model.fit_regularized(alpha=0.01, L1_wt=0.6, refit=True)\n",
        "print(en_trained.summary())"
      ],
      "metadata": {
        "colab": {
          "base_uri": "https://localhost:8080/"
        },
        "id": "AvMgVZi81MjJ",
        "outputId": "a2f83244-9e58-4311-ccfb-28308ec6a9c9"
      },
      "execution_count": 252,
      "outputs": [
        {
          "output_type": "stream",
          "name": "stdout",
          "text": [
            "                            OLS Regression Results                            \n",
            "==============================================================================\n",
            "Dep. Variable:                  price   R-squared:                       0.920\n",
            "Model:                            OLS   Adj. R-squared:                  0.920\n",
            "Method:                 Least Squares   F-statistic:                 2.160e+04\n",
            "Date:                Sun, 16 Oct 2022   Prob (F-statistic):               0.00\n",
            "Time:                        14:43:22   Log-Likelihood:            -3.6439e+05\n",
            "No. Observations:               43152   AIC:                         7.288e+05\n",
            "Df Residuals:                   43128   BIC:                         7.290e+05\n",
            "Df Model:                          23                                         \n",
            "Covariance Type:            nonrobust                                         \n",
            "==============================================================================\n",
            "                 coef    std err          t      P>|t|      [0.025      0.975]\n",
            "------------------------------------------------------------------------------\n",
            "const       3928.6813      5.417    725.275      0.000    3918.064    3939.298\n",
            "x1          5386.7101     26.223    205.422      0.000    5335.313    5438.107\n",
            "x2           -97.9285      7.156    -13.685      0.000    -111.954     -83.903\n",
            "x3           -61.6945      7.248     -8.512      0.000     -75.900     -47.489\n",
            "x4         -1186.2280     40.719    -29.132      0.000   -1266.038   -1106.418\n",
            "x5             2.8156     24.711      0.114      0.909     -45.618      51.249\n",
            "x6           -31.7705     24.767     -1.283      0.200     -80.314      16.773\n",
            "x7           -32.9631      7.082     -4.654      0.000     -46.844     -19.082\n",
            "x8           -40.8041      6.606     -6.177      0.000     -53.752     -27.856\n",
            "x9           -72.4475      6.491    -11.162      0.000     -85.169     -59.726\n",
            "x10         -141.0356      6.324    -22.303      0.000    -153.430    -128.641\n",
            "x11          -85.4794      7.667    -11.149      0.000    -100.507     -70.452\n",
            "x12         -109.4911      7.667    -14.281      0.000    -124.518     -94.464\n",
            "x13         -197.5330      8.003    -24.682      0.000    -213.219    -181.847\n",
            "x14         -361.3186      7.559    -47.800      0.000    -376.134    -346.503\n",
            "x15         -447.7342      7.087    -63.177      0.000    -461.625    -433.844\n",
            "x16         -527.3803      6.460    -81.642      0.000    -540.041    -514.719\n",
            "x17          -86.4029      9.109     -9.485      0.000    -104.257     -68.548\n",
            "x18         -120.1643     10.081    -11.920      0.000    -139.922    -100.406\n",
            "x19         -281.4527     11.889    -23.674      0.000    -304.755    -258.150\n",
            "x20         -455.3205     13.560    -33.578      0.000    -481.898    -428.743\n",
            "x21         -722.7778     13.923    -51.913      0.000    -750.067    -695.489\n",
            "x22         -998.0255     12.706    -78.550      0.000   -1022.929    -973.122\n",
            "x23         -615.4823      6.585    -93.464      0.000    -628.389    -602.575\n",
            "==============================================================================\n",
            "Omnibus:                    11910.550   Durbin-Watson:                   2.000\n",
            "Prob(Omnibus):                  0.000   Jarque-Bera (JB):           377007.939\n",
            "Skew:                           0.693   Prob(JB):                         0.00\n",
            "Kurtosis:                      17.414   Cond. No.                         18.0\n",
            "==============================================================================\n",
            "\n",
            "Notes:\n",
            "[1] Standard Errors assume that the covariance matrix of the errors is correctly specified.\n",
            "                            OLS Regression Results                            \n",
            "==============================================================================\n",
            "Dep. Variable:                  price   R-squared:                       0.920\n",
            "Model:                            OLS   Adj. R-squared:                  0.920\n",
            "Method:                 Least Squares   F-statistic:                 2.070e+04\n",
            "Date:                Sun, 16 Oct 2022   Prob (F-statistic):               0.00\n",
            "Time:                        14:43:24   Log-Likelihood:            -3.6439e+05\n",
            "No. Observations:               43152   AIC:                         7.288e+05\n",
            "Df Residuals:                   43128   BIC:                         7.291e+05\n",
            "Df Model:                          24                                         \n",
            "Covariance Type:            nonrobust                                         \n",
            "==============================================================================\n",
            "                 coef    std err          t      P>|t|      [0.025      0.975]\n",
            "------------------------------------------------------------------------------\n",
            "const       3928.6813      5.417    725.275      0.000    3918.064    3939.298\n",
            "x1          5386.7101     26.223    205.422      0.000    5335.313    5438.107\n",
            "x2           -97.9285      7.156    -13.685      0.000    -111.954     -83.903\n",
            "x3           -61.6945      7.248     -8.512      0.000     -75.900     -47.489\n",
            "x4         -1186.2280     40.719    -29.132      0.000   -1266.038   -1106.418\n",
            "x5             2.8156     24.711      0.114      0.909     -45.618      51.249\n",
            "x6           -31.7705     24.767     -1.283      0.200     -80.314      16.773\n",
            "x7           -32.9631      7.082     -4.654      0.000     -46.844     -19.082\n",
            "x8           -40.8041      6.606     -6.177      0.000     -53.752     -27.856\n",
            "x9           -72.4475      6.491    -11.162      0.000     -85.169     -59.726\n",
            "x10         -141.0356      6.324    -22.303      0.000    -153.430    -128.641\n",
            "x11          -85.4794      7.667    -11.149      0.000    -100.507     -70.452\n",
            "x12         -109.4911      7.667    -14.281      0.000    -124.518     -94.464\n",
            "x13         -197.5330      8.003    -24.682      0.000    -213.219    -181.847\n",
            "x14         -361.3186      7.559    -47.800      0.000    -376.134    -346.503\n",
            "x15         -447.7342      7.087    -63.177      0.000    -461.625    -433.844\n",
            "x16         -527.3803      6.460    -81.642      0.000    -540.041    -514.719\n",
            "x17          -86.4029      9.109     -9.485      0.000    -104.257     -68.548\n",
            "x18         -120.1643     10.081    -11.920      0.000    -139.922    -100.406\n",
            "x19         -281.4527     11.889    -23.674      0.000    -304.755    -258.150\n",
            "x20         -455.3205     13.560    -33.578      0.000    -481.898    -428.743\n",
            "x21         -722.7778     13.923    -51.913      0.000    -750.067    -695.489\n",
            "x22         -998.0255     12.706    -78.550      0.000   -1022.929    -973.122\n",
            "x23         -615.4823      6.585    -93.464      0.000    -628.389    -602.575\n",
            "==============================================================================\n",
            "Omnibus:                    11910.550   Durbin-Watson:                   2.000\n",
            "Prob(Omnibus):                  0.000   Jarque-Bera (JB):           377007.939\n",
            "Skew:                           0.693   Prob(JB):                         0.00\n",
            "Kurtosis:                      17.414   Cond. No.                         18.0\n",
            "==============================================================================\n",
            "\n",
            "Notes:\n",
            "[1] Standard Errors assume that the covariance matrix of the errors is correctly specified.\n",
            "                            OLS Regression Results                            \n",
            "==============================================================================\n",
            "Dep. Variable:                  price   R-squared:                       0.920\n",
            "Model:                            OLS   Adj. R-squared:                  0.920\n",
            "Method:                 Least Squares   F-statistic:                 2.070e+04\n",
            "Date:                Sun, 16 Oct 2022   Prob (F-statistic):               0.00\n",
            "Time:                        14:43:27   Log-Likelihood:            -3.6439e+05\n",
            "No. Observations:               43152   AIC:                         7.288e+05\n",
            "Df Residuals:                   43128   BIC:                         7.291e+05\n",
            "Df Model:                          24                                         \n",
            "Covariance Type:            nonrobust                                         \n",
            "==============================================================================\n",
            "                 coef    std err          t      P>|t|      [0.025      0.975]\n",
            "------------------------------------------------------------------------------\n",
            "const       3928.6813      5.417    725.275      0.000    3918.064    3939.298\n",
            "x1          5386.7101     26.223    205.422      0.000    5335.313    5438.107\n",
            "x2           -97.9285      7.156    -13.685      0.000    -111.954     -83.903\n",
            "x3           -61.6945      7.248     -8.512      0.000     -75.900     -47.489\n",
            "x4         -1186.2280     40.719    -29.132      0.000   -1266.038   -1106.418\n",
            "x5             2.8156     24.711      0.114      0.909     -45.618      51.249\n",
            "x6           -31.7705     24.767     -1.283      0.200     -80.314      16.773\n",
            "x7           -32.9631      7.082     -4.654      0.000     -46.844     -19.082\n",
            "x8           -40.8041      6.606     -6.177      0.000     -53.752     -27.856\n",
            "x9           -72.4475      6.491    -11.162      0.000     -85.169     -59.726\n",
            "x10         -141.0356      6.324    -22.303      0.000    -153.430    -128.641\n",
            "x11          -85.4794      7.667    -11.149      0.000    -100.507     -70.452\n",
            "x12         -109.4911      7.667    -14.281      0.000    -124.518     -94.464\n",
            "x13         -197.5330      8.003    -24.682      0.000    -213.219    -181.847\n",
            "x14         -361.3186      7.559    -47.800      0.000    -376.134    -346.503\n",
            "x15         -447.7342      7.087    -63.177      0.000    -461.625    -433.844\n",
            "x16         -527.3803      6.460    -81.642      0.000    -540.041    -514.719\n",
            "x17          -86.4029      9.109     -9.485      0.000    -104.257     -68.548\n",
            "x18         -120.1643     10.081    -11.920      0.000    -139.922    -100.406\n",
            "x19         -281.4527     11.889    -23.674      0.000    -304.755    -258.150\n",
            "x20         -455.3205     13.560    -33.578      0.000    -481.898    -428.743\n",
            "x21         -722.7778     13.923    -51.913      0.000    -750.067    -695.489\n",
            "x22         -998.0255     12.706    -78.550      0.000   -1022.929    -973.122\n",
            "x23         -615.4823      6.585    -93.464      0.000    -628.389    -602.575\n",
            "==============================================================================\n",
            "Omnibus:                    11910.550   Durbin-Watson:                   2.000\n",
            "Prob(Omnibus):                  0.000   Jarque-Bera (JB):           377007.939\n",
            "Skew:                           0.693   Prob(JB):                         0.00\n",
            "Kurtosis:                      17.414   Cond. No.                         18.0\n",
            "==============================================================================\n",
            "\n",
            "Notes:\n",
            "[1] Standard Errors assume that the covariance matrix of the errors is correctly specified.\n",
            "                            OLS Regression Results                            \n",
            "==============================================================================\n",
            "Dep. Variable:                  price   R-squared:                       0.920\n",
            "Model:                            OLS   Adj. R-squared:                  0.920\n",
            "Method:                 Least Squares   F-statistic:                 2.070e+04\n",
            "Date:                Sun, 16 Oct 2022   Prob (F-statistic):               0.00\n",
            "Time:                        14:43:29   Log-Likelihood:            -3.6439e+05\n",
            "No. Observations:               43152   AIC:                         7.288e+05\n",
            "Df Residuals:                   43128   BIC:                         7.291e+05\n",
            "Df Model:                          24                                         \n",
            "Covariance Type:            nonrobust                                         \n",
            "==============================================================================\n",
            "                 coef    std err          t      P>|t|      [0.025      0.975]\n",
            "------------------------------------------------------------------------------\n",
            "const       3928.6813      5.417    725.275      0.000    3918.064    3939.298\n",
            "x1          5386.7101     26.223    205.422      0.000    5335.313    5438.107\n",
            "x2           -97.9285      7.156    -13.685      0.000    -111.954     -83.903\n",
            "x3           -61.6945      7.248     -8.512      0.000     -75.900     -47.489\n",
            "x4         -1186.2280     40.719    -29.132      0.000   -1266.038   -1106.418\n",
            "x5             2.8156     24.711      0.114      0.909     -45.618      51.249\n",
            "x6           -31.7705     24.767     -1.283      0.200     -80.314      16.773\n",
            "x7           -32.9631      7.082     -4.654      0.000     -46.844     -19.082\n",
            "x8           -40.8041      6.606     -6.177      0.000     -53.752     -27.856\n",
            "x9           -72.4475      6.491    -11.162      0.000     -85.169     -59.726\n",
            "x10         -141.0356      6.324    -22.303      0.000    -153.430    -128.641\n",
            "x11          -85.4794      7.667    -11.149      0.000    -100.507     -70.452\n",
            "x12         -109.4911      7.667    -14.281      0.000    -124.518     -94.464\n",
            "x13         -197.5330      8.003    -24.682      0.000    -213.219    -181.847\n",
            "x14         -361.3186      7.559    -47.800      0.000    -376.134    -346.503\n",
            "x15         -447.7342      7.087    -63.177      0.000    -461.625    -433.844\n",
            "x16         -527.3803      6.460    -81.642      0.000    -540.041    -514.719\n",
            "x17          -86.4029      9.109     -9.485      0.000    -104.257     -68.548\n",
            "x18         -120.1643     10.081    -11.920      0.000    -139.922    -100.406\n",
            "x19         -281.4527     11.889    -23.674      0.000    -304.755    -258.150\n",
            "x20         -455.3205     13.560    -33.578      0.000    -481.898    -428.743\n",
            "x21         -722.7778     13.923    -51.913      0.000    -750.067    -695.489\n",
            "x22         -998.0255     12.706    -78.550      0.000   -1022.929    -973.122\n",
            "x23         -615.4823      6.585    -93.464      0.000    -628.389    -602.575\n",
            "==============================================================================\n",
            "Omnibus:                    11910.550   Durbin-Watson:                   2.000\n",
            "Prob(Omnibus):                  0.000   Jarque-Bera (JB):           377007.939\n",
            "Skew:                           0.693   Prob(JB):                         0.00\n",
            "Kurtosis:                      17.414   Cond. No.                         18.0\n",
            "==============================================================================\n",
            "\n",
            "Notes:\n",
            "[1] Standard Errors assume that the covariance matrix of the errors is correctly specified.\n"
          ]
        }
      ]
    },
    {
      "cell_type": "markdown",
      "source": [
        "Все сработало и мы получили 4 идентичные таблички, ч.т.д..   \n",
        "По этой причине вывод по статистическим параметрам сделаем только для линейной регрессии, так как при регуляризации мы не можем получить верных результатов.   \n",
        "Рассмотрим уровень значимости $0.05$:    \n",
        "1) Согласно значению $p-value$ незначимыми являются параметры $x_5$ - ширина ($p-value = 0.909$) и $x_6$ - глубина ($p-value = 0.2$). Остальные параметры значимы;   \n",
        "2) Оценим уровень значимости регрессии в целом: $F-statistic = 20700$, $F-critical = finv(0.95, 23, 53940 - 23 - 1) = 1.5295$. Как видим, $F-statistic>F-critical$, а значит, согласно тесту Фишера, регрессия значима в целом;   \n",
        "3) $R^2 = R^2 (adj.) = 0.92$, показатель достаточно близок к $1$, что хорошо;   \n",
        "4) $DW = 2$, что говорит об отсутствии автокорреляции;   \n",
        "5) Сравнительные параметры $AIC/ BIC$ и так далее рассматривать не будем, так как все модели идентичны и сравнивать нечего ☕"
      ],
      "metadata": {
        "id": "fLQkSCke2xlm"
      }
    },
    {
      "cell_type": "markdown",
      "metadata": {
        "id": "EFh2MrWR_XPm"
      },
      "source": [
        "#### 4. [1 point] Implement one of the elimination algorithms that were described in the Seminar_4 (Elimination by P-value, Forward elimination, Backward elimination), make conclusions."
      ]
    },
    {
      "cell_type": "markdown",
      "source": [
        "Реализуем метод устранения по значениям $p-value$ и параллельно будем смотреть на то, как меняется при этом качественная характеристика модели (в реализации ниже - $RMSE$), чтобы понять, имеет ли в принципе смысл выброс параметров из модели.\n"
      ],
      "metadata": {
        "id": "LvFGHiYcElU5"
      }
    },
    {
      "cell_type": "code",
      "execution_count": 253,
      "metadata": {
        "id": "jsQAjBI3_XPn"
      },
      "outputs": [],
      "source": [
        "'''\n",
        "Метод, осуществляющий исключение по p-value.\n",
        "При этом учитываем показатель RMSE в качестве эффективности модели.\n",
        "'''\n",
        "def elimination_pvalue(x_start):\n",
        "  columns = list(x_start)\n",
        "\n",
        "  # Будем хранить значения R-квадрата после каждого преобразования.\n",
        "  # Потом выберем наилучший.\n",
        "  dict_rmse = {}\n",
        "  while len(columns):\n",
        "    X_train_e, X_test_e, y_train_e, y_test_e = train_test_split(x_start[columns], y, test_size=0.2, random_state=17)\n",
        "    # Заново строим модель.\n",
        "    scaler = StandardScaler()\n",
        "    X_train_sc = scaler.fit_transform(X_train_e[columns])\n",
        "    X_test_sc = scaler.transform(X_test_e[columns])\n",
        "    X_train_sc = sm.add_constant(X_train_sc)\n",
        "    X_test_sc = sm.add_constant(X_test_sc)\n",
        "\n",
        "    model = sm.OLS(y_train_e, X_train_sc).fit()\n",
        "    y_pred_e = model.predict(X_test_sc)\n",
        "    \n",
        "    # Вычисление R-квадрата и занесение информации в словарь.\n",
        "    rmse = mean_squared_error(y_test_e, y_pred_e)\n",
        "    dict_rmse[rmse] = columns.copy()\n",
        "    # Удаление p-value с максимальной величиной (начинаем с 1, так как есть константа)\n",
        "    del columns[model.pvalues.iloc[1:].argmax()]\n",
        "  # Возвращаем столбцы со значимыми переменными\n",
        "  return dict_rmse[min(dict_rmse)]"
      ]
    },
    {
      "cell_type": "code",
      "source": [
        "significant = elimination_pvalue(X_start)\n",
        "print(significant)"
      ],
      "metadata": {
        "id": "RGdCwyJbUvtG",
        "colab": {
          "base_uri": "https://localhost:8080/"
        },
        "outputId": "ececed37-e301-49d0-fec8-75866c4d15e9"
      },
      "execution_count": 254,
      "outputs": [
        {
          "output_type": "stream",
          "name": "stdout",
          "text": [
            "['carat', 'depth', 'table', 'x', 'y', 'z', 'cut_Premium', 'cut_Very Good', 'cut_Good', 'cut_Fair', 'color_E', 'color_F', 'color_G', 'color_H', 'color_I', 'color_J', 'clarity_VVS1', 'clarity_VVS2', 'clarity_VS1', 'clarity_VS2', 'clarity_SI1', 'clarity_SI2', 'clarity_I1']\n"
          ]
        }
      ]
    },
    {
      "cell_type": "markdown",
      "source": [
        "Мы не зря проверили качественную характеристику. Как оказалось, выброс параметров из модели привел к ухудшению (студент проверил и для $R^2$, код аналогичен, ухудшение аналогично).   \n",
        "Тем не менее, для большей наглядности (и выброса меньшего количества параметров) предлагаю реализовать данный метод устранения поэтапно."
      ],
      "metadata": {
        "id": "PjEJAqos6mmv"
      }
    },
    {
      "cell_type": "code",
      "source": [
        "print(linear_trained.summary())"
      ],
      "metadata": {
        "colab": {
          "base_uri": "https://localhost:8080/"
        },
        "id": "1kH8kXPH7vo6",
        "outputId": "97568187-92dd-4899-d13d-62d2a36afd55"
      },
      "execution_count": 255,
      "outputs": [
        {
          "output_type": "stream",
          "name": "stdout",
          "text": [
            "                            OLS Regression Results                            \n",
            "==============================================================================\n",
            "Dep. Variable:                  price   R-squared:                       0.920\n",
            "Model:                            OLS   Adj. R-squared:                  0.920\n",
            "Method:                 Least Squares   F-statistic:                 2.160e+04\n",
            "Date:                Sun, 16 Oct 2022   Prob (F-statistic):               0.00\n",
            "Time:                        14:43:32   Log-Likelihood:            -3.6439e+05\n",
            "No. Observations:               43152   AIC:                         7.288e+05\n",
            "Df Residuals:                   43128   BIC:                         7.290e+05\n",
            "Df Model:                          23                                         \n",
            "Covariance Type:            nonrobust                                         \n",
            "==============================================================================\n",
            "                 coef    std err          t      P>|t|      [0.025      0.975]\n",
            "------------------------------------------------------------------------------\n",
            "const       3928.6813      5.417    725.275      0.000    3918.064    3939.298\n",
            "x1          5386.7101     26.223    205.422      0.000    5335.313    5438.107\n",
            "x2           -97.9285      7.156    -13.685      0.000    -111.954     -83.903\n",
            "x3           -61.6945      7.248     -8.512      0.000     -75.900     -47.489\n",
            "x4         -1186.2280     40.719    -29.132      0.000   -1266.038   -1106.418\n",
            "x5             2.8156     24.711      0.114      0.909     -45.618      51.249\n",
            "x6           -31.7705     24.767     -1.283      0.200     -80.314      16.773\n",
            "x7           -32.9631      7.082     -4.654      0.000     -46.844     -19.082\n",
            "x8           -40.8041      6.606     -6.177      0.000     -53.752     -27.856\n",
            "x9           -72.4475      6.491    -11.162      0.000     -85.169     -59.726\n",
            "x10         -141.0356      6.324    -22.303      0.000    -153.430    -128.641\n",
            "x11          -85.4794      7.667    -11.149      0.000    -100.507     -70.452\n",
            "x12         -109.4911      7.667    -14.281      0.000    -124.518     -94.464\n",
            "x13         -197.5330      8.003    -24.682      0.000    -213.219    -181.847\n",
            "x14         -361.3186      7.559    -47.800      0.000    -376.134    -346.503\n",
            "x15         -447.7342      7.087    -63.177      0.000    -461.625    -433.844\n",
            "x16         -527.3803      6.460    -81.642      0.000    -540.041    -514.719\n",
            "x17          -86.4029      9.109     -9.485      0.000    -104.257     -68.548\n",
            "x18         -120.1643     10.081    -11.920      0.000    -139.922    -100.406\n",
            "x19         -281.4527     11.889    -23.674      0.000    -304.755    -258.150\n",
            "x20         -455.3205     13.560    -33.578      0.000    -481.898    -428.743\n",
            "x21         -722.7778     13.923    -51.913      0.000    -750.067    -695.489\n",
            "x22         -998.0255     12.706    -78.550      0.000   -1022.929    -973.122\n",
            "x23         -615.4823      6.585    -93.464      0.000    -628.389    -602.575\n",
            "==============================================================================\n",
            "Omnibus:                    11910.550   Durbin-Watson:                   2.000\n",
            "Prob(Omnibus):                  0.000   Jarque-Bera (JB):           377007.939\n",
            "Skew:                           0.693   Prob(JB):                         0.00\n",
            "Kurtosis:                      17.414   Cond. No.                         18.0\n",
            "==============================================================================\n",
            "\n",
            "Notes:\n",
            "[1] Standard Errors assume that the covariance matrix of the errors is correctly specified.\n"
          ]
        }
      ]
    },
    {
      "cell_type": "markdown",
      "source": [
        "Начальная ситуация, параметр $x_5$ имеет наибольшее значение $p-value$, так что нужно выбросить данный параметр и перестроить модель. Будем также оценивать $RMSE$ (вначале $= 1149.9905$)."
      ],
      "metadata": {
        "id": "hdIfHT1U73v8"
      }
    },
    {
      "cell_type": "code",
      "source": [
        "# Выбрасываем столбец и заново строим модель (иначе результаты будут неверны).\n",
        "X_start = X_start.drop(['y'], axis=1)\n",
        "X_train, X_test, y_train, y_test = train_test_split(X_start, y, test_size=0.2, random_state=17)\n",
        "\n",
        "scaler = StandardScaler()\n",
        "X_train_scaled = scaler.fit_transform(X_train)\n",
        "X_test_scaled = scaler.transform(X_test)\n",
        "X_train_scaled = sm.add_constant(X_train_scaled)\n",
        "X_test_scaled = sm.add_constant(X_test_scaled)\n",
        "\n",
        "model = sm.OLS(y_train, X_train_scaled);\n",
        "linear_trained = model.fit()\n",
        "y_pred = linear_trained.predict(X_test_scaled)\n",
        "\n",
        "print(linear_trained.summary())\n",
        "print(\"Test RMSE = %.4f\" % sqrt(mean_squared_error(y_test, y_pred)))"
      ],
      "metadata": {
        "colab": {
          "base_uri": "https://localhost:8080/"
        },
        "id": "Y0WbP_0x8FPq",
        "outputId": "e7e31442-14d4-44bc-cc6d-4cc656600f52"
      },
      "execution_count": 256,
      "outputs": [
        {
          "output_type": "stream",
          "name": "stdout",
          "text": [
            "                            OLS Regression Results                            \n",
            "==============================================================================\n",
            "Dep. Variable:                  price   R-squared:                       0.920\n",
            "Model:                            OLS   Adj. R-squared:                  0.920\n",
            "Method:                 Least Squares   F-statistic:                 2.259e+04\n",
            "Date:                Sun, 16 Oct 2022   Prob (F-statistic):               0.00\n",
            "Time:                        14:43:32   Log-Likelihood:            -3.6439e+05\n",
            "No. Observations:               43152   AIC:                         7.288e+05\n",
            "Df Residuals:                   43129   BIC:                         7.290e+05\n",
            "Df Model:                          22                                         \n",
            "Covariance Type:            nonrobust                                         \n",
            "==============================================================================\n",
            "                 coef    std err          t      P>|t|      [0.025      0.975]\n",
            "------------------------------------------------------------------------------\n",
            "const       3928.6813      5.417    725.284      0.000    3918.064    3939.298\n",
            "x1          5386.8289     26.202    205.592      0.000    5335.473    5438.184\n",
            "x2           -97.9959      7.131    -13.742      0.000    -111.973     -84.019\n",
            "x3           -61.7101      7.246     -8.516      0.000     -75.913     -47.507\n",
            "x4         -1183.9159     35.302    -33.537      0.000   -1253.108   -1114.724\n",
            "x5           -31.4348     24.591     -1.278      0.201     -79.633      16.764\n",
            "x6           -32.9954      7.076     -4.663      0.000     -46.865     -19.126\n",
            "x7           -40.7809      6.603     -6.176      0.000     -53.723     -27.839\n",
            "x8           -72.4362      6.490    -11.161      0.000     -85.157     -59.716\n",
            "x9          -141.0539      6.322    -22.313      0.000    -153.444    -128.664\n",
            "x10          -85.4802      7.667    -11.149      0.000    -100.507     -70.453\n",
            "x11         -109.4889      7.667    -14.281      0.000    -124.516     -94.462\n",
            "x12         -197.5322      8.003    -24.682      0.000    -213.218    -181.846\n",
            "x13         -361.3156      7.559    -47.801      0.000    -376.131    -346.500\n",
            "x14         -447.7359      7.087    -63.178      0.000    -461.626    -433.845\n",
            "x15         -527.3816      6.460    -81.643      0.000    -540.043    -514.721\n",
            "x16          -86.4059      9.109     -9.486      0.000    -104.260     -68.552\n",
            "x17         -120.1673     10.080    -11.921      0.000    -139.925    -100.409\n",
            "x18         -281.4570     11.889    -23.674      0.000    -304.759    -258.155\n",
            "x19         -455.3279     13.560    -33.580      0.000    -481.905    -428.751\n",
            "x20         -722.7843     13.922    -51.915      0.000    -750.073    -695.496\n",
            "x21         -998.0296     12.705    -78.552      0.000   -1022.932    -973.127\n",
            "x22         -615.4921      6.585    -93.475      0.000    -628.398    -602.586\n",
            "==============================================================================\n",
            "Omnibus:                    11910.376   Durbin-Watson:                   2.000\n",
            "Prob(Omnibus):                  0.000   Jarque-Bera (JB):           377041.036\n",
            "Skew:                           0.693   Prob(JB):                         0.00\n",
            "Kurtosis:                      17.415   Cond. No.                         14.7\n",
            "==============================================================================\n",
            "\n",
            "Notes:\n",
            "[1] Standard Errors assume that the covariance matrix of the errors is correctly specified.\n",
            "Test RMSE = 1149.9958\n"
          ]
        }
      ]
    },
    {
      "cell_type": "markdown",
      "source": [
        "Теперь параметр $x_5$ уже в новой модели (то есть это другой параметр) имеет наибольшее значение $p-value$, так что нужно выбросить данный параметр и перестроить модель."
      ],
      "metadata": {
        "id": "ihNvVQJM-QC7"
      }
    },
    {
      "cell_type": "code",
      "source": [
        "# Выбрасываем столбец и заново строим модель (иначе результаты будут неверны).\n",
        "X_start = X_start.drop(['z'], axis=1)\n",
        "X_train, X_test, y_train, y_test = train_test_split(X_start, y, test_size=0.2, random_state=17)\n",
        "\n",
        "scaler = StandardScaler()\n",
        "X_train_scaled = scaler.fit_transform(X_train)\n",
        "X_test_scaled = scaler.transform(X_test)\n",
        "X_train_scaled = sm.add_constant(X_train_scaled)\n",
        "X_test_scaled = sm.add_constant(X_test_scaled)\n",
        "\n",
        "model = sm.OLS(y_train, X_train_scaled);\n",
        "linear_trained = model.fit()\n",
        "y_pred = linear_trained.predict(X_test_scaled)\n",
        "\n",
        "print(linear_trained.summary())\n",
        "print(\"Test RMSE = %.4f\" % sqrt(mean_squared_error(y_test, y_pred)))"
      ],
      "metadata": {
        "colab": {
          "base_uri": "https://localhost:8080/"
        },
        "id": "5-B6lovl-d--",
        "outputId": "4a875a72-8405-41a3-e583-1b8a7ef7380f"
      },
      "execution_count": 257,
      "outputs": [
        {
          "output_type": "stream",
          "name": "stdout",
          "text": [
            "                            OLS Regression Results                            \n",
            "==============================================================================\n",
            "Dep. Variable:                  price   R-squared:                       0.920\n",
            "Model:                            OLS   Adj. R-squared:                  0.920\n",
            "Method:                 Least Squares   F-statistic:                 2.366e+04\n",
            "Date:                Sun, 16 Oct 2022   Prob (F-statistic):               0.00\n",
            "Time:                        14:43:32   Log-Likelihood:            -3.6439e+05\n",
            "No. Observations:               43152   AIC:                         7.288e+05\n",
            "Df Residuals:                   43130   BIC:                         7.290e+05\n",
            "Df Model:                          21                                         \n",
            "Covariance Type:            nonrobust                                         \n",
            "==============================================================================\n",
            "                 coef    std err          t      P>|t|      [0.025      0.975]\n",
            "------------------------------------------------------------------------------\n",
            "const       3928.6813      5.417    725.278      0.000    3918.064    3939.298\n",
            "x1          5386.4129     26.200    205.590      0.000    5335.061    5437.765\n",
            "x2          -101.6578      6.531    -15.567      0.000    -114.458     -88.858\n",
            "x3           -61.5921      7.246     -8.500      0.000     -75.794     -47.390\n",
            "x4         -1214.1301     26.222    -46.303      0.000   -1265.525   -1162.735\n",
            "x5           -32.8024      7.075     -4.637      0.000     -46.669     -18.936\n",
            "x6           -41.0011      6.601     -6.212      0.000     -53.939     -28.063\n",
            "x7           -72.4433      6.490    -11.162      0.000     -85.164     -59.723\n",
            "x8          -141.0532      6.322    -22.313      0.000    -153.444    -128.663\n",
            "x9           -85.5423      7.667    -11.158      0.000    -100.569     -70.516\n",
            "x10         -109.4874      7.667    -14.281      0.000    -124.514     -94.460\n",
            "x11         -197.4893      8.003    -24.677      0.000    -213.175    -181.803\n",
            "x12         -361.2907      7.559    -47.797      0.000    -376.106    -346.475\n",
            "x13         -447.7187      7.087    -63.175      0.000    -461.609    -433.828\n",
            "x14         -527.3966      6.460    -81.645      0.000    -540.058    -514.736\n",
            "x15          -86.3706      9.109     -9.482      0.000    -104.225     -68.516\n",
            "x16         -120.1225     10.080    -11.916      0.000    -139.880    -100.365\n",
            "x17         -281.4686     11.889    -23.675      0.000    -304.771    -258.166\n",
            "x18         -455.2358     13.560    -33.573      0.000    -481.813    -428.659\n",
            "x19         -722.6711     13.922    -51.907      0.000    -749.959    -695.383\n",
            "x20         -997.9196     12.705    -78.544      0.000   -1022.822    -973.017\n",
            "x21         -615.3426      6.584    -93.466      0.000    -628.247    -602.439\n",
            "==============================================================================\n",
            "Omnibus:                    11910.897   Durbin-Watson:                   2.000\n",
            "Prob(Omnibus):                  0.000   Jarque-Bera (JB):           377224.072\n",
            "Skew:                           0.693   Prob(JB):                         0.00\n",
            "Kurtosis:                      17.418   Cond. No.                         10.8\n",
            "==============================================================================\n",
            "\n",
            "Notes:\n",
            "[1] Standard Errors assume that the covariance matrix of the errors is correctly specified.\n",
            "Test RMSE = 1150.0196\n"
          ]
        }
      ]
    },
    {
      "cell_type": "markdown",
      "source": [
        "После удаления двух параметров (которые и были указаны, как незначимые, в задании №3) больше нет высоких значений $p-value$, то есть удаление нужно прекратить. Однако, как и было указано выше, качественные характеристики при таком подходе немного ухудшились."
      ],
      "metadata": {
        "id": "3K-8mGNyAfKr"
      }
    },
    {
      "cell_type": "code",
      "source": [
        "# После манипуляций в 4 номере возвращаем исходные данные.\n",
        "X_train, X_test, y_train, y_test = train_test_split(X, y, test_size=0.2, random_state=17)\n",
        "scaler = StandardScaler()\n",
        "X_train_scaled = scaler.fit_transform(X_train)\n",
        "X_test_scaled = scaler.transform(X_test)\n",
        "\n",
        "X_train_scaled = sm.add_constant(X_train_scaled)\n",
        "X_test_scaled = sm.add_constant(X_test_scaled)"
      ],
      "metadata": {
        "id": "ATSRExtmMkWD"
      },
      "execution_count": 258,
      "outputs": []
    },
    {
      "cell_type": "markdown",
      "metadata": {
        "id": "GH5gStHh_XPo"
      },
      "source": [
        "#### 5. [1 point] Find the best (in terms of RMSE) $\\alpha$ for Lasso regression using cross-validation with 4 folds. You must select values from range $[10^{-4}, 10^{3}]$."
      ]
    },
    {
      "cell_type": "code",
      "execution_count": 259,
      "metadata": {
        "id": "qI0hpAUM_XPo",
        "colab": {
          "base_uri": "https://localhost:8080/"
        },
        "outputId": "4ff9a4cb-df8b-443a-8e9a-5944411a7169"
      },
      "outputs": [
        {
          "output_type": "stream",
          "name": "stdout",
          "text": [
            "Best alpha = 0.7197\n"
          ]
        }
      ],
      "source": [
        "alphas = np.logspace(-4, 3)\n",
        "searcher = GridSearchCV(Lasso(), [{\"alpha\": alphas}], scoring=\"neg_root_mean_squared_error\", cv=4)\n",
        "searcher.fit(X_train_scaled, y_train)\n",
        "\n",
        "best_alpha = searcher.best_params_[\"alpha\"]\n",
        "print(\"Best alpha = %.4f\" % best_alpha)"
      ]
    },
    {
      "cell_type": "markdown",
      "metadata": {
        "id": "ejHtLXaC_XPp"
      },
      "source": [
        "## Gradient descent\n",
        "\n",
        "#### 6. [3.5 points] Implement a Ridge regression model for the MSE loss function, trained by gradient descent.\n",
        "\n",
        "All calculations must be vectorized, and python loops can only be used for gradient descent iterations. As a stop criterion, you must use (simultaneously):\n",
        "\n",
        "* checking for the Absolute-value norm of the weight difference on two adjacent iterations (for example, less than some small number of the order of $10^{-6}$, set by the `tolerance` parameter);\n",
        "* reaching the maximum number of iterations (for example, 10000, set by the `max_iter` parameter).\n",
        "\n",
        "You need to implement:\n",
        "\n",
        "* Full gradient descent:\n",
        "\n",
        "$$\n",
        "w_{k + 1} = w_{k} - \\eta_{k} \\nabla_{w} Q(w_{k}).\n",
        "$$\n",
        "\n",
        "* Stochastic Gradient Descent:\n",
        "\n",
        "$$\n",
        "w_{k + 1} = w_{k} - \\eta_{k} \\nabla_{w} q_{i_{k}}(w_{k}).\n",
        "$$\n",
        "\n",
        "$\\nabla_{w} q_{i_{k}}(w_{k}) \\, $ is the estimate of the gradient over the batch of objects selected randomly.\n",
        "\n",
        "* Momentum method:\n",
        "\n",
        "$$\n",
        "h_0 = 0, \\\\\n",
        "h_{k + 1} = \\alpha h_{k} + \\eta_k \\nabla_{w} Q(w_{k}), \\\\\n",
        "w_{k + 1} = w_{k} - h_{k + 1}.\n",
        "$$\n",
        "\n",
        "* Adagrad method:\n",
        "\n",
        "$$\n",
        "G_0 = 0, \\\\\n",
        "G_{k + 1} = G_{k} + (\\nabla_{w} Q(w_{k+1}))^2, \\\\\n",
        "w_{k + 1} = w_{k} - \\eta * \\frac{\\nabla_{w} Q(w_{k+1})}{\\sqrt{G_{k+1} + \\epsilon}}.\n",
        "$$\n",
        "\n",
        "\n",
        "\n",
        "To make sure that the optimization process really converges, we will use the `loss_history` class attribute. After calling the `fit` method, it should contain the values of the loss function for all iterations, starting from the first one (before the first step on the anti-gradient).\n",
        "\n",
        "You need to initialize the weights with a random vector from normal distribution. The following is a template class that needs to contain the code implementing all variations of the models."
      ]
    },
    {
      "cell_type": "markdown",
      "source": [
        "Честно признаюсь: метод $Adagrad$ не получилось реализовать верно, что-то ломается..."
      ],
      "metadata": {
        "id": "8sRNitx0PkI5"
      }
    },
    {
      "cell_type": "code",
      "execution_count": 260,
      "metadata": {
        "id": "_M3mZN0k_XPq"
      },
      "outputs": [],
      "source": [
        "from sklearn.metrics._plot.precision_recall_curve import precision_recall_curve\n",
        "from sklearn.base import BaseEstimator\n",
        "\n",
        "class LinReg(BaseEstimator):\n",
        "    def __init__(self, delta=1.0, gd_type='Momentum', \n",
        "                 tolerance=1e-4, max_iter=1000, w0=None, eta=1e-2, alpha=1e-3, reg_cf=0.0, epsilon = 1e-9):\n",
        "        \"\"\"\n",
        "        gd_type: str\n",
        "            'GradientDescent', 'StochasticDescent', 'Momentum', 'Adagrad'\n",
        "        delta: float\n",
        "            proportion of object in a batch (for stochastic GD)\n",
        "        tolerance: float\n",
        "            for stopping gradient descent\n",
        "        max_iter: int\n",
        "            maximum number of steps in gradient descent\n",
        "        w0: np.array of shape (d)\n",
        "            init weights\n",
        "        eta: float\n",
        "            learning rate\n",
        "        alpha: float\n",
        "            momentum coefficient\n",
        "        reg_cf: float\n",
        "            regularization coefficient\n",
        "        epsilon: float\n",
        "            numerical stability\n",
        "        \"\"\"\n",
        "        \n",
        "        self.delta = delta\n",
        "        self.gd_type = gd_type\n",
        "        self.tolerance = tolerance\n",
        "        self.max_iter = max_iter\n",
        "        self.w0 = w0\n",
        "        self.alpha = alpha\n",
        "        self.w = None\n",
        "        self.eta = eta\n",
        "        self.loss_history = None # list of loss function values at each training iteration\n",
        "        self.reg_cf = reg_cf  # Коэффициент регуляризации, в документации вроде был указан.\n",
        "        self.momentum = 0  # Введем дополнительную переменную (h) для метода Momentum.\n",
        "        self.adagrad = 0  # Введем дополнительную переменную (G) для метода Adagrad.\n",
        "        self.epsilon = epsilon\n",
        "    \n",
        "    def fit(self, X, y):\n",
        "        \"\"\"\n",
        "        X: np.array of shape (l, d)\n",
        "        y: np.array of shape (l)\n",
        "        ---\n",
        "        output: self\n",
        "        \"\"\"\n",
        "        self.loss_history = []\n",
        "        X = np.array(X)\n",
        "        y = np.array(y)\n",
        "        \n",
        "        # Начальное заполнение весов.\n",
        "        if self.w0 is None:\n",
        "          self.w0 = np.zeros(X.shape[1])\n",
        "        self.w = self.w0\n",
        "\n",
        "        self.loss_history.append(self.calc_loss(X, y))\n",
        "        # Учитываем условия остановки в цикле - max_iter и tolerance.\n",
        "        for i in range(self.max_iter):\n",
        "          current_gradient = self.calc_gradient(X, y)\n",
        "          if np.linalg.norm(current_gradient) < self.tolerance:\n",
        "            break\n",
        "          self.w = self.w - current_gradient\n",
        "          self.loss_history.append(self.calc_loss(X, y))\n",
        "\n",
        "        return self\n",
        "    \n",
        "\n",
        "    def predict(self, X):\n",
        "        if self.w is None:\n",
        "            raise Exception('Not trained yet')\n",
        "        # Матричное умножение на веса.\n",
        "        return X @ self.w.T\n",
        "    \n",
        "    \n",
        "    def calc_gradient(self, X, y):\n",
        "        \"\"\"\n",
        "        X: np.array of shape (l, d) (l can be equal to 1 if stochastic)\n",
        "        y: np.array of shape (l)\n",
        "        ---\n",
        "        output: np.array of shape (d)\n",
        "        \"\"\"\n",
        "        # Параметр delta только для SGD, для остальных по условию delta = 1.0\n",
        "        batch_size = int(X.shape[0] * self.delta)\n",
        "        rand_data = np.random.randint(0, X.shape[0], batch_size)\n",
        "        X = X[rand_data, :]\n",
        "        y = y[rand_data]\n",
        "\n",
        "        # Основная формула градиента для Ridge модели.\n",
        "        gradient = -2 * np.dot(X.T, y - np.dot(X, self.w)) / batch_size + 2 * self.reg_cf * self.w\n",
        "        gradient *= self.eta\n",
        "\n",
        "        if self.gd_type == 'Momentum':\n",
        "          gradient += self.momentum * self.alpha  # Прибавляем коэффициент из формулы для метода Momentum.\n",
        "          self.momentum = gradient\n",
        "        \n",
        "        if self.gd_type == 'Adagrad':\n",
        "          gradient /= self.eta\n",
        "          self.adagrad += gradient.dot(gradient)\n",
        "          return self.eta * (gradient) / np.sqrt(self.adagrad + self.epsilon)\n",
        "\n",
        "        return gradient\n",
        "\n",
        "\n",
        "    def calc_loss(self, X, y):\n",
        "        \"\"\"\n",
        "        X: np.array of shape (l, d)\n",
        "        y: np.array of shape (l)\n",
        "        ---\n",
        "        output: float \n",
        "        \"\"\" \n",
        "        prediction = self.predict(X)\n",
        "        # Используем формулу MSE с учетом смещения.\n",
        "        return np.sum((y - prediction) ** 2) / y.shape[0] + self.reg_cf * np.sum(self.w ** 2)"
      ]
    },
    {
      "cell_type": "markdown",
      "metadata": {
        "id": "v-OTQML7_XPq"
      },
      "source": [
        "#### 7. [1 points] Train and validate \"hand-written\" models on the same data, and compare the quality with the Sklearn or StatsModels methods. Investigate the effect of the `max_iter` and `alpha` parameters on the optimization process. Is it consistent with your expectations?"
      ]
    },
    {
      "cell_type": "markdown",
      "source": [
        "Для разнообразия в этом задании будем использовать модель Sklearn, так как для модели StatsModels уже найдены все параметры в задании 2. "
      ],
      "metadata": {
        "id": "DQDwFkNoWZ5I"
      }
    },
    {
      "cell_type": "code",
      "execution_count": 261,
      "metadata": {
        "id": "cJnKVVcf_XPr",
        "colab": {
          "base_uri": "https://localhost:8080/"
        },
        "outputId": "09d5792b-9c52-40eb-c591-5d9185ae8df0"
      },
      "outputs": [
        {
          "output_type": "stream",
          "name": "stdout",
          "text": [
            "Ridge:\n",
            "Test RMSE = 1149.9456\n",
            "Test R2 = 0.9183\n",
            "LinReg:\n",
            "Test RMSE = 1231.7944\n",
            "Test R2 = 0.9063\n"
          ]
        }
      ],
      "source": [
        "np.random.seed(0)\n",
        "model = Ridge()\n",
        "sk_ridge_trained = model.fit(X_train_scaled, y_train)\n",
        "\n",
        "# Прогнозные значения.\n",
        "y_pred = sk_ridge_trained.predict(X_test_scaled)\n",
        "print(\"Ridge:\")\n",
        "print(\"Test RMSE = %.4f\" % sqrt(mean_squared_error(y_test, y_pred)))\n",
        "print(\"Test R2 = %.4f\" % r2_score(y_test, y_pred))\n",
        "\n",
        "lr = LinReg()\n",
        "lr.fit(X_train_scaled, y_train)\n",
        "lr_pred = lr.predict(X_test_scaled)\n",
        "print(\"LinReg:\")\n",
        "print(\"Test RMSE = %.4f\" % sqrt(mean_squared_error(y_test, lr_pred)))\n",
        "print(\"Test R2 = %.4f\" % r2_score(y_test, lr_pred))"
      ]
    },
    {
      "cell_type": "markdown",
      "source": [
        "Мы видим, что собственная модель показала результаты хуже, чем модель Sklearn: выросло значение $RMSE$ и уменьшилось значение $R^2$."
      ],
      "metadata": {
        "id": "MiUpDHebSX5q"
      }
    },
    {
      "cell_type": "markdown",
      "source": [
        "Для параметров $max\\_iter$ и $alpha$ найдем наилучшие значения с помощью метода, аналогичного заданию №5 и материалам семинара."
      ],
      "metadata": {
        "id": "nofrXh-S9D58"
      }
    },
    {
      "cell_type": "code",
      "source": [
        "np.random.seed(0)\n",
        "\n",
        "# Условный набор значений параметра alpha.\n",
        "alphas = [1e-4, 1e-3, 1e-2, 1e-1, 0.5, 0.9]\n",
        "searcher = GridSearchCV(LinReg(), [{\"alpha\": alphas}], scoring=\"neg_mean_squared_error\", cv=5)\n",
        "searcher.fit(X_train_scaled, y_train)\n",
        "\n",
        "best_alpha = searcher.best_params_[\"alpha\"]\n",
        "print(\"Best alpha = %.4f\" % best_alpha)\n",
        "\n",
        "plt.plot(alphas, -searcher.cv_results_[\"mean_test_score\"])\n",
        "plt.xlabel(\"alpha\")\n",
        "plt.ylabel(\"CV score\")"
      ],
      "metadata": {
        "colab": {
          "base_uri": "https://localhost:8080/",
          "height": 331
        },
        "id": "L88sIp4i9t3U",
        "outputId": "cb3b1d3c-ac4e-444c-c152-7c13d496f1db"
      },
      "execution_count": 262,
      "outputs": [
        {
          "output_type": "stream",
          "name": "stdout",
          "text": [
            "Best alpha = 0.9000\n"
          ]
        },
        {
          "output_type": "execute_result",
          "data": {
            "text/plain": [
              "Text(0, 0.5, 'CV score')"
            ]
          },
          "metadata": {},
          "execution_count": 262
        },
        {
          "output_type": "display_data",
          "data": {
            "text/plain": [
              "<Figure size 432x288 with 1 Axes>"
            ],
            "image/png": "[encoded data removed]"
          },
          "metadata": {}
        }
      ]
    },
    {
      "cell_type": "markdown",
      "source": [
        "Согласно графику, чем выше значение параметра $alpha$, тем лучше. Например, в тестовой выборке наилучшим оказалось значение $0.9$."
      ],
      "metadata": {
        "id": "jWF-VplqNFr3"
      }
    },
    {
      "cell_type": "code",
      "source": [
        "np.random.seed(0)\n",
        "\n",
        "# Условный набор значений итераций.\n",
        "max_iter = [1, 5, 10, 50, 100, 500, 1000, 1500]\n",
        "searcher = GridSearchCV(LinReg(), [{\"max_iter\": max_iter}], scoring=\"neg_mean_squared_error\", cv=5)\n",
        "searcher.fit(X_train_scaled, y_train)\n",
        "\n",
        "best_max = searcher.best_params_[\"max_iter\"]\n",
        "print(\"Best max_iter = %.4f\" % best_max)\n",
        "\n",
        "plt.plot(max_iter, -searcher.cv_results_[\"mean_test_score\"])\n",
        "plt.xlabel(\"max_iter\")\n",
        "plt.ylabel(\"CV score\")"
      ],
      "metadata": {
        "colab": {
          "base_uri": "https://localhost:8080/",
          "height": 331
        },
        "id": "2EDzobMvt_RR",
        "outputId": "df9b0248-5059-48a8-d75d-3e0e4b8407ec"
      },
      "execution_count": 263,
      "outputs": [
        {
          "output_type": "stream",
          "name": "stdout",
          "text": [
            "Best max_iter = 1500.0000\n"
          ]
        },
        {
          "output_type": "execute_result",
          "data": {
            "text/plain": [
              "Text(0, 0.5, 'CV score')"
            ]
          },
          "metadata": {},
          "execution_count": 263
        },
        {
          "output_type": "display_data",
          "data": {
            "text/plain": [
              "<Figure size 432x288 with 1 Axes>"
            ],
            "image/png": "[encoded data removed]"
          },
          "metadata": {}
        }
      ]
    },
    {
      "cell_type": "markdown",
      "source": [
        "На графике видно, что адекватные значения начинаются при $max_iter > 100$, после чего лишь незначительные улучшения.   \n",
        "Я предполагала, что рост числа итераций благоприятно сказывается на процессе оптимизации, так что ожидания совпали 🦾"
      ],
      "metadata": {
        "id": "5vbkEvYUAE0S"
      }
    },
    {
      "cell_type": "markdown",
      "metadata": {
        "id": "ZNHrzWOs_XPr"
      },
      "source": [
        "#### 8. [1 points] Plot graphs (on the same picture) of the dependence of the loss function value on the iteration number for Full GD, SGD, Momentum and Adagrad. Draw conclusions about the rate of convergence of various modifications of gradient descent.\n",
        "\n",
        "Don't forget about what *beautiful* graphics should look like!"
      ]
    },
    {
      "cell_type": "code",
      "execution_count": 266,
      "metadata": {
        "id": "bXclxnZo_XPs",
        "colab": {
          "base_uri": "https://localhost:8080/",
          "height": 1000
        },
        "outputId": "7d5c143a-2cd2-4bcd-b6d3-a39e6d7c37d7"
      },
      "outputs": [
        {
          "output_type": "display_data",
          "data": {
            "text/plain": [
              "<Figure size 1440x2160 with 1 Axes>"
            ],
            "image/png": "[encoded data removed]"
          },
          "metadata": {}
        }
      ],
      "source": [
        "np.random.seed(0)\n",
        "\n",
        "# Full GD.\n",
        "fgd = LinReg(gd_type='GradientDescent')\n",
        "fgd.fit(X_train_scaled, y_train)\n",
        "\n",
        "# SGD.\n",
        "sgd = LinReg(gd_type='StochasticDescent', delta = 0.001)\n",
        "sgd.fit(X_train_scaled, y_train)\n",
        "\n",
        "# Momentum (маленькая alpha по умолчанию).\n",
        "momentum1 = LinReg(gd_type='Momentum')\n",
        "momentum1.fit(X_train_scaled, y_train)\n",
        "\n",
        "# Momentum с настроенной alpha.\n",
        "momentum2 = LinReg(gd_type='Momentum', alpha = 0.5)\n",
        "momentum2.fit(X_train_scaled, y_train)\n",
        "\n",
        "\n",
        "# Adagrad.\n",
        "adagrad = LinReg(gd_type='Adagrad')\n",
        "adagrad.fit(X_train_scaled, y_train)\n",
        "\n",
        "x = np.array(range(len(fgd.loss_history)))\n",
        "plt.figure(figsize=(20, 30))\n",
        "\n",
        "plt.plot(x, fgd.loss_history, label=\"GradientDescent\")\n",
        "plt.plot(x, sgd.loss_history, label=\"StochasticDescent\")\n",
        "plt.plot(x, momentum1.loss_history, label=\"Momentum 0.001\")\n",
        "plt.plot(x, momentum2.loss_history, label=\"Momentum 0.5\")\n",
        "\n",
        "plt.plot(x, adagrad.loss_history, label=\"Adagrad\")\n",
        "plt.ylim(1000000, 35000000)\n",
        "plt.legend()\n",
        "plt.show()"
      ]
    },
    {
      "cell_type": "markdown",
      "source": [
        "По графику видно, что с ростом количества итераций все методы пытаются сойтись к единому значению. При этом наиболее \"плавной\" сходиомстью обладает Full GD, с ним вровень идет метод $Momentum$ со значением параметра $alpha$ по умолчанию. При этом метод $Momentum$ со заданным значением параметра $alpha$ (более высоким), быстрее сходится к необходимому значению. Метод $StochasticDescent$ самый \"непостоянный\", наблюдаются сильные колебания при попытке сходиомсти.   \n",
        "Ну а $Adagrad$ просто наевся и спит..."
      ],
      "metadata": {
        "id": "GxrpMmVXXE6w"
      }
    }
  ],
  "metadata": {
    "kernelspec": {
      "display_name": "Python 3 (ipykernel)",
      "language": "python",
      "name": "python3"
    },
    "language_info": {
      "codemirror_mode": {
        "name": "ipython",
        "version": 3
      },
      "file_extension": ".py",
      "mimetype": "text/x-python",
      "name": "python",
      "nbconvert_exporter": "python",
      "pygments_lexer": "ipython3",
      "version": "3.8.11"
    },
    "colab": {
      "provenance": [],
      "collapsed_sections": []
    }
  },
  "nbformat": 4,
  "nbformat_minor": 0
}