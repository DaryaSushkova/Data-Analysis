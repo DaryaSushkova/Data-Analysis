{
  "cells": [
    {
      "cell_type": "markdown",
      "metadata": {
        "id": "EIGXCEN8UkD4"
      },
      "source": [
        "# HSE 2021: Mathematical Methods for Data Analysis\n",
        "\n",
        "## Homework 4\n",
        "\n",
        "**Warning 1**: You have 2 weeks for this assignemnt.  **it is better to start early (!)**\n",
        "\n",
        "**Warning 2**: it is critical to describe and explain what you are doing and why, use markdown cells\n",
        "\n",
        "\n",
        "### Contents\n",
        "\n",
        "#### Decision Trees - 7 points\n",
        "* [Task 1](#task1) (0.5 points)\n",
        "* [Task 2](#task2) (0.5 points)\n",
        "* [Task 3](#task3) (2 points)\n",
        "* [Task 4](#task4) (0.5 points)\n",
        "* [Task 5](#task5) (0.5 points)\n",
        "* [Task 6](#task6) (2 points)\n",
        "* [Task 7](#task7) (0.5 points)\n",
        "* [Task 8](#task8) (0.5 points)\n",
        "\n",
        "#### Ensembles - 3 points\n",
        "* [Task 1](#task2_1) (1 point)\n",
        "* [Task 2](#task2_2) (0.7 points)\n",
        "* [Task 3](#task2_3) (0.5 points)\n",
        "* [Task 4](#task2_4) (0.7 points)\n",
        "* [Task 5](#task2_5) (0.1 points)"
      ]
    },
    {
      "cell_type": "code",
      "execution_count": null,
      "metadata": {
        "id": "CA00JUDnUkD7"
      },
      "outputs": [],
      "source": [
        "import matplotlib.pyplot as plt\n",
        "import numpy as np\n",
        "import pandas as pd\n",
        "\n",
        "plt.rcParams['figure.figsize'] = (11, 5)\n",
        "%matplotlib inline"
      ]
    },
    {
      "cell_type": "markdown",
      "metadata": {
        "id": "yUzQhWcBUkD9"
      },
      "source": [
        "# Part 1. Decision Tree Regressor"
      ]
    },
    {
      "cell_type": "markdown",
      "metadata": {
        "id": "CbIK2bMAUkD9"
      },
      "source": [
        "In this task you will be implementing decision tree for the regression by hand. "
      ]
    },
    {
      "cell_type": "markdown",
      "metadata": {
        "id": "yfIE-VprUkD9"
      },
      "source": [
        "### Task 1 <a id=\"task1\"></a> (0.5 points)\n",
        "\n",
        "Here you should implement the function `H()` which calculates impurity criterion. We will be training regression tree, and will take mean absolute deviation as impurity criterion.\n",
        "\n",
        "* You cannot use loops\n",
        "* If `y` is empty, the function should return 0"
      ]
    },
    {
      "cell_type": "code",
      "execution_count": null,
      "metadata": {
        "id": "u94Xad3DUkD-"
      },
      "outputs": [],
      "source": [
        "def H(y):\n",
        "    \"\"\"\n",
        "    Calculate impurity criterion\n",
        "    \n",
        "    Parameters\n",
        "    ----------\n",
        "    y : np.array\n",
        "        array of objects target values in the node\n",
        "\n",
        "    Returns\n",
        "    -------\n",
        "    H(R) : float\n",
        "        Impurity in the node (measuread by variance)\n",
        "    \"\"\"\n",
        "    if len(y) == 0:\n",
        "      return 0\n",
        "    else:\n",
        "      series = pd.Series(y)\n",
        "      result = series.mad()\n",
        "      return result"
      ]
    },
    {
      "cell_type": "code",
      "execution_count": null,
      "metadata": {
        "id": "ApJMS-CuUkD_"
      },
      "outputs": [],
      "source": [
        "# Test the function\n",
        "assert np.allclose(H(np.array([4, 2, 2, 2])), 0.75)\n",
        "assert np.allclose(H(np.array([])), 0.0)"
      ]
    },
    {
      "cell_type": "markdown",
      "metadata": {
        "id": "Qdc_PZfOUkD_"
      },
      "source": [
        "### Task 2 <a id=\"task2\"></a>  (0.5 points)\n",
        "\n",
        "To find the best split in the node we need to calculate the cost function. Denote: \n",
        "- `R` all the object in the node\n",
        "- `j` index of the feature selected for the split\n",
        "- `t` threshold\n",
        "- `R_l` and `R_r` objects in the left and right child nodes correspondingly\n",
        "\n",
        "We get the following cost function:\n",
        "\n",
        "$$\n",
        "Q(R, j, t) =\\frac{|R_\\ell|}{|R|}H(R_\\ell) + \\frac{|R_r|}{|R|}H(R_r) \\to \\min_{j, t},\n",
        "$$\n",
        "\n",
        "Implement the function `Q`, which should calculate value of the cost function for a given feature and threshold."
      ]
    },
    {
      "cell_type": "code",
      "execution_count": null,
      "metadata": {
        "id": "y0tZqNTnUkEA"
      },
      "outputs": [],
      "source": [
        "def Q(X, y, j, t):\n",
        "    \"\"\"\n",
        "    Calculate cost function\n",
        "    Parameters\n",
        "    ----------\n",
        "    X : ndarray\n",
        "        array of objects in the node \n",
        "    y : ndarray\n",
        "        array of target values in the node \n",
        "    j : int\n",
        "        feature index (column in X)\n",
        "    t : float\n",
        "        threshold\n",
        "\n",
        "    Returns\n",
        "    -------\n",
        "    Q : float\n",
        "        Value of the cost function\n",
        "    \"\"\"   \n",
        "    is_left = X[:, j] <= t\n",
        "    right = y[is_left]\n",
        "    left = y[~is_left]\n",
        "    Q = H(left) * left.size / X.shape[0]  + H(right) * right.size / X.shape[0]\n",
        "    return Q"
      ]
    },
    {
      "cell_type": "markdown",
      "metadata": {
        "id": "_QtaTog1UkEA"
      },
      "source": [
        "### Task 3 <a id=\"task3\"></a>  (2 points)\n",
        "\n",
        "Now, let's implement `MyDecisionTreeRegressor` class. More specifically, you need to implement the following methods:\n",
        "\n",
        "- `best_split`\n",
        "- `grow_tree`\n",
        "- `get_prediction`\n",
        "\n",
        "Also, please add `min_samples_leaf` parameter to your class\n",
        "\n",
        "Read docstrings for more details. Do not forget to use function `Q` implemented above, when finding the `best_split`"
      ]
    },
    {
      "cell_type": "code",
      "execution_count": null,
      "metadata": {
        "id": "KY3EdVtmUkEB"
      },
      "outputs": [],
      "source": [
        "class Node(object):\n",
        "    \"\"\"\n",
        "    Class for a decision tree node.\n",
        "    \n",
        "    Parameters\n",
        "    ----------\n",
        "    right : Node() or None\n",
        "        Right child\n",
        "    right : Node() or None\n",
        "        Left child\n",
        "    threshold: float\n",
        "        \n",
        "    column: int\n",
        "        \n",
        "    depth: int\n",
        "        \n",
        "    prediction: float\n",
        "        prediction of the target value in the node \n",
        "        (average values calculated on a train dataset)\n",
        "    is_terminal:bool\n",
        "        indicates whether it is a terminal node (leaf) or not\n",
        "    \"\"\"    \n",
        "    def __init__(self):        \n",
        "        self.right = None\n",
        "        self.left = None\n",
        "        self.threshold = None\n",
        "        self.column = None\n",
        "        self.depth = None\n",
        "        self.is_terminal = False\n",
        "        self.prediction = None\n",
        "        \n",
        "    def __repr__(self):\n",
        "        if self.is_terminal:\n",
        "            node_desc = 'Pred: {:.2f}'.format(self.prediction)\n",
        "        else:\n",
        "            node_desc = 'Col {}, t {:.2f}, Pred: {:.2f}'. \\\n",
        "            format(self.column, self.threshold, self.prediction)\n",
        "        return node_desc"
      ]
    },
    {
      "cell_type": "code",
      "execution_count": null,
      "metadata": {
        "id": "x4df4ZrhUkEC"
      },
      "outputs": [],
      "source": [
        "from sklearn.base import BaseEstimator, RegressorMixin\n",
        "from sklearn.utils.validation import check_X_y, check_array, check_is_fitted\n",
        "\n",
        "class MyDecisionTreeRegressor(RegressorMixin, BaseEstimator):\n",
        "    \"\"\"\n",
        "    Class for a Decision Tree Regressor.\n",
        "\n",
        "    Parameters\n",
        "    ----------\n",
        "    max_depth : int\n",
        "        Max depth of a decision tree.\n",
        "    min_samples_split : int\n",
        "        Minimal number of samples (objects) in a node to make a split.\n",
        "    \"\"\" \n",
        "    def __init__(self, max_depth=3, min_samples_split=2, min_samples_leaf=1):\n",
        "        self.max_depth = max_depth\n",
        "        self.min_samples_split = min_samples_split\n",
        "        self.min_samples_leaf = min_samples_leaf\n",
        "            \n",
        "    def best_split(self, X, y):\n",
        "        \"\"\"\n",
        "        Find the best split in terms of Q of data in a given decision tree node. \n",
        "        Try all features and thresholds. \n",
        "        \n",
        "        Parameters\n",
        "        ----------\n",
        "        X : ndarray, shape (n_objects, n_features)\n",
        "            Objects in the parent node\n",
        "        y : ndarray, shape (n_objects, )\n",
        "            1D array with the object labels. \n",
        "            \n",
        "        Returns\n",
        "        -------\n",
        "        best_split_column : int\n",
        "            Index of the best split column\n",
        "        best_threshold : float\n",
        "            The best split condition.\n",
        "        X_left : ndarray, shape (n_objects_l, n_features)\n",
        "            Objects in the left child\n",
        "        y_left : ndarray, shape (n_objects_l, )\n",
        "            Objects labels in the left child. \n",
        "        X_right : ndarray, shape (n_objects_r, n_features)\n",
        "            Objects in the right child\n",
        "        y_right : ndarray, shape (n_objects_r, )\n",
        "            Objects labels in the right child. \n",
        "        \"\"\"\n",
        "        \n",
        "        # To store best split parameters\n",
        "        best_split_column = None\n",
        "        best_threshold = None\n",
        "        # without splitting\n",
        "        best_cost = H(y) \n",
        "        \n",
        "        for index in range(X.shape[1]):\n",
        "          column = X[:, index]\n",
        "          for t in column:\n",
        "            curr_cost = Q(X, y, index, t)\n",
        "            if curr_cost < best_cost:\n",
        "              best_split_column = index\n",
        "              best_threshold = t\n",
        "              best_cost = curr_cost\n",
        "        \n",
        "        # Попросил check_estimator().\n",
        "        if best_split_column is None:\n",
        "          return None, None, None, None, None, None\n",
        "\n",
        "        is_left = X[:, best_split_column] <= best_threshold\n",
        "        X_left = X[is_left, :]\n",
        "        y_left = y[is_left]\n",
        "        X_right = X[~is_left, :]\n",
        "        y_right = y[~is_left]\n",
        "\n",
        "        return best_split_column, best_threshold, X_left, y_left, X_right, y_right\n",
        "    \n",
        "    def is_terminal(self, node, y):\n",
        "        \"\"\"\n",
        "        Check terminality conditions based on `max_depth`, \n",
        "        `min_samples_split` parameters for a given node. \n",
        "        \n",
        "        Parameters\n",
        "        ----------\n",
        "        node : Node, \n",
        "            \n",
        "        y : ndarray, shape (n_objects, )\n",
        "            Object labels. \n",
        "            \n",
        "        Returns\n",
        "        -------\n",
        "        Is_termial : bool\n",
        "            If True, node is terminal\n",
        "        \"\"\"\n",
        "        if node.depth >= self.max_depth:    \n",
        "            return True\n",
        "        if len(y) < self.min_samples_split:   \n",
        "            return True\n",
        "        return False\n",
        "        \n",
        "    def grow_tree(self, node, X, y):\n",
        "        \"\"\"\n",
        "        Reccurently grow the tree from the `node` using a `X` and `y` as a dataset:\n",
        "         - check terminality conditions\n",
        "         - find best split if node is not terminal\n",
        "         - add child nodes to the node\n",
        "         - call the function recursively for the added child nodes\n",
        "        \n",
        "        Parameters\n",
        "        ----------\n",
        "        node : Node() object\n",
        "            Current node of the decision tree.\n",
        "        X : ndarray, shape (n_objects, n_features)\n",
        "            Objects \n",
        "        y : ndarray, shape (n_objects)\n",
        "            Labels\n",
        "        \"\"\"\n",
        "        \n",
        "        # Check terminality conditions\n",
        "        if self.is_terminal(node, y):\n",
        "            node.is_terminal = True\n",
        "            return\n",
        "        \n",
        "        # Find best split if node is not terminal.\n",
        "        best_split_column, best_threshold, X_left, y_left, X_right, y_right = self.best_split(X, y)\n",
        "\n",
        "        if best_split_column == None:\n",
        "          node.is_terminal = True\n",
        "          return\n",
        "        \n",
        "        # min_samples_leaf check\n",
        "        if len(X_left) < self.min_samples_leaf or len(X_right) < self.min_samples_leaf:\n",
        "            node.is_terminal = True\n",
        "            return\n",
        "        \n",
        "        # Устанаваливаем значения метрик для детишек.\n",
        "        node.left = Node()\n",
        "        node.left.depth = node.depth + 1\n",
        "        node.right = Node()\n",
        "        node.right.depth = node.depth + 1\n",
        "        node.left.prediction = np.mean(y_left)\n",
        "        node.right.prediction = np.mean(y_right)\n",
        "\n",
        "        node.column = best_split_column\n",
        "        node.threshold = best_threshold\n",
        "\n",
        "        # Рекурсивный вызов функции для левого и правого ребенков.\n",
        "        self.grow_tree(node.left, X_left, y_left)\n",
        "        self.grow_tree(node.right, X_right, y_right)\n",
        "        \n",
        "\n",
        "    def fit(self, X, y):\n",
        "        \"\"\"\n",
        "        Fit the Decision Tree Regressor.\n",
        "            \n",
        "        Parameters\n",
        "        ----------\n",
        "        X : ndarray, shape (n_samples, n_features)\n",
        "            The input samples.\n",
        "        y : ndarray, shape (n_samples,) or (n_samples, n_outputs)\n",
        "            The target values.\n",
        "        Returns\n",
        "        -------\n",
        "        self : object\n",
        "            Returns self.\n",
        "        \"\"\"\n",
        "        X, y = check_X_y(X, y, accept_sparse=False)\n",
        "        self.is_fitted_ = True\n",
        "        # Попросил check_estimator().\n",
        "        self.n_features_in_ = X.shape[1]\n",
        "        \n",
        "        # Initialize the tree (root node)\n",
        "        self.tree_ = Node()\n",
        "        # Авторское изменение.                             \n",
        "        self.tree_.depth = 0                            \n",
        "        self.tree_.prediction = np.mean(y)\n",
        "        \n",
        "        # Grow the tree\n",
        "        self.grow_tree(self.tree_, X, y)\n",
        "        return self        \n",
        "    \n",
        "    def get_prediction(self, node, x):\n",
        "        \"\"\"\n",
        "        Get prediction for an object `x`\n",
        "            - Return prediction of the `node` if it is terminal\n",
        "            - Otherwise, recursively call the function to get \n",
        "            predictions of the proper child\n",
        "        \n",
        "        Parameters\n",
        "        ----------\n",
        "        node : Node() object\n",
        "            Current node of the decision tree.\n",
        "        x : ndarray, shape (n_features,)\n",
        "            Array of feature values of one object.\n",
        "        Returns\n",
        "        -------\n",
        "        y_pred : float\n",
        "            Prediction for an object x\n",
        "        \"\"\"\n",
        "         # Termination condition.\n",
        "        if node.is_terminal == True:\n",
        "            return node.prediction\n",
        "        \n",
        "        # Run to the current node's childs\n",
        "        # Check split condition. If yes, go to the right child\n",
        "        if x[node.column] > node.threshold:\n",
        "            # Right child\n",
        "            y_pred = self.get_prediction(node.right, x)\n",
        "        else: \n",
        "            # Left child\n",
        "            y_pred = self.get_prediction(node.left, x)\n",
        "\n",
        "        return y_pred\n",
        "    \n",
        "    def predict(self, X):\n",
        "        \"\"\" \n",
        "        Get prediction for each object in X\n",
        "        \n",
        "        Parameters\n",
        "        ----------\n",
        "        X : ndarray, shape (n_samples, n_features)\n",
        "            The input samples.\n",
        "        Returns\n",
        "        -------\n",
        "        y : ndarray, shape (n_samples,)\n",
        "            Returns predictions.\n",
        "        \"\"\"\n",
        "        # Check input and that `fit` had been called\n",
        "        X = check_array(X, accept_sparse=False)\n",
        "        check_is_fitted(self, 'is_fitted_')\n",
        "        \n",
        "        # Get predictions\n",
        "        y_predicted = []\n",
        "        for x in X:\n",
        "            y_curr = self.get_prediction(self.tree_, x)\n",
        "            y_predicted.append(y_curr)\n",
        "        return np.array(y_predicted)\n",
        "\n",
        "    def _more_tags(self):\n",
        "        return {'requires_y': False}"
      ]
    },
    {
      "cell_type": "code",
      "execution_count": null,
      "metadata": {
        "id": "QqNdat0VUkEF"
      },
      "outputs": [],
      "source": [
        "# check yourself\n",
        "from sklearn.utils.estimator_checks import check_estimator\n",
        "\n",
        "check_estimator(MyDecisionTreeRegressor())"
      ]
    },
    {
      "cell_type": "markdown",
      "metadata": {
        "id": "rhneoSDEUkEG"
      },
      "source": [
        "### Task 4 <a id=\"task4\"></a>  (0.5 points)\n",
        "\n",
        "Load boston dataset and split it on the train ($75\\%$) and test ($25\\%$). Fit Decision Tree of depth 1 and make the following plot:\n",
        "\n",
        "- Scatter plot of the traning points (selected for split feature on the x-axis, target variable on the y-axis)\n",
        "- Fitted model "
      ]
    },
    {
      "cell_type": "markdown",
      "source": [
        "При загрузке датасета возникает $warning$, но на результат это не влияет!"
      ],
      "metadata": {
        "id": "29K5pEF7qCmx"
      }
    },
    {
      "cell_type": "code",
      "execution_count": null,
      "metadata": {
        "id": "ogaQaMezUkEG",
        "colab": {
          "base_uri": "https://localhost:8080/"
        },
        "outputId": "781a7190-225b-4f27-acc9-e8a78ebc3974"
      },
      "outputs": [
        {
          "output_type": "stream",
          "name": "stderr",
          "text": [
            "/usr/local/lib/python3.7/dist-packages/sklearn/utils/deprecation.py:87: FutureWarning: Function load_boston is deprecated; `load_boston` is deprecated in 1.0 and will be removed in 1.2.\n",
            "\n",
            "    The Boston housing prices dataset has an ethical problem. You can refer to\n",
            "    the documentation of this function for further details.\n",
            "\n",
            "    The scikit-learn maintainers therefore strongly discourage the use of this\n",
            "    dataset unless the purpose of the code is to study and educate about\n",
            "    ethical issues in data science and machine learning.\n",
            "\n",
            "    In this special case, you can fetch the dataset from the original\n",
            "    source::\n",
            "\n",
            "        import pandas as pd\n",
            "        import numpy as np\n",
            "\n",
            "\n",
            "        data_url = \"http://lib.stat.cmu.edu/datasets/boston\"\n",
            "        raw_df = pd.read_csv(data_url, sep=\"\\s+\", skiprows=22, header=None)\n",
            "        data = np.hstack([raw_df.values[::2, :], raw_df.values[1::2, :2]])\n",
            "        target = raw_df.values[1::2, 2]\n",
            "\n",
            "    Alternative datasets include the California housing dataset (i.e.\n",
            "    :func:`~sklearn.datasets.fetch_california_housing`) and the Ames housing\n",
            "    dataset. You can load the datasets as follows::\n",
            "\n",
            "        from sklearn.datasets import fetch_california_housing\n",
            "        housing = fetch_california_housing()\n",
            "\n",
            "    for the California housing dataset and::\n",
            "\n",
            "        from sklearn.datasets import fetch_openml\n",
            "        housing = fetch_openml(name=\"house_prices\", as_frame=True)\n",
            "\n",
            "    for the Ames housing dataset.\n",
            "    \n",
            "  warnings.warn(msg, category=FutureWarning)\n"
          ]
        }
      ],
      "source": [
        "from sklearn.datasets import load_boston\n",
        "from sklearn.model_selection import train_test_split\n",
        "\n",
        "dataset = load_boston()\n",
        "X_train, X_test, y_train, y_test = train_test_split(dataset.data, dataset.target, test_size = 0.25, random_state = 17)"
      ]
    },
    {
      "cell_type": "code",
      "source": [
        "tree = MyDecisionTreeRegressor(max_depth = 1)\n",
        "tree.fit(X_train, y_train)\n",
        "\n",
        "# Построение графика.\n",
        "# Определяем основные параметры.\n",
        "y_pred = tree.predict(X_train)\n",
        "x_val = X_train[:, tree.tree_.column]\n",
        "left = tree.tree_.left.prediction\n",
        "right = tree.tree_.right.prediction\n",
        "\n",
        "# Определяем значения для модели.\n",
        "x_model = [min(x_val), tree.tree_.threshold, tree.tree_.threshold, max(x_val)]\n",
        "y_model = [left, left, right, right]\n",
        "\n",
        "# Непосредственно построение.\n",
        "plt.scatter(x_val, y_train, label = \"train\", s = 10)\n",
        "plt.scatter(x_val, y_pred, label = \"pred\")\n",
        "\n",
        "plt.plot(x_model, y_model, label = \"model\", linewidth = 2, c = \"black\")\n",
        "\n",
        "plt.grid()\n",
        "plt.legend()\n",
        "plt.show()"
      ],
      "metadata": {
        "colab": {
          "base_uri": "https://localhost:8080/",
          "height": 265
        },
        "id": "hkRjOcuLAfZd",
        "outputId": "a2ec97af-9d62-41c7-a459-7ae862c7802a"
      },
      "execution_count": null,
      "outputs": [
        {
          "output_type": "display_data",
          "data": {
            "text/plain": [
              "<Figure size 432x288 with 1 Axes>"
            ],
            "image/png": "[encoded data removed]"
          },
          "metadata": {
            "needs_background": "light"
          }
        }
      ]
    },
    {
      "cell_type": "markdown",
      "metadata": {
        "id": "sSMbM195UkEH"
      },
      "source": [
        "### Task 5 <a id=\"task5\"></a>  (0.5 points)\n",
        "\n",
        "Keep working with boston dataset. \n",
        "- Use `GridSearchCV` to find the best hyperparameters among [`max_depth`, `min_samples_leaf`] on 5-Fold cross-validation\n",
        "- Train the model with the best set of hyperparameters on the whole train dataset. \n",
        "- Report `MAE` on test dataset and hyperparameters of the best estimator. "
      ]
    },
    {
      "cell_type": "code",
      "execution_count": null,
      "metadata": {
        "id": "J3lPp3cOUkEH",
        "colab": {
          "base_uri": "https://localhost:8080/"
        },
        "outputId": "7b5f1d70-6c9e-4960-a50f-eba30c66d410"
      },
      "outputs": [
        {
          "output_type": "execute_result",
          "data": {
            "text/plain": [
              "{'max_depth': 5, 'min_samples_leaf': 2}"
            ]
          },
          "metadata": {},
          "execution_count": 12
        }
      ],
      "source": [
        "from sklearn.model_selection import GridSearchCV\n",
        "\n",
        "params = {'max_depth': [1, 2, 5, 10], 'min_samples_leaf': [1, 2, 5, 10, 20, 50, 100]}\n",
        "gscv = GridSearchCV(MyDecisionTreeRegressor(), params, scoring = 'neg_mean_absolute_error', cv = 5, n_jobs=-1)\n",
        "gscv.fit(X_train, y_train)\n",
        "gscv.best_params_"
      ]
    },
    {
      "cell_type": "markdown",
      "source": [
        "Как мы видим, $GridSearchCV$ выдал в качестве лучшего набора параметров $max\\_depth=5$ и $min\\_samples\\_leaf=2$."
      ],
      "metadata": {
        "id": "tJMrHBEN0PYQ"
      }
    },
    {
      "cell_type": "code",
      "source": [
        "from sklearn.metrics import mean_absolute_error\n",
        "\n",
        "tree = MyDecisionTreeRegressor(**gscv.best_params_)\n",
        "tree.fit(X_train, y_train)\n",
        "\n",
        "# Построение графика.\n",
        "# Определяем основные параметры.\n",
        "y_pred = y_pred = tree.predict(X_train)\n",
        "x_val = X_train[:, tree.tree_.column]\n",
        "threshold = tree.tree_.threshold\n",
        "left = tree.tree_.left.prediction\n",
        "right = tree.tree_.right.prediction\n",
        "\n",
        "# Непосредственно построение.\n",
        "plt.scatter(x_val, y_train, label = \"actual\", s = 10)\n",
        "plt.scatter(x_val, y_pred, label = \"predicted\")\n",
        "plt.grid()\n",
        "plt.legend()\n",
        "plt.show()\n",
        "\n",
        "# Отчет по MAE.\n",
        "mae = mean_absolute_error(y_test, tree.predict(X_test))\n",
        "print(\"MAE = \", mae)"
      ],
      "metadata": {
        "colab": {
          "base_uri": "https://localhost:8080/",
          "height": 282
        },
        "id": "k2ojMpG10hZZ",
        "outputId": "74d54ee1-e917-4e24-f0dd-a5b539a87fbb"
      },
      "execution_count": null,
      "outputs": [
        {
          "output_type": "display_data",
          "data": {
            "text/plain": [
              "<Figure size 432x288 with 1 Axes>"
            ],
            "image/png": "[encoded data removed]"
          },
          "metadata": {
            "needs_background": "light"
          }
        },
        {
          "output_type": "stream",
          "name": "stdout",
          "text": [
            "MAE =  2.780701343906459\n"
          ]
        }
      ]
    },
    {
      "cell_type": "markdown",
      "metadata": {
        "id": "zye21NWUUkEH"
      },
      "source": [
        "### Task 6 <a id=\"task6\"></a>  (2 points)\n",
        "\n",
        "Recall definition of bias and variance:\n",
        "$$\n",
        "\\text{Bias}^2 = \\mathbb{E}_{p(x, y)} \\left[  (f(x) - \\mathbb{E}_{\\mathbb{X}}a_{\\mathbb{X}}(x))^2 \\right] \\\\\n",
        "\\text{Variance} = \\mathbb{E}_{p(x, y)} \\left[  \\mathbb{V}_{\\mathbb{X}}( a_{\\mathbb{X}}(x))  \\right]\n",
        "$$\n",
        "\n",
        "We wil now use use the following algorithm to estimate bias and variance:\n",
        "\n",
        "1. Use bootsrap to create `n_iter` samples from the original dataset: $X_1, \\dots, X_{n_iter}$\n",
        "2. For each bootstrapped sample define out-of-bag (OOB) sample $Z_1, \\dots, Z_{n_iter}$, which contain all the observations, which did not appear in the corresponding boostraped sample\n",
        "3. Fit the model on $X_i$s and compute predictions on $Z_i$s\n",
        "4. For a given *object* $n$:\n",
        "     - bias^2: squared difference between true value $y_n$ and average prediction (average over the algorithms, for which $n$ was in OOB)\n",
        "     - variance: variance of the prediction (predictions of the algorithms, for which $n$ was in OOB)\n",
        "5. Average bias^2 and variance over all the points\n",
        "    \n",
        "**Implement `get_bias_variance` function, using the algorithm above**\n",
        "\n",
        "*Note:*  You can only use 1 loop (for bootsrap iterations). All other operations should be vectorized. "
      ]
    },
    {
      "cell_type": "code",
      "execution_count": null,
      "metadata": {
        "id": "sOcAgsA5UkEI"
      },
      "outputs": [],
      "source": [
        "def get_bias_variance(estimator, x, y, n_iter):\n",
        "    \"\"\" \n",
        "    Calculate bias and variance of the `estimator`. \n",
        "    Using a given dataset and bootstrap with `n_iter` samples. \n",
        "\n",
        "    Parameters\n",
        "    ----------\n",
        "    x : ndarray, shape (n_samples, n_features)\n",
        "        The input samples.\n",
        "    y : ndarray, shape (n_samples, n_features)\n",
        "        The input samples.\n",
        "    n_iter: int\n",
        "        Number of samples in \n",
        "    Returns\n",
        "    -------\n",
        "    bias2 : float, \n",
        "        Estiamted squared bias\n",
        "    variance : float, \n",
        "        Estiamted variance\n",
        "    \"\"\"\n",
        "    \n",
        "    size = x.shape[0]\n",
        "    prediction = np.full((size, n_iter), np.nan)\n",
        "    \n",
        "    for index in range(n_iter):\n",
        "      generated = np.random.choice(size, size)\n",
        "      invers = np.full(size, True)\n",
        "      invers[generated] = False\n",
        "\n",
        "      # Используем заданный эстиматор.\n",
        "      estimator.fit(x[generated, :], y[generated])\n",
        "      pred = estimator.predict(x[invers, :])\n",
        "      prediction[invers, index] = pred\n",
        "\n",
        "    # Вычисление требуемых параметров.\n",
        "    bias2 = np.nanmean((np.nanmean(prediction, axis = 1) - y_train) ** 2)\n",
        "    variance = np.nanmean(np.nanvar(prediction, axis = 1))\n",
        "\n",
        "    return bias2, variance"
      ]
    },
    {
      "cell_type": "markdown",
      "source": [
        "Код ниже выдает $warnings$, которые не влияют на результат, поэтому можем их игнорировать. Эти же предупреждения будут возникать и в следующих номерах, но в этом нет ничего страшного. Триггером является функция $get\\_bias\\_variance()$."
      ],
      "metadata": {
        "id": "MKsCdQCH6q9p"
      }
    },
    {
      "cell_type": "code",
      "execution_count": null,
      "metadata": {
        "id": "VYlJ2X86UkEI",
        "colab": {
          "base_uri": "https://localhost:8080/"
        },
        "outputId": "b11e0140-a01f-484e-876d-52943c6b8a21"
      },
      "outputs": [
        {
          "output_type": "stream",
          "name": "stderr",
          "text": [
            "/usr/local/lib/python3.7/dist-packages/ipykernel_launcher.py:34: RuntimeWarning: Mean of empty slice\n",
            "/usr/local/lib/python3.7/dist-packages/ipykernel_launcher.py:35: RuntimeWarning: Degrees of freedom <= 0 for slice.\n"
          ]
        },
        {
          "output_type": "execute_result",
          "data": {
            "text/plain": [
              "(22.864950089437226, 9.178855753185896)"
            ]
          },
          "metadata": {},
          "execution_count": 12
        }
      ],
      "source": [
        "# Test\n",
        "np.random.seed(8)\n",
        "\n",
        "estimator = MyDecisionTreeRegressor(max_depth=8, min_samples_split=15)\n",
        "\n",
        "get_bias_variance(estimator, X_train, y_train, 10)"
      ]
    },
    {
      "cell_type": "markdown",
      "metadata": {
        "id": "DdBM1KmDUkEJ"
      },
      "source": [
        "### Task 7 <a id=\"task7\"></a>  (0.5 points)\n",
        "\n",
        "Compute bias and variance for the trees with different min_samples_split. Plot how bias and variance change as min_samples_split increases. \n",
        "\n",
        "Comment on what you observe, how does your result correspond to theory?"
      ]
    },
    {
      "cell_type": "code",
      "execution_count": null,
      "metadata": {
        "id": "aYG8Ocz0UkEJ",
        "colab": {
          "base_uri": "https://localhost:8080/"
        },
        "outputId": "ef62ec3d-e607-434b-9908-52d8e67c108e"
      },
      "outputs": [
        {
          "output_type": "stream",
          "name": "stderr",
          "text": [
            "/usr/local/lib/python3.7/dist-packages/ipykernel_launcher.py:34: RuntimeWarning: Mean of empty slice\n",
            "/usr/local/lib/python3.7/dist-packages/ipykernel_launcher.py:35: RuntimeWarning: Degrees of freedom <= 0 for slice.\n",
            "/usr/local/lib/python3.7/dist-packages/ipykernel_launcher.py:34: RuntimeWarning: Mean of empty slice\n",
            "/usr/local/lib/python3.7/dist-packages/ipykernel_launcher.py:35: RuntimeWarning: Degrees of freedom <= 0 for slice.\n",
            "/usr/local/lib/python3.7/dist-packages/ipykernel_launcher.py:34: RuntimeWarning: Mean of empty slice\n",
            "/usr/local/lib/python3.7/dist-packages/ipykernel_launcher.py:35: RuntimeWarning: Degrees of freedom <= 0 for slice.\n",
            "/usr/local/lib/python3.7/dist-packages/ipykernel_launcher.py:34: RuntimeWarning: Mean of empty slice\n",
            "/usr/local/lib/python3.7/dist-packages/ipykernel_launcher.py:35: RuntimeWarning: Degrees of freedom <= 0 for slice.\n",
            "/usr/local/lib/python3.7/dist-packages/ipykernel_launcher.py:34: RuntimeWarning: Mean of empty slice\n",
            "/usr/local/lib/python3.7/dist-packages/ipykernel_launcher.py:35: RuntimeWarning: Degrees of freedom <= 0 for slice.\n",
            "/usr/local/lib/python3.7/dist-packages/ipykernel_launcher.py:34: RuntimeWarning: Mean of empty slice\n",
            "/usr/local/lib/python3.7/dist-packages/ipykernel_launcher.py:35: RuntimeWarning: Degrees of freedom <= 0 for slice.\n",
            "/usr/local/lib/python3.7/dist-packages/ipykernel_launcher.py:34: RuntimeWarning: Mean of empty slice\n",
            "/usr/local/lib/python3.7/dist-packages/ipykernel_launcher.py:35: RuntimeWarning: Degrees of freedom <= 0 for slice.\n",
            "/usr/local/lib/python3.7/dist-packages/ipykernel_launcher.py:34: RuntimeWarning: Mean of empty slice\n",
            "/usr/local/lib/python3.7/dist-packages/ipykernel_launcher.py:35: RuntimeWarning: Degrees of freedom <= 0 for slice.\n",
            "/usr/local/lib/python3.7/dist-packages/ipykernel_launcher.py:34: RuntimeWarning: Mean of empty slice\n",
            "/usr/local/lib/python3.7/dist-packages/ipykernel_launcher.py:35: RuntimeWarning: Degrees of freedom <= 0 for slice.\n",
            "/usr/local/lib/python3.7/dist-packages/ipykernel_launcher.py:34: RuntimeWarning: Mean of empty slice\n",
            "/usr/local/lib/python3.7/dist-packages/ipykernel_launcher.py:35: RuntimeWarning: Degrees of freedom <= 0 for slice.\n"
          ]
        },
        {
          "output_type": "execute_result",
          "data": {
            "text/plain": [
              "array([[24.86298541,  7.55196738],\n",
              "       [20.6602207 ,  7.45582475],\n",
              "       [25.28964311,  8.24700572],\n",
              "       [26.45049125,  6.03829791],\n",
              "       [22.07130604,  9.09342021],\n",
              "       [23.22227692,  6.11668989],\n",
              "       [21.86673771, 10.18260017],\n",
              "       [22.20976924,  5.74858381],\n",
              "       [22.84417747,  4.70733239],\n",
              "       [24.13373677,  6.91950278]])"
            ]
          },
          "metadata": {},
          "execution_count": 9
        }
      ],
      "source": [
        "np.random.seed(8)\n",
        "\n",
        "min_samples = np.arange(2, 21, 2)\n",
        "bias_variance = np.array([get_bias_variance(MyDecisionTreeRegressor(min_samples_split = split), X_train, y_train, 10) for split in min_samples])\n",
        "bias_variance"
      ]
    },
    {
      "cell_type": "code",
      "source": [
        "plt.xlabel('min_samples_split')\n",
        "plt.ylabel('parameters')\n",
        "\n",
        "plt.plot(min_samples, bias_variance[:, 0], color = 'green', label = 'bias')\n",
        "plt.plot(min_samples, bias_variance[:, 1], color = 'red', label = 'variance')\n",
        "\n",
        "plt.legend()\n",
        "plt.grid()\n",
        "plt.show()"
      ],
      "metadata": {
        "colab": {
          "base_uri": "https://localhost:8080/",
          "height": 280
        },
        "id": "9iEbkC76flLi",
        "outputId": "37b12801-d0af-4b00-ed79-ac720f8d9fa0"
      },
      "execution_count": null,
      "outputs": [
        {
          "output_type": "display_data",
          "data": {
            "text/plain": [
              "<Figure size 432x288 with 1 Axes>"
            ],
            "image/png": "[encoded data removed]"
          },
          "metadata": {
            "needs_background": "light"
          }
        }
      ]
    },
    {
      "cell_type": "markdown",
      "metadata": {
        "id": "raYaVF2FUkEK"
      },
      "source": [
        "На графике видно, что обе величины ведут себя достаточно хаотично с увеличением $min\\_samples\\_split$. В теории величина $variance$ должна уменьшаться, на выбранном участке значений эта тенденция хоть и не особо, но видна при сравнении начальной и конечной точек на графике. Величина $bias$ должна увеличиваться, на графике дейсвительно присутствует момент пикового роста, однако после него случилось резкое падение, из-за чего конечная точка все-таки ниже начальной. Но можно предположить, что при более длительном росте $min\\_samples\\_split$ тенденция роста $bias$ была бы отчетлива."
      ]
    },
    {
      "cell_type": "markdown",
      "metadata": {
        "id": "bCbT0Fe5UkEK"
      },
      "source": [
        "### Task 8 <a id=\"task8\"></a>  (0.5 points)\n",
        "\n",
        "Let's try to reduce variance with bagging. Use `sklearn.ensemble.BaggingRegressor` to get an ensemble and compute its bias and variance. \n",
        "\n",
        "Answer the following questions:\n",
        " - How bagging should affect bias and variance in theory?\n",
        " - How bias and variance change (if they change) compared to an individual tree in you experiments? \n",
        " - Do your results align with the theory? Why?"
      ]
    },
    {
      "cell_type": "code",
      "execution_count": null,
      "metadata": {
        "id": "i_by7qVFUkEL",
        "colab": {
          "base_uri": "https://localhost:8080/"
        },
        "outputId": "e3932b0f-8e49-4443-d266-a86d040d2b86"
      },
      "outputs": [
        {
          "output_type": "stream",
          "name": "stderr",
          "text": [
            "/usr/local/lib/python3.7/dist-packages/ipykernel_launcher.py:34: RuntimeWarning: Mean of empty slice\n",
            "/usr/local/lib/python3.7/dist-packages/ipykernel_launcher.py:35: RuntimeWarning: Degrees of freedom <= 0 for slice.\n"
          ]
        },
        {
          "output_type": "execute_result",
          "data": {
            "text/plain": [
              "(19.5128733431072, 2.1059227087443273)"
            ]
          },
          "metadata": {},
          "execution_count": 23
        }
      ],
      "source": [
        "from sklearn.ensemble import BaggingRegressor\n",
        "\n",
        "bagging = BaggingRegressor(MyDecisionTreeRegressor(min_samples_split=10), random_state = 8)\n",
        "get_bias_variance(bagging, X_train, y_train, 10)"
      ]
    },
    {
      "cell_type": "markdown",
      "metadata": {
        "id": "bXOwMiVOUkEL"
      },
      "source": [
        "Сравним с результатами для $min\\_samples\\_split=10,$ одним из варинатов прошлого задания, для которого $bias=22.07, variance=9.09$. Как мы видим, значение $variance$ уменьшилось более чем в 4 раза, что и должно было произойти в теории при применении $BaggingRegressor$. Значение $bias$ незначительно уменьшилось, в теории оно может совсем немного измениться, так что можно сказать, что результат соответствует. "
      ]
    }
  ],
  "metadata": {
    "kernelspec": {
      "display_name": "Python 3 (ipykernel)",
      "language": "python",
      "name": "python3"
    },
    "language_info": {
      "codemirror_mode": {
        "name": "ipython",
        "version": 3
      },
      "file_extension": ".py",
      "mimetype": "text/x-python",
      "name": "python",
      "nbconvert_exporter": "python",
      "pygments_lexer": "ipython3",
      "version": "3.7.12"
    },
    "colab": {
      "provenance": []
    }
  },
  "nbformat": 4,
  "nbformat_minor": 0
}